{
 "cells": [
  {
   "cell_type": "code",
   "execution_count": 1,
   "metadata": {},
   "outputs": [],
   "source": [
    "import numpy as np\n",
    "import pandas as pd\n",
    "import os\n",
    "import matplotlib.pyplot as plt\n",
    "import time\n",
    "import datetime\n",
    "from queue import Queue\n",
    "from collections import deque\n",
    "from scipy.stats import norm\n",
    "from itertools import accumulate\n",
    "import numpy.polynomial.polynomial as poly\n",
    "from scipy.integrate import quad \n",
    "\n",
    "from utils import parse_date,determine_R0,return_polyfit,decay_to_max,unwrap_projections,unwrap_daily_projections\n",
    "from generators import advanced_projector,infection_projector,daily_projector\n",
    "\n",
    "%matplotlib inline\n",
    "plt.style.use('fivethirtyeight')"
   ]
  },
  {
   "cell_type": "code",
   "execution_count": 2,
   "metadata": {},
   "outputs": [
    {
     "name": "stdout",
     "output_type": "stream",
     "text": [
      "[1 2 5] [1 2 1]\n"
     ]
    }
   ],
   "source": [
    "group = np.array([1,2,2,5])\n",
    "uniques,counts = np.lib.arraysetops.unique(group,return_counts=True)\n",
    "print(uniques,counts)"
   ]
  },
  {
   "cell_type": "code",
   "execution_count": 13,
   "metadata": {},
   "outputs": [
    {
     "name": "stdout",
     "output_type": "stream",
     "text": [
      "[27.0, 31.5, 30.0, 25.0, 30.0] [74.07407407407408, 4.761904761904762, 23.333333333333332, 40.0, 16.666666666666664] [18.51851851851852, 47.61904761904761, 16.666666666666664, 40.0, 50.0]\n"
     ]
    }
   ],
   "source": [
    "r = [0,1,2,3,4]\n",
    "raw_data = {'greenBars': [20, 1.5, 7, 10, 5], 'orangeBars': [5, 15, 5, 10, 15],'blueBars': [2, 15, 18, 5, 10]}\n",
    "df = pd.DataFrame(raw_data)\n",
    " \n",
    "# From raw value to percentage\n",
    "totals = [i+j+k for i,j,k in zip(df['greenBars'], df['orangeBars'], df['blueBars'])]\n",
    "greenBars = [i / j * 100 for i,j in zip(df['greenBars'], totals)]\n",
    "orangeBars = [i / j * 100 for i,j in zip(df['orangeBars'], totals)]\n",
    "blueBars = [i / j * 100 for i,j in zip(df['blueBars'], totals)]\n",
    "# print(totals,greenBars,orangeBars)\n",
    "# plot\n",
    "# barWidth = 0.85\n",
    "# names = ('A','B','C','D','E')\n",
    "# # Create green Bars\n",
    "# plt.bar(r, greenBars, color='#b5ffb9', edgecolor='white', width=barWidth)\n",
    "# # Create orange Bars\n",
    "# plt.bar(r, orangeBars, bottom=greenBars, color='#f9bc86', edgecolor='white', width=barWidth)\n",
    "# # Create blue Bars\n",
    "# plt.bar(r, blueBars, bottom=[i+j for i,j in zip(greenBars, orangeBars)], color='#a3acff', edgecolor='white', width=barWidth)\n",
    " \n",
    "# # Custom x axis\n",
    "# plt.xticks(r, names)\n",
    "# plt.xlabel(\"group\")\n",
    " \n",
    "# # Show graphic\n",
    "# plt.show()\n"
   ]
  },
  {
   "cell_type": "markdown",
   "metadata": {},
   "source": [
    "# Plotting functions"
   ]
  },
  {
   "cell_type": "code",
   "execution_count": 2,
   "metadata": {},
   "outputs": [],
   "source": [
    "def plot_totals(cases,deaths=None):\n",
    "    epochs = range(1,len(cases)+1)\n",
    "    _, ax = plt.subplots()\n",
    "    ax.plot(epochs,cases,'g',label=\"Confirmed Cases\")\n",
    "    if deaths:\n",
    "        ax.plot(epochs,deaths,'m',label=\"Deaths\")\n",
    "    ax.set_title('Covid19')\n",
    "    ax.set_xlabel('Days')\n",
    "    ax.set_ylabel('Cases')\n",
    "    ax.legend()\n",
    "    plt.show()\n",
    "    # plt.savefig('assets/Covid19',bbox_inches='tight')\n",
    "    # plt.close()\n",
    "    \n",
    "def detailed_plot(values,labels,show=False):\n",
    "    colors = ['b','g','r','c','m','y','lightblue','lightgreen','gray','teal']\n",
    "    for i,label in enumerate(labels):\n",
    "        epochs = range(1,len(values[label])+1)\n",
    "        plt.plot(epochs,values[label],colors[i],label=f\"{label}\")\n",
    "        plt.title('Covid19')\n",
    "        plt.xlabel('Days')\n",
    "        plt.ylabel('Cases')\n",
    "        plt.legend()\n",
    "    if show:\n",
    "        plt.show()"
   ]
  },
  {
   "cell_type": "markdown",
   "metadata": {},
   "source": [
    "# Data paths\n",
    "\n",
    "Data gathered by download_datasets.sh"
   ]
  },
  {
   "cell_type": "code",
   "execution_count": 3,
   "metadata": {},
   "outputs": [],
   "source": [
    "general_path = 'novel-corona-virus-2019-dataset'\n",
    "korea_path = 'coronavirusdataset'\n",
    "USA_path = 'covid19-in-usa'\n",
    "Italy_path = 'covid19-in-italy'\n",
    "coronavirusapi_States_path = 'states.csv'\n",
    "coronavirusapi_USA_path = 'time_series.csv'\n",
    "covidtracking_States_path = 'states_daily.csv'\n",
    "covidtracking_USA_path = 'us_daily.csv'"
   ]
  },
  {
   "cell_type": "code",
   "execution_count": 4,
   "metadata": {},
   "outputs": [],
   "source": [
    "korea_timeline = os.path.join(korea_path,'Time.csv')\n",
    "general_timeline = os.path.join(general_path,'time_series_covid_19_confirmed.csv')\n",
    "USA_1 = os.path.join(USA_path,'us_covid19_daily.csv')\n",
    "USA_2 = os.path.join(USA_path,'us_states_covid19_daily.csv')\n",
    "italy_file = os.path.join(Italy_path,'covid19_italy_region.csv')\n",
    "italy_file2 = os.path.join(Italy_path,'covid19_italy_province.csv')"
   ]
  },
  {
   "cell_type": "code",
   "execution_count": 5,
   "metadata": {},
   "outputs": [],
   "source": [
    "korea_df = pd.read_csv(korea_timeline)\n",
    "general_df = pd.read_csv(general_timeline)\n",
    "USA_1df = pd.read_csv(USA_1)\n",
    "USA_2df = pd.read_csv(USA_2)\n",
    "italy_df = pd.read_csv(italy_file)\n",
    "italy_df2 = pd.read_csv(italy_file2)\n",
    "coronavirusapi_States_df = pd.read_csv(coronavirusapi_States_path)\n",
    "coronavirusapi_USA_df = pd.read_csv(coronavirusapi_USA_path)\n",
    "covidtracking_States_df = pd.read_csv(covidtracking_States_path)\n",
    "covidtracking_USA_df = pd.read_csv(covidtracking_USA_path)\n",
    "USA_testing_df = pd.read_csv(coronavirusapi_USA_path)"
   ]
  },
  {
   "cell_type": "code",
   "execution_count": 6,
   "metadata": {},
   "outputs": [],
   "source": [
    "Italy = general_df[general_df['Country/Region'] == 'Italy']\n",
    "US = general_df[general_df['Country/Region'] == 'US']"
   ]
  },
  {
   "cell_type": "code",
   "execution_count": 7,
   "metadata": {},
   "outputs": [
    {
     "data": {
      "text/html": [
       "<div>\n",
       "<style scoped>\n",
       "    .dataframe tbody tr th:only-of-type {\n",
       "        vertical-align: middle;\n",
       "    }\n",
       "\n",
       "    .dataframe tbody tr th {\n",
       "        vertical-align: top;\n",
       "    }\n",
       "\n",
       "    .dataframe thead th {\n",
       "        text-align: right;\n",
       "    }\n",
       "</style>\n",
       "<table border=\"1\" class=\"dataframe\">\n",
       "  <thead>\n",
       "    <tr style=\"text-align: right;\">\n",
       "      <th></th>\n",
       "      <th>date</th>\n",
       "      <th>states</th>\n",
       "      <th>positive</th>\n",
       "      <th>negative</th>\n",
       "      <th>posNeg</th>\n",
       "      <th>pending</th>\n",
       "      <th>hospitalized</th>\n",
       "      <th>death</th>\n",
       "      <th>total</th>\n",
       "    </tr>\n",
       "  </thead>\n",
       "  <tbody>\n",
       "    <tr>\n",
       "      <th>15</th>\n",
       "      <td>20200319</td>\n",
       "      <td>56</td>\n",
       "      <td>11723</td>\n",
       "      <td>89119</td>\n",
       "      <td>100842</td>\n",
       "      <td>3025</td>\n",
       "      <td>NaN</td>\n",
       "      <td>160.0</td>\n",
       "      <td>103867</td>\n",
       "    </tr>\n",
       "    <tr>\n",
       "      <th>16</th>\n",
       "      <td>20200320</td>\n",
       "      <td>56</td>\n",
       "      <td>17038</td>\n",
       "      <td>118147</td>\n",
       "      <td>135185</td>\n",
       "      <td>3336</td>\n",
       "      <td>NaN</td>\n",
       "      <td>219.0</td>\n",
       "      <td>138521</td>\n",
       "    </tr>\n",
       "    <tr>\n",
       "      <th>17</th>\n",
       "      <td>20200321</td>\n",
       "      <td>56</td>\n",
       "      <td>23203</td>\n",
       "      <td>155909</td>\n",
       "      <td>179112</td>\n",
       "      <td>3477</td>\n",
       "      <td>1964.0</td>\n",
       "      <td>322.0</td>\n",
       "      <td>182589</td>\n",
       "    </tr>\n",
       "    <tr>\n",
       "      <th>18</th>\n",
       "      <td>20200322</td>\n",
       "      <td>56</td>\n",
       "      <td>31888</td>\n",
       "      <td>193463</td>\n",
       "      <td>225351</td>\n",
       "      <td>2842</td>\n",
       "      <td>2554.0</td>\n",
       "      <td>398.0</td>\n",
       "      <td>228216</td>\n",
       "    </tr>\n",
       "    <tr>\n",
       "      <th>19</th>\n",
       "      <td>20200323</td>\n",
       "      <td>56</td>\n",
       "      <td>42164</td>\n",
       "      <td>237321</td>\n",
       "      <td>279485</td>\n",
       "      <td>14571</td>\n",
       "      <td>2664.0</td>\n",
       "      <td>471.0</td>\n",
       "      <td>294056</td>\n",
       "    </tr>\n",
       "  </tbody>\n",
       "</table>\n",
       "</div>"
      ],
      "text/plain": [
       "        date  states  positive  negative  posNeg  pending  hospitalized  \\\n",
       "15  20200319      56     11723     89119  100842     3025           NaN   \n",
       "16  20200320      56     17038    118147  135185     3336           NaN   \n",
       "17  20200321      56     23203    155909  179112     3477        1964.0   \n",
       "18  20200322      56     31888    193463  225351     2842        2554.0   \n",
       "19  20200323      56     42164    237321  279485    14571        2664.0   \n",
       "\n",
       "    death   total  \n",
       "15  160.0  103867  \n",
       "16  219.0  138521  \n",
       "17  322.0  182589  \n",
       "18  398.0  228216  \n",
       "19  471.0  294056  "
      ]
     },
     "execution_count": 7,
     "metadata": {},
     "output_type": "execute_result"
    }
   ],
   "source": [
    "covidtracking_USA_df.tail()"
   ]
  },
  {
   "cell_type": "markdown",
   "metadata": {},
   "source": [
    "# Extend testing data"
   ]
  },
  {
   "cell_type": "code",
   "execution_count": 8,
   "metadata": {},
   "outputs": [
    {
     "name": "stdout",
     "output_type": "stream",
     "text": [
      "0.14289994297181863\n"
     ]
    }
   ],
   "source": [
    "unique_dates = USA_testing_df['date'].unique()\n",
    "tests_preformed = []\n",
    "tests_positive = []\n",
    "for date in unique_dates:\n",
    "    rows = USA_testing_df[USA_testing_df['date'] == date]\n",
    "    tests_preformed.append(rows['tested'].values[-1])\n",
    "    tests_positive.append(rows['positive'].values[-1])\n",
    "data_dict = {'dates':unique_dates,'tested':tests_preformed,'positive': tests_positive}\n",
    "df_us_tests = pd.DataFrame.from_dict(data_dict)\n",
    "df_us_tests['ratio'] = df_us_tests['positive'] / df_us_tests['tested']\n",
    "print(df_us_tests['ratio'].mean())"
   ]
  },
  {
   "cell_type": "code",
   "execution_count": 9,
   "metadata": {},
   "outputs": [
    {
     "name": "stdout",
     "output_type": "stream",
     "text": [
      "X1,Y1 (5, 4751.0)\n",
      "X2,Y2 (13, 37256.0)\n"
     ]
    }
   ],
   "source": [
    "X1 = 5\n",
    "Y1 = np.gradient(df_us_tests['tested'].values)[X1]\n",
    "X2 = 13\n",
    "Y2 = np.gradient(df_us_tests['tested'].values)[X2]\n",
    "points = [(X1,Y1),(X2,Y2)]\n",
    "degree = 3\n",
    "\n",
    "print(f'X1,Y1 {X1,Y1}')\n",
    "print(f'X2,Y2 {X2,Y2}')\n",
    "test_base,A_factor = determine_R0(points)"
   ]
  },
  {
   "cell_type": "code",
   "execution_count": 10,
   "metadata": {},
   "outputs": [
    {
     "name": "stdout",
     "output_type": "stream",
     "text": [
      "last_point 134959.42569438403 new_point 142479.71284719202\n"
     ]
    },
    {
     "name": "stderr",
     "output_type": "stream",
     "text": [
      "/Users/morgan/Code/Covid19/utils.py:37: RankWarning: The fit may be poorly conditioned\n",
      "  coefs = poly.polyfit(x, y, degree)\n"
     ]
    },
    {
     "data": {
      "text/plain": [
       "[<matplotlib.lines.Line2D at 0x1a1c346400>]"
      ]
     },
     "execution_count": 10,
     "metadata": {},
     "output_type": "execute_result"
    },
    {
     "data": {
      "image/png": "[encoded data removed]",
      "text/plain": [
       "<Figure size 432x288 with 1 Axes>"
      ]
     },
     "metadata": {
      "needs_background": "light"
     },
     "output_type": "display_data"
    }
   ],
   "source": [
    "line,coefs = return_polyfit(np.array([X1,X2]),np.array([Y1,Y2]),degree)\n",
    "max_daily_tests = 150*1e+3\n",
    "Ys = np.power(test_base,np.arange(19))*A_factor\n",
    "end_ys = decay_to_max(max_daily_tests,Ys[-1],61)\n",
    "\n",
    "projected_tests = np.concatenate([Ys,end_ys])\n",
    "plt.plot(projected_tests)"
   ]
  },
  {
   "cell_type": "markdown",
   "metadata": {},
   "source": [
    "# USA projections"
   ]
  },
  {
   "cell_type": "code",
   "execution_count": 269,
   "metadata": {},
   "outputs": [],
   "source": [
    "def continuous_R0(initial_population,R0,days):\n",
    "    '''\n",
    "    returns cases on a per asymptomatic_period\n",
    "    '''\n",
    "    return np.power(R0,days) * initial_population\n",
    "    \n",
    "def generate_active_cases(params):\n",
    "    population,R0,asymptomatic_period,inflection_point,base_R0,traveler_cases,down_cycles = params.values()\n",
    "    active_cases = continuous_R0(population,R0,np.linspace(0,inflection_point,inflection_point*asymptomatic_period))\n",
    "    down_start = inflection_point*asymptomatic_period\n",
    "    down_end = (down_cycles*asymptomatic_period)\n",
    "    down_cases = np.zeros(down_end)\n",
    "    active_cases = np.concatenate([active_cases,down_cases])\n",
    "    day = 1 / asymptomatic_period\n",
    "    for i in range(down_start,down_end+down_start):\n",
    "        active_cases[i] = continuous_R0(active_cases[i-1],R0,day)\n",
    "        R0 += (base_R0 - R0) / 2\n",
    "        R0 = max(R0,base_R0)\n",
    "    return active_cases\n",
    "\n",
    "def integrate(R0,initial_population,asymptomatic_period,xmin,xmax):\n",
    "    def func(x):\n",
    "        return np.power(R0,x) * initial_population\n",
    "    res, err = quad(func, xmin, xmax) \n",
    "    print ('norm: ', res,err)\n",
    "    \n",
    "def general_integration(points,bins):\n",
    "    indexes = np.linspace(0,len(points),bins)\n",
    "    for i,index in enumerate(indexes):\n",
    "        \n",
    "    \n",
    "\n",
    "# def integrate(active_cases,asymptomatic_period):\n",
    "#     total_cases = np.zeros(len(active_cases))\n",
    "#     total_cases[0] = active_cases[0]\n",
    "#     for i in range(1,len(active_cases)):\n",
    "#         total_cases[i] = active_cases[i] - active_cases[i-1]\n",
    "#     return total_cases\n",
    "\n",
    "def generate_hospitalizations(active_cases,hospitalization_rate,hospital_days):\n",
    "    hospitalized_patients = deque(maxlen=hospital_days)\n",
    "    hospitalizations = np.zeros(len(active_cases))\n",
    "    for i,cases in enumerate(active_cases):\n",
    "        hospitalized_patients.append(cases * hospitalization_rate)\n",
    "        hospitalizations[i] = sum(hospitalized_patients)\n",
    "    return hospitalizations"
   ]
  },
  {
   "cell_type": "markdown",
   "metadata": {},
   "source": [
    "## Initial assumptions"
   ]
  },
  {
   "cell_type": "code",
   "execution_count": 265,
   "metadata": {},
   "outputs": [],
   "source": [
    "population = 1\n",
    "R0 = 2.3\n",
    "asymptomatic_period = 5\n",
    "inflection_point = 10 # of cycles since to Jan 24 to March 16\n",
    "R0_reduction = 0.9\n",
    "base_R0 = 0.90\n",
    "daily_traveler_cases = 50\n",
    "pos_rate = 0.14\n",
    "hospital_days = 14\n",
    "hospitalization_rate = 0.05\n",
    "\n",
    "daily_params = {\n",
    "        'population':population,\n",
    "        'R0':R0,\n",
    "        'asymptomatic_period':asymptomatic_period,\n",
    "        'inflection_point':inflection_point,\n",
    "        'base_R0':base_R0,\n",
    "        'traveler_cases':daily_traveler_cases,\n",
    "        'down_cycles':20\n",
    "         }"
   ]
  },
  {
   "cell_type": "code",
   "execution_count": 271,
   "metadata": {},
   "outputs": [
    {
     "name": "stdout",
     "output_type": "stream",
     "text": [
      "norm:  1.4648534623191457e+18 112180.26611328125\n"
     ]
    }
   ],
   "source": [
    "t = np.array([1.00000000e+00, 1.18528287e+00, 1.40489548e+00, 1.66519854e+00,\n",
    "       1.97373130e+00, 2.33942990e+00])\n",
    "integrate(R0,population,asymptomatic_period,0,50)"
   ]
  },
  {
   "cell_type": "markdown",
   "metadata": {},
   "source": [
    "# Generate predictions"
   ]
  },
  {
   "cell_type": "code",
   "execution_count": 246,
   "metadata": {},
   "outputs": [],
   "source": [
    "active_cases = generate_active_cases(daily_params)\n",
    "total_cases = integrate(active_cases,asymptomatic_period)\n",
    "hospitalizations = generate_hospitalizations(active_cases,hospitalization_rate,hospital_days)\n",
    "daily_hospitalizations = np.gradient(hospitalizations)\n",
    "projected_values = [active_cases,total_cases,daily_hospitalizations,hospitalizations,np.gradient(projected_tests),projected_tests]\n",
    "projection_labels = ('active_cases','total_cases','daily_hospitalizations','hospitalizations','daily_tests','total_tests')\n"
   ]
  },
  {
   "cell_type": "code",
   "execution_count": 247,
   "metadata": {},
   "outputs": [],
   "source": [
    "\n",
    "projection_combined = {projection_labels[i]:projected_values[i] for i in range(len(projection_labels))}"
   ]
  },
  {
   "cell_type": "code",
   "execution_count": 248,
   "metadata": {},
   "outputs": [
    {
     "data": {
      "text/plain": [
       "array([1.00000000e+00, 1.18528287e+00, 1.40489548e+00, 1.66519854e+00,\n",
       "       1.97373130e+00, 2.33942990e+00, 2.77288619e+00, 3.28665449e+00,\n",
       "       3.89561526e+00, 4.61740603e+00, 5.47293227e+00, 6.48697286e+00,\n",
       "       7.68889780e+00, 9.11351884e+00, 1.08020977e+01, 1.28035414e+01,\n",
       "       1.51758183e+01, 1.79876374e+01, 2.13204385e+01, 2.52707505e+01,\n",
       "       2.99529876e+01, 3.55027631e+01, 4.20808169e+01, 4.98776713e+01,\n",
       "       5.91191493e+01, 7.00729149e+01, 8.30562256e+01, 9.84451213e+01,\n",
       "       1.16685316e+02, 1.38305106e+02, 1.63930673e+02, 1.94304218e+02,\n",
       "       2.30305461e+02, 2.72977117e+02, 3.23555100e+02, 3.83504317e+02,\n",
       "       4.54561097e+02, 5.38783481e+02, 6.38610830e+02, 7.56934476e+02,\n",
       "       8.97181467e+02, 1.06341382e+03, 1.26044619e+03, 1.49398527e+03,\n",
       "       1.77079515e+03, 2.09889315e+03, 2.48778210e+03, 2.94872550e+03,\n",
       "       3.49507382e+03, 4.14265112e+03, 4.89354884e+03, 5.37585968e+03,\n",
       "       5.62121151e+03, 5.70310831e+03, 5.68877871e+03, 5.62328938e+03,\n",
       "       5.53254354e+03, 5.43028417e+03, 5.32349990e+03, 5.21565968e+03,\n",
       "       5.10845527e+03, 5.00269522e+03, 4.89875283e+03, 4.79678796e+03,\n",
       "       4.69685626e+03, 4.59896278e+03, 4.50308825e+03, 4.40920195e+03,\n",
       "       4.31726800e+03, 4.22724840e+03, 4.13910457e+03, 4.05279806e+03,\n",
       "       3.96829088e+03, 3.88554566e+03, 3.80452574e+03, 3.72519519e+03,\n",
       "       3.64751878e+03, 3.57146205e+03, 3.49699122e+03, 3.42407323e+03,\n",
       "       3.35267570e+03, 3.28276692e+03, 3.21431585e+03, 3.14729210e+03,\n",
       "       3.08166591e+03, 3.01740813e+03, 2.95449023e+03, 2.89288427e+03,\n",
       "       2.83256289e+03, 2.77349932e+03, 2.71566732e+03, 2.65904120e+03,\n",
       "       2.60359584e+03, 2.54930660e+03, 2.49614939e+03, 2.44410058e+03,\n",
       "       2.39313708e+03, 2.34323626e+03, 2.29437594e+03, 2.24653445e+03,\n",
       "       2.19969053e+03, 2.15382338e+03, 2.10891263e+03, 2.06493835e+03,\n",
       "       2.02188100e+03, 1.97972147e+03, 1.93844104e+03, 1.89802137e+03,\n",
       "       1.85844451e+03, 1.81969290e+03, 1.78174933e+03, 1.74459693e+03,\n",
       "       1.70821923e+03, 1.67260006e+03, 1.63772361e+03, 1.60357439e+03,\n",
       "       1.57013724e+03, 1.53739731e+03, 1.50534006e+03, 1.47395125e+03,\n",
       "       1.44321695e+03, 1.41312352e+03, 1.38365758e+03, 1.35480605e+03,\n",
       "       1.32655613e+03, 1.29889526e+03, 1.27181117e+03, 1.24529182e+03,\n",
       "       1.21932545e+03, 1.19390051e+03, 1.16900573e+03, 1.14463005e+03,\n",
       "       1.12076264e+03, 1.09739290e+03, 1.07451046e+03, 1.05210516e+03,\n",
       "       1.03016704e+03, 1.00868637e+03, 9.87653611e+02, 9.67059416e+02,\n",
       "       9.46894643e+02, 9.27150339e+02, 9.07817737e+02, 8.88888250e+02,\n",
       "       8.70353474e+02, 8.52205179e+02, 8.34435305e+02, 8.17035963e+02,\n",
       "       7.99999425e+02, 7.83318127e+02])"
      ]
     },
     "execution_count": 248,
     "metadata": {},
     "output_type": "execute_result"
    }
   ],
   "source": [
    "projection_combined['active_cases']"
   ]
  },
  {
   "cell_type": "code",
   "execution_count": 242,
   "metadata": {},
   "outputs": [
    {
     "data": {
      "text/plain": [
       "[<matplotlib.lines.Line2D at 0x1a1dd44518>]"
      ]
     },
     "execution_count": 242,
     "metadata": {},
     "output_type": "execute_result"
    },
    {
     "data": {
      "image/png": "[encoded data removed]",
      "text/plain": [
       "<Figure size 432x288 with 1 Axes>"
      ]
     },
     "metadata": {
      "needs_background": "light"
     },
     "output_type": "display_data"
    }
   ],
   "source": [
    "plt.plot(projection_combined['total_tests'])"
   ]
  },
  {
   "cell_type": "markdown",
   "metadata": {},
   "source": [
    "# Interpolate between 5 day increments for projected values"
   ]
  },
  {
   "cell_type": "code",
   "execution_count": null,
   "metadata": {},
   "outputs": [],
   "source": [
    "# def interpolate_projections(projections):\n",
    "#     degree = 2\n",
    "#     length = 3\n",
    "#     day_interval = 5\n",
    "#     interpolated = []\n",
    "#     for i in range(len(projections)-length):\n",
    "#         x = np.arange(i,i+length)\n",
    "#         y = projections[i:i+length]\n",
    "#         line,coefs = return_polyfit(x,y,degree)\n",
    "#         days = np.linspace(i,i+length,day_interval*length)\n",
    "# #         print(days)\n",
    "#         new_ys = poly.polyval(days, coefs)\n",
    "#         if i == len(projections)-4:\n",
    "#             interpolated.append(new_ys)\n",
    "#         else:\n",
    "#             interpolated.append(new_ys[:5])\n",
    "#     return np.hstack(interpolated)\n",
    "    \n",
    "# def fill_in_projections(projections,labels):\n",
    "#     for label in labels:\n",
    "#         projections[label] = interpolate_projections(projections[label])\n",
    "#     return projections"
   ]
  },
  {
   "cell_type": "code",
   "execution_count": null,
   "metadata": {},
   "outputs": [],
   "source": [
    "\n",
    "# R0_mask = np.where(np.array(projection_combined['R0']) < 2.3)[0]\n",
    "# end_index = np.min(R0_mask)\n",
    "# R0_part1 = np.full(end_index*5,2.3)\n",
    "# R0_part2 = interpolate_projections(projection_combined['R0'][end_index:])\n",
    "# new_R0 = np.concatenate([R0_part1,R0_part2])\n",
    "# projection_combined['R0'] = new_R0"
   ]
  },
  {
   "cell_type": "code",
   "execution_count": null,
   "metadata": {},
   "outputs": [],
   "source": [
    "# interpolate_labels = ['current_infections','total_infections','hospitalized_patients','daily_confirmed','total_confirmed','daily_tests','total_tests']\n",
    "# projection_combined = fill_in_projections(projection_combined,interpolate_labels)\n",
    "# projection_combined['day'] = np.arange(projection_combined['total_infections'].shape[0])"
   ]
  },
  {
   "cell_type": "code",
   "execution_count": null,
   "metadata": {},
   "outputs": [],
   "source": [
    "\n",
    "# keys = projection_combined.keys()\n",
    "# for key in keys:\n",
    "#     print(projection_combined[key].shape)"
   ]
  },
  {
   "cell_type": "code",
   "execution_count": null,
   "metadata": {},
   "outputs": [],
   "source": [
    "# plt.plot(projection_combined['current_infections'])"
   ]
  },
  {
   "cell_type": "code",
   "execution_count": null,
   "metadata": {},
   "outputs": [],
   "source": [
    "# covidtracking_USA_df['date']"
   ]
  },
  {
   "cell_type": "markdown",
   "metadata": {},
   "source": [
    "# US values"
   ]
  },
  {
   "cell_type": "code",
   "execution_count": null,
   "metadata": {},
   "outputs": [],
   "source": [
    "padding = np.full(44,0)"
   ]
  },
  {
   "cell_type": "code",
   "execution_count": null,
   "metadata": {},
   "outputs": [],
   "source": [
    "US_positive = np.concatenate([padding,covidtracking_USA_df['positive']])\n",
    "US_negative = np.concatenate([padding,covidtracking_USA_df['negative']])\n",
    "US_tests = np.concatenate([padding,covidtracking_USA_df['posNeg']])\n",
    "US_hospitalized = np.concatenate([padding,covidtracking_USA_df['hospitalized']])\n",
    "US_deaths = np.concatenate([padding,covidtracking_USA_df['death']])"
   ]
  },
  {
   "cell_type": "code",
   "execution_count": null,
   "metadata": {},
   "outputs": [],
   "source": [
    "US_cases = US.iloc[:,4:]\n",
    "US_totals = US_cases.sum(axis=0).values"
   ]
  },
  {
   "cell_type": "code",
   "execution_count": null,
   "metadata": {},
   "outputs": [],
   "source": [
    "US_actual_start = datetime.datetime(2020,1,20)\n",
    "data_start_date = datetime.datetime(2020,3,4)\n",
    "print(f'Duration since first case {datetime.datetime.now() - US_actual_start}')\n",
    "print(f'Duration from first case to data start {data_start_date - US_actual_start}')"
   ]
  },
  {
   "cell_type": "code",
   "execution_count": null,
   "metadata": {},
   "outputs": [],
   "source": [
    "US_deaths.shape[0]"
   ]
  },
  {
   "cell_type": "markdown",
   "metadata": {},
   "source": [
    "# Plot real values vs projected"
   ]
  },
  {
   "cell_type": "code",
   "execution_count": null,
   "metadata": {},
   "outputs": [],
   "source": [
    "values = [np.gradient(US_positive),US_positive\n",
    "          ,np.gradient(US_negative),US_negative,\n",
    "          np.gradient(US_tests),US_tests,\n",
    "          np.gradient(US_hospitalized),US_hospitalized,\n",
    "          np.gradient(US_deaths),US_deaths]\n",
    "labels = ['daily_confirmed','total_confirmed',\n",
    "          'daily_negative','total_negative',\n",
    "          'daily_tests','total_tests',\n",
    "          'daily_hospitalizations','total_hospitalizations',\n",
    "          'daily_deaths','total_deaths']\n",
    "us_combined = {labels[i]:values[i] for i in range(len(values))}\n",
    "desired_labels = ['daily_confirmed','daily_tests','daily_hospitalizations']"
   ]
  },
  {
   "cell_type": "code",
   "execution_count": null,
   "metadata": {},
   "outputs": [],
   "source": [
    "detailed_plot(projection_combined,desired_projection_labels)\n",
    "\n",
    "detailed_plot(us_combined,desired_labels)"
   ]
  },
  {
   "cell_type": "code",
   "execution_count": null,
   "metadata": {},
   "outputs": [],
   "source": [
    "plt.plot(np.gradient(US_positive),label='daily US positive')\n",
    "plt.plot(projection_combined['daily_confirmed'],label='projected daily confirmed')\n",
    "plt.plot(projection_combined['current_infections'],label='projected infected')\n",
    "plt.plot(projection_combined['daily_tests'],label='projected daily tests')\n",
    "plt.legend()"
   ]
  },
  {
   "cell_type": "code",
   "execution_count": null,
   "metadata": {},
   "outputs": [],
   "source": [
    "plt.plot(us_combined['daily_hospitalizations'],label='US daily hospitalizations')\n",
    "plt.plot(projection_combined['hospitalized_patients'],label='projected hospitalizations')\n",
    "plt.legend()"
   ]
  },
  {
   "cell_type": "code",
   "execution_count": null,
   "metadata": {},
   "outputs": [],
   "source": [
    "plt.plot(us_combined['daily_tests'],label='US tests')\n",
    "plt.plot(projection_combined['daily_tests'],label='projected tests')\n",
    "plt.legend()"
   ]
  },
  {
   "cell_type": "code",
   "execution_count": null,
   "metadata": {},
   "outputs": [],
   "source": [
    "values = [US_positive,US_negative,US_tests,US_hospitalized,US_deaths]\n",
    "labels = ['Positive','Negative','Tests','Hospitalizations','Deaths']\n",
    "detailed_plot(values,labels)"
   ]
  },
  {
   "cell_type": "markdown",
   "metadata": {},
   "source": [
    "# Italy"
   ]
  },
  {
   "cell_type": "code",
   "execution_count": null,
   "metadata": {},
   "outputs": [],
   "source": [
    "italy_cases = Italy.iloc[:,4:]\n",
    "italy_totals = italy_cases.values[0]"
   ]
  },
  {
   "cell_type": "code",
   "execution_count": null,
   "metadata": {},
   "outputs": [],
   "source": [
    "plot_totals(italy_totals)"
   ]
  },
  {
   "cell_type": "code",
   "execution_count": null,
   "metadata": {},
   "outputs": [],
   "source": [
    "plot_totals(np.gradient(italy_totals))"
   ]
  },
  {
   "cell_type": "code",
   "execution_count": null,
   "metadata": {},
   "outputs": [],
   "source": [
    "peak_italy_index = np.argmax(np.gradient(italy_totals))\n",
    "print(f'Peak index {peak_italy_index}')\n",
    "print(f'Confirmed cases {italy_totals[peak_italy_index]}')\n",
    "\n",
    "italy_first_case_index = np.min(np.nonzero(italy_totals))\n",
    "italy_start_date = parse_date(Italy.columns[4+italy_first_case_index])\n",
    "italy_peak_date = parse_date(Italy.columns[4+peak_italy_index])\n",
    "print(f'Date of first case {italy_start_date}')\n",
    "print(f'Date of peak {italy_peak_date}')\n",
    "\n",
    "print(f'Duration until peak {italy_peak_date - italy_start_date}')\n",
    "print(f'Duration since first case {datetime.datetime.now() - italy_start_date}')"
   ]
  },
  {
   "cell_type": "code",
   "execution_count": null,
   "metadata": {},
   "outputs": [],
   "source": []
  }
 ],
 "metadata": {
  "kernelspec": {
   "display_name": "Python 3",
   "language": "python",
   "name": "python3"
  },
  "language_info": {
   "codemirror_mode": {
    "name": "ipython",
    "version": 3
   },
   "file_extension": ".py",
   "mimetype": "text/x-python",
   "name": "python",
   "nbconvert_exporter": "python",
   "pygments_lexer": "ipython3",
   "version": "3.6.7"
  }
 },
 "nbformat": 4,
 "nbformat_minor": 2
}
