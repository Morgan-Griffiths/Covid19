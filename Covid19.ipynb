{
 "cells": [
  {
   "cell_type": "code",
   "execution_count": 1,
   "metadata": {},
   "outputs": [],
   "source": [
    "import numpy as np\n",
    "import pandas as pd\n",
    "import os\n",
    "import matplotlib.pyplot as plt\n",
    "import time\n",
    "import datetime\n",
    "from queue import Queue\n",
    "from collections import deque\n",
    "from scipy.stats import norm\n",
    "from itertools import accumulate\n",
    "\n",
    "%matplotlib inline"
   ]
  },
  {
   "cell_type": "code",
   "execution_count": 2,
   "metadata": {},
   "outputs": [],
   "source": [
    "plt.style.use('fivethirtyeight')"
   ]
  },
  {
   "cell_type": "markdown",
   "metadata": {},
   "source": [
    "# Data paths\n",
    "\n",
    "Data gathered by download_datasets.sh"
   ]
  },
  {
   "cell_type": "code",
   "execution_count": 3,
   "metadata": {},
   "outputs": [],
   "source": [
    "general_path = 'novel-corona-virus-2019-dataset'\n",
    "korea_path = 'coronavirusdataset'\n",
    "USA_path = 'covid19-in-usa'\n",
    "Italy_path = 'covid19-in-italy'"
   ]
  },
  {
   "cell_type": "code",
   "execution_count": 4,
   "metadata": {},
   "outputs": [],
   "source": [
    "korea_timeline = os.path.join(korea_path,'Time.csv')\n",
    "general_timeline = os.path.join(general_path,'time_series_covid_19_confirmed.csv')\n",
    "USA_1 = os.path.join(USA_path,'us_covid19_daily.csv')\n",
    "USA_2 = os.path.join(USA_path,'us_states_covid19_daily.csv')\n",
    "italy_file = os.path.join(Italy_path,'covid19_italy_region.csv')\n",
    "italy_file2 = os.path.join(Italy_path,'covid19_italy_province.csv')\n",
    "US_states_testing_file = os.path.join('states.csv')\n",
    "US_testing_file = os.path.join('time_series.csv')"
   ]
  },
  {
   "cell_type": "code",
   "execution_count": 5,
   "metadata": {},
   "outputs": [],
   "source": [
    "korea_df = pd.read_csv(korea_timeline)\n",
    "general_df = pd.read_csv(general_timeline)\n",
    "USA_1df = pd.read_csv(USA_1)\n",
    "USA_state_df = pd.read_csv(USA_2)\n",
    "italy_df = pd.read_csv(italy_file)\n",
    "italy_df2 = pd.read_csv(italy_file2)\n",
    "USA_state_testing_df = pd.read_csv(US_states_testing_file)\n",
    "USA_testing_df = pd.read_csv(US_testing_file)"
   ]
  },
  {
   "cell_type": "code",
   "execution_count": 6,
   "metadata": {},
   "outputs": [
    {
     "data": {
      "text/html": [
       "<div>\n",
       "<style scoped>\n",
       "    .dataframe tbody tr th:only-of-type {\n",
       "        vertical-align: middle;\n",
       "    }\n",
       "\n",
       "    .dataframe tbody tr th {\n",
       "        vertical-align: top;\n",
       "    }\n",
       "\n",
       "    .dataframe thead th {\n",
       "        text-align: right;\n",
       "    }\n",
       "</style>\n",
       "<table border=\"1\" class=\"dataframe\">\n",
       "  <thead>\n",
       "    <tr style=\"text-align: right;\">\n",
       "      <th></th>\n",
       "      <th>date</th>\n",
       "      <th>state</th>\n",
       "      <th>positive</th>\n",
       "      <th>negative</th>\n",
       "      <th>pending</th>\n",
       "      <th>hospitalizedCurrently</th>\n",
       "      <th>hospitalizedCumulative</th>\n",
       "      <th>inIcuCurrently</th>\n",
       "      <th>inIcuCumulative</th>\n",
       "      <th>onVentilatorCurrently</th>\n",
       "      <th>...</th>\n",
       "      <th>hospitalized</th>\n",
       "      <th>total</th>\n",
       "      <th>totalTestResults</th>\n",
       "      <th>posNeg</th>\n",
       "      <th>fips</th>\n",
       "      <th>deathIncrease</th>\n",
       "      <th>hospitalizedIncrease</th>\n",
       "      <th>negativeIncrease</th>\n",
       "      <th>positiveIncrease</th>\n",
       "      <th>totalTestResultsIncrease</th>\n",
       "    </tr>\n",
       "  </thead>\n",
       "  <tbody>\n",
       "    <tr>\n",
       "      <th>1939</th>\n",
       "      <td>20200302</td>\n",
       "      <td>WA</td>\n",
       "      <td>34.0</td>\n",
       "      <td>NaN</td>\n",
       "      <td>NaN</td>\n",
       "      <td>NaN</td>\n",
       "      <td>NaN</td>\n",
       "      <td>NaN</td>\n",
       "      <td>NaN</td>\n",
       "      <td>NaN</td>\n",
       "      <td>...</td>\n",
       "      <td>NaN</td>\n",
       "      <td>34</td>\n",
       "      <td>34</td>\n",
       "      <td>34</td>\n",
       "      <td>53</td>\n",
       "      <td>3.0</td>\n",
       "      <td>0.0</td>\n",
       "      <td>0.0</td>\n",
       "      <td>4.0</td>\n",
       "      <td>4.0</td>\n",
       "    </tr>\n",
       "    <tr>\n",
       "      <th>1940</th>\n",
       "      <td>20200301</td>\n",
       "      <td>RI</td>\n",
       "      <td>1.0</td>\n",
       "      <td>NaN</td>\n",
       "      <td>NaN</td>\n",
       "      <td>NaN</td>\n",
       "      <td>NaN</td>\n",
       "      <td>NaN</td>\n",
       "      <td>NaN</td>\n",
       "      <td>NaN</td>\n",
       "      <td>...</td>\n",
       "      <td>NaN</td>\n",
       "      <td>1</td>\n",
       "      <td>1</td>\n",
       "      <td>1</td>\n",
       "      <td>44</td>\n",
       "      <td>NaN</td>\n",
       "      <td>NaN</td>\n",
       "      <td>NaN</td>\n",
       "      <td>NaN</td>\n",
       "      <td>NaN</td>\n",
       "    </tr>\n",
       "    <tr>\n",
       "      <th>1941</th>\n",
       "      <td>20200301</td>\n",
       "      <td>WA</td>\n",
       "      <td>30.0</td>\n",
       "      <td>NaN</td>\n",
       "      <td>NaN</td>\n",
       "      <td>NaN</td>\n",
       "      <td>NaN</td>\n",
       "      <td>NaN</td>\n",
       "      <td>NaN</td>\n",
       "      <td>NaN</td>\n",
       "      <td>...</td>\n",
       "      <td>NaN</td>\n",
       "      <td>30</td>\n",
       "      <td>30</td>\n",
       "      <td>30</td>\n",
       "      <td>53</td>\n",
       "      <td>3.0</td>\n",
       "      <td>0.0</td>\n",
       "      <td>0.0</td>\n",
       "      <td>12.0</td>\n",
       "      <td>12.0</td>\n",
       "    </tr>\n",
       "    <tr>\n",
       "      <th>1942</th>\n",
       "      <td>20200229</td>\n",
       "      <td>WA</td>\n",
       "      <td>18.0</td>\n",
       "      <td>NaN</td>\n",
       "      <td>NaN</td>\n",
       "      <td>NaN</td>\n",
       "      <td>NaN</td>\n",
       "      <td>NaN</td>\n",
       "      <td>NaN</td>\n",
       "      <td>NaN</td>\n",
       "      <td>...</td>\n",
       "      <td>NaN</td>\n",
       "      <td>18</td>\n",
       "      <td>18</td>\n",
       "      <td>18</td>\n",
       "      <td>53</td>\n",
       "      <td>1.0</td>\n",
       "      <td>0.0</td>\n",
       "      <td>0.0</td>\n",
       "      <td>9.0</td>\n",
       "      <td>9.0</td>\n",
       "    </tr>\n",
       "    <tr>\n",
       "      <th>1943</th>\n",
       "      <td>20200228</td>\n",
       "      <td>WA</td>\n",
       "      <td>9.0</td>\n",
       "      <td>NaN</td>\n",
       "      <td>NaN</td>\n",
       "      <td>NaN</td>\n",
       "      <td>NaN</td>\n",
       "      <td>NaN</td>\n",
       "      <td>NaN</td>\n",
       "      <td>NaN</td>\n",
       "      <td>...</td>\n",
       "      <td>NaN</td>\n",
       "      <td>9</td>\n",
       "      <td>9</td>\n",
       "      <td>9</td>\n",
       "      <td>53</td>\n",
       "      <td>NaN</td>\n",
       "      <td>NaN</td>\n",
       "      <td>NaN</td>\n",
       "      <td>NaN</td>\n",
       "      <td>NaN</td>\n",
       "    </tr>\n",
       "  </tbody>\n",
       "</table>\n",
       "<p>5 rows × 25 columns</p>\n",
       "</div>"
      ],
      "text/plain": [
       "          date state  positive  negative  pending  hospitalizedCurrently  \\\n",
       "1939  20200302    WA      34.0       NaN      NaN                    NaN   \n",
       "1940  20200301    RI       1.0       NaN      NaN                    NaN   \n",
       "1941  20200301    WA      30.0       NaN      NaN                    NaN   \n",
       "1942  20200229    WA      18.0       NaN      NaN                    NaN   \n",
       "1943  20200228    WA       9.0       NaN      NaN                    NaN   \n",
       "\n",
       "      hospitalizedCumulative  inIcuCurrently  inIcuCumulative  \\\n",
       "1939                     NaN             NaN              NaN   \n",
       "1940                     NaN             NaN              NaN   \n",
       "1941                     NaN             NaN              NaN   \n",
       "1942                     NaN             NaN              NaN   \n",
       "1943                     NaN             NaN              NaN   \n",
       "\n",
       "      onVentilatorCurrently  ...  hospitalized  total totalTestResults posNeg  \\\n",
       "1939                    NaN  ...           NaN     34               34     34   \n",
       "1940                    NaN  ...           NaN      1                1      1   \n",
       "1941                    NaN  ...           NaN     30               30     30   \n",
       "1942                    NaN  ...           NaN     18               18     18   \n",
       "1943                    NaN  ...           NaN      9                9      9   \n",
       "\n",
       "      fips  deathIncrease  hospitalizedIncrease  negativeIncrease  \\\n",
       "1939    53            3.0                   0.0               0.0   \n",
       "1940    44            NaN                   NaN               NaN   \n",
       "1941    53            3.0                   0.0               0.0   \n",
       "1942    53            1.0                   0.0               0.0   \n",
       "1943    53            NaN                   NaN               NaN   \n",
       "\n",
       "      positiveIncrease  totalTestResultsIncrease  \n",
       "1939               4.0                       4.0  \n",
       "1940               NaN                       NaN  \n",
       "1941              12.0                      12.0  \n",
       "1942               9.0                       9.0  \n",
       "1943               NaN                       NaN  \n",
       "\n",
       "[5 rows x 25 columns]"
      ]
     },
     "execution_count": 6,
     "metadata": {},
     "output_type": "execute_result"
    }
   ],
   "source": [
    "USA_state_df.tail()"
   ]
  },
  {
   "cell_type": "code",
   "execution_count": 7,
   "metadata": {},
   "outputs": [
    {
     "data": {
      "text/html": [
       "<div>\n",
       "<style scoped>\n",
       "    .dataframe tbody tr th:only-of-type {\n",
       "        vertical-align: middle;\n",
       "    }\n",
       "\n",
       "    .dataframe tbody tr th {\n",
       "        vertical-align: top;\n",
       "    }\n",
       "\n",
       "    .dataframe thead th {\n",
       "        text-align: right;\n",
       "    }\n",
       "</style>\n",
       "<table border=\"1\" class=\"dataframe\">\n",
       "  <thead>\n",
       "    <tr style=\"text-align: right;\">\n",
       "      <th></th>\n",
       "      <th>SNo</th>\n",
       "      <th>Date</th>\n",
       "      <th>Country</th>\n",
       "      <th>RegionCode</th>\n",
       "      <th>RegionName</th>\n",
       "      <th>Latitude</th>\n",
       "      <th>Longitude</th>\n",
       "      <th>HospitalizedPatients</th>\n",
       "      <th>IntensiveCarePatients</th>\n",
       "      <th>TotalHospitalizedPatients</th>\n",
       "      <th>HomeConfinement</th>\n",
       "      <th>CurrentPositiveCases</th>\n",
       "      <th>NewPositiveCases</th>\n",
       "      <th>Recovered</th>\n",
       "      <th>Deaths</th>\n",
       "      <th>TotalPositiveCases</th>\n",
       "      <th>TestsPerformed</th>\n",
       "    </tr>\n",
       "  </thead>\n",
       "  <tbody>\n",
       "    <tr>\n",
       "      <th>961</th>\n",
       "      <td>961</td>\n",
       "      <td>2020-04-09T17:00:00</td>\n",
       "      <td>ITA</td>\n",
       "      <td>9</td>\n",
       "      <td>Toscana</td>\n",
       "      <td>43.769231</td>\n",
       "      <td>11.255889</td>\n",
       "      <td>1038</td>\n",
       "      <td>256</td>\n",
       "      <td>1294</td>\n",
       "      <td>4409</td>\n",
       "      <td>5703</td>\n",
       "      <td>173</td>\n",
       "      <td>441</td>\n",
       "      <td>408</td>\n",
       "      <td>6552</td>\n",
       "      <td>65461</td>\n",
       "    </tr>\n",
       "    <tr>\n",
       "      <th>962</th>\n",
       "      <td>962</td>\n",
       "      <td>2020-04-09T17:00:00</td>\n",
       "      <td>ITA</td>\n",
       "      <td>4</td>\n",
       "      <td>P.A. Trento</td>\n",
       "      <td>46.068935</td>\n",
       "      <td>11.121231</td>\n",
       "      <td>345</td>\n",
       "      <td>69</td>\n",
       "      <td>414</td>\n",
       "      <td>1564</td>\n",
       "      <td>1978</td>\n",
       "      <td>106</td>\n",
       "      <td>462</td>\n",
       "      <td>268</td>\n",
       "      <td>2708</td>\n",
       "      <td>14338</td>\n",
       "    </tr>\n",
       "    <tr>\n",
       "      <th>963</th>\n",
       "      <td>963</td>\n",
       "      <td>2020-04-09T17:00:00</td>\n",
       "      <td>ITA</td>\n",
       "      <td>10</td>\n",
       "      <td>Umbria</td>\n",
       "      <td>43.106758</td>\n",
       "      <td>12.388247</td>\n",
       "      <td>154</td>\n",
       "      <td>38</td>\n",
       "      <td>192</td>\n",
       "      <td>600</td>\n",
       "      <td>792</td>\n",
       "      <td>9</td>\n",
       "      <td>455</td>\n",
       "      <td>51</td>\n",
       "      <td>1298</td>\n",
       "      <td>15170</td>\n",
       "    </tr>\n",
       "    <tr>\n",
       "      <th>964</th>\n",
       "      <td>964</td>\n",
       "      <td>2020-04-09T17:00:00</td>\n",
       "      <td>ITA</td>\n",
       "      <td>2</td>\n",
       "      <td>Valle d'Aosta</td>\n",
       "      <td>45.737503</td>\n",
       "      <td>7.320149</td>\n",
       "      <td>118</td>\n",
       "      <td>18</td>\n",
       "      <td>136</td>\n",
       "      <td>473</td>\n",
       "      <td>609</td>\n",
       "      <td>18</td>\n",
       "      <td>154</td>\n",
       "      <td>105</td>\n",
       "      <td>868</td>\n",
       "      <td>3142</td>\n",
       "    </tr>\n",
       "    <tr>\n",
       "      <th>965</th>\n",
       "      <td>965</td>\n",
       "      <td>2020-04-09T17:00:00</td>\n",
       "      <td>ITA</td>\n",
       "      <td>5</td>\n",
       "      <td>Veneto</td>\n",
       "      <td>45.434905</td>\n",
       "      <td>12.338452</td>\n",
       "      <td>1530</td>\n",
       "      <td>274</td>\n",
       "      <td>1804</td>\n",
       "      <td>8645</td>\n",
       "      <td>10449</td>\n",
       "      <td>523</td>\n",
       "      <td>1728</td>\n",
       "      <td>756</td>\n",
       "      <td>12933</td>\n",
       "      <td>171456</td>\n",
       "    </tr>\n",
       "  </tbody>\n",
       "</table>\n",
       "</div>"
      ],
      "text/plain": [
       "     SNo                 Date Country  RegionCode     RegionName   Latitude  \\\n",
       "961  961  2020-04-09T17:00:00     ITA           9        Toscana  43.769231   \n",
       "962  962  2020-04-09T17:00:00     ITA           4    P.A. Trento  46.068935   \n",
       "963  963  2020-04-09T17:00:00     ITA          10         Umbria  43.106758   \n",
       "964  964  2020-04-09T17:00:00     ITA           2  Valle d'Aosta  45.737503   \n",
       "965  965  2020-04-09T17:00:00     ITA           5         Veneto  45.434905   \n",
       "\n",
       "     Longitude  HospitalizedPatients  IntensiveCarePatients  \\\n",
       "961  11.255889                  1038                    256   \n",
       "962  11.121231                   345                     69   \n",
       "963  12.388247                   154                     38   \n",
       "964   7.320149                   118                     18   \n",
       "965  12.338452                  1530                    274   \n",
       "\n",
       "     TotalHospitalizedPatients  HomeConfinement  CurrentPositiveCases  \\\n",
       "961                       1294             4409                  5703   \n",
       "962                        414             1564                  1978   \n",
       "963                        192              600                   792   \n",
       "964                        136              473                   609   \n",
       "965                       1804             8645                 10449   \n",
       "\n",
       "     NewPositiveCases  Recovered  Deaths  TotalPositiveCases  TestsPerformed  \n",
       "961               173        441     408                6552           65461  \n",
       "962               106        462     268                2708           14338  \n",
       "963                 9        455      51                1298           15170  \n",
       "964                18        154     105                 868            3142  \n",
       "965               523       1728     756               12933          171456  "
      ]
     },
     "execution_count": 7,
     "metadata": {},
     "output_type": "execute_result"
    }
   ],
   "source": [
    "italy_df.tail()"
   ]
  },
  {
   "cell_type": "markdown",
   "metadata": {},
   "source": [
    "# Glossary\n",
    "\n",
    "- R0. R naught. How many people does one infected person infect on average\n",
    "\n",
    "# Hypothesis\n",
    "\n",
    "- Check doubling sequence with R not based on initial data. See how that matches up with reality\n",
    "- Perhaps as % of population\n",
    "- Match up increase rates with quarantine measures?\n",
    "\n",
    "Essentially what it takes is lockdown. So then the question is, when will the USA go into lockdown completely?\n",
    "\n",
    "- What metrics do other countries use to determine lockdowns? % of population, number of free hospital beds vs hospitalized covid patients, etc.\n",
    "- When will the US reach those metrics?\n",
    "- How effective is the soft lockdown? and how if so is it enough as to avoid lockdown?\n",
    "\n",
    "Italy may be the best comparison\n",
    "- 60M people\n",
    "- Quarantined on March 9 (with additional restrictions added later)\n",
    "\n",
    "It doesn't matter in terms of the exponential whether you consider each state separately or all together. Except in terms of very specific things like distribution of age, or other slight factors. It does however matter a lot in terms of the hospital beds. The hospital beds are being stressed locally. So if we model the exponential globally, but account for the hospital beds and % split of infected locally, that should be a pretty good indication.\n",
    "\n",
    "Hospital Beds in the USA https://www.kff.org/other/state-indicator/beds-by-ownership/?currentTimeframe=0&sortModel=%7B%22colId%22:%22Location%22,%22sort%22:%22asc%22%7D\n",
    "\n",
    "## New Goal\n",
    "\n",
    "Modeling the S curve as the R0 decreases due to preventative measures and social distancing. With this view, it appears that any of the worst case scenarios are of 0% and its very unlikely to even reach a million cases initially. If the curve is sufficently flattened, it may become another one of the flu strains that roams the world. But we won't be looking at the severe strain that some had projected.\n",
    "\n",
    "## USA\n",
    "\n",
    "from https://www.nytimes.com/interactive/2020/03/17/upshot/hospital-bed-shortages-coronavirus.html\n",
    "\n",
    "- Number of Hospitals 6,146\n",
    "- Number of admissions 36,353,946\n",
    "- total hospital beds 738,000 \n",
    "- total unoccupied beds 265,000\n",
    "- total ICU beds 85,000\n",
    "- total unoccupied ICU beds 32,000 - 45k\n",
    "\n",
    "## Italy\n",
    "\n",
    "- Number of hospital beds per 1k people 3.2\n",
    "- Number of people 60.48M\n",
    "- Number of hospital beds 18.9k\n",
    "- 12.5 critical care beds per 100k people https://www.ft.com/content/34f25036-62f4-11ea-a6cd-df28cc3c6a68\n",
    "- 7560 ICU beds\n",
    "\n",
    "#### Lockdown stats\n",
    "\n",
    "- Declared lockdown march 9 2020\n",
    "- 9172 cases\n",
    "- 1797 daily cases \n",
    "- 7985 currently infected \n",
    "- 463 deaths \n",
    "- 97 daily deaths \n",
    "- 638 or 8% Serious or critical\n",
    "\n",
    "USA has 5.4x the population of Italy. If we scale these numbers to USA\n",
    "\n",
    "- 45860 cases\n",
    "- 9703.8 daily cases \n",
    "- 43119 currently infected\n",
    "- 2500.2 deaths\n",
    "- 523.8 daily deaths\n",
    "- 3445.2 Serious or critical\n",
    "\n",
    "USA currently\n",
    "\n",
    "- 9259 total cases\n",
    "- 9003 active cases\n",
    "- 2848 daily cases\n",
    "- 155 total deaths\n",
    "- 41 daily deaths\n",
    "- 108 recovered\n",
    "\n",
    "# USA State specifics\n",
    "\n",
    "### New York\n",
    "\n",
    "- ICU Beds 3k\n",
    "- 80% are filled\n",
    "- Ordering an additional 18,600 - 37,200 beds\n",
    "- has 53k normal beds, wants 110k\n",
    "\n",
    "### Washington\n",
    "\n",
    "- 7.54M\n",
    "- 1.7 per 1000k people\n",
    "- 12.818k hospital beds\n",
    "\n",
    "### California\n",
    "\n",
    "- Pop 39.56M\n",
    "- 7274 ICU beds\n",
    "- 58% occupied\n",
    "- 4219 Unoccupied ICU beds\n",
    "- 1.8 per 1000k people\n",
    "- 71.208k hospital beds\n",
    "\n",
    "## C19 Characteristics\n",
    "\n",
    "- R0 of 2.5\n",
    "- Average of 5 days before symptoms\n",
    "- Hospital recovery time of 2.5 weeks\n",
    "- Average number of hospitalizations?"
   ]
  },
  {
   "cell_type": "markdown",
   "metadata": {},
   "source": [
    "# Utils"
   ]
  },
  {
   "cell_type": "code",
   "execution_count": 8,
   "metadata": {},
   "outputs": [],
   "source": [
    "def plot_totals(cases,deaths=None):\n",
    "    epochs = range(1,len(cases)+1)\n",
    "    plt.plot(epochs,cases,'g',label=\"Confirmed Cases\")\n",
    "    if deaths:\n",
    "        plt.plot(epochs,deaths,'m',label=\"Deaths\")\n",
    "    plt.title('Covid19')\n",
    "    plt.xlabel('Days')\n",
    "    plt.ylabel('Cases')\n",
    "    plt.legend()\n",
    "    plt.show()\n",
    "\n",
    "#     plt.clf()\n",
    "#     acc = history.history['acc']\n",
    "#     val_acc = history.history['val_acc']\n",
    "\n",
    "#     plt.plot(epochs,acc,'bo',label='Training acc')\n",
    "#     plt.plot(epochs,val_acc,'b',label='Validation acc')\n",
    "#     plt.title('Training and validation accuracy')\n",
    "#     plt.xlabel('Epochs')\n",
    "#     plt.ylabel('Accuracy')\n",
    "#     plt.legend()\n",
    "\n",
    "#     plt.show()\n",
    "\n",
    "def return_polyfit(x,y,degree):\n",
    "    import numpy.polynomial.polynomial as poly\n",
    "    coefs = poly.polyfit(x, y, degree)\n",
    "    ffit = poly.polyval(x, coefs)\n",
    "    return ffit,coefs\n",
    "\n",
    "def parse_date(date_str):\n",
    "    return datetime.datetime.strptime(date_str,'%m/%d/%y')\n",
    "\n",
    "def collapse_dates():\n",
    "    unique_dates = USA_testing_df['date'].unique()\n",
    "    tests_preformed = []\n",
    "    tests_positive = []\n",
    "    for date in unique_dates:\n",
    "        rows = USA_testing_df[USA_testing_df['date'] == date]\n",
    "        tests_preformed.append(rows['tested'].values[-1])\n",
    "        tests_positive.append(rows['positive'].values[-1])\n",
    "    data_dict = {'dates':unique_dates,'tested':tests_preformed,'positive': tests_positive}\n",
    "    df_us_tests = pd.DataFrame.from_dict(data_dict)\n",
    "    df_us_tests['ratio'] = df_us_tests['positive'] / df_us_tests['tested']\n",
    "    print(df_us_tests['ratio'].mean())\n",
    "\n",
    "def determine_R0(points):\n",
    "    \"\"\"\n",
    "    Requires two data points (x,y)\n",
    "    first X is assumed to be 0\n",
    "    Ae^rx = y\n",
    "    \"\"\"\n",
    "    x1,y1 = points[0]\n",
    "    x2,y2 = points[1]\n",
    "    # 1st point\n",
    "#     a = y1\n",
    "#     # 2nd point\n",
    "#     r = np.log(y2 / a) / x2\n",
    "#     print(r)\n",
    "#     print(R0)\n",
    "    # r = (y2/y1)^(1/x2-x1)\n",
    "#     r = np.log(y2/y1) / x2-x1\n",
    "#     R0 = np.exp(r)\n",
    "    R0 = np.power((y2/y1),(1/(x2-x1)))\n",
    "    A = y1 / np.power(R0,x1)\n",
    "    return R0,A\n",
    "\n",
    "def graph_expo(x,points):\n",
    "    x1,y1 = points[0]\n",
    "    x2,y2 = points[1]\n",
    "    y = y1 * np.power((y2/y1),(x-x1 / x2-x1))\n",
    "    return y "
   ]
  },
  {
   "cell_type": "markdown",
   "metadata": {},
   "source": [
    "# Testing"
   ]
  },
  {
   "cell_type": "code",
   "execution_count": 9,
   "metadata": {
    "scrolled": true
   },
   "outputs": [
    {
     "data": {
      "text/html": [
       "<div>\n",
       "<style scoped>\n",
       "    .dataframe tbody tr th:only-of-type {\n",
       "        vertical-align: middle;\n",
       "    }\n",
       "\n",
       "    .dataframe tbody tr th {\n",
       "        vertical-align: top;\n",
       "    }\n",
       "\n",
       "    .dataframe thead th {\n",
       "        text-align: right;\n",
       "    }\n",
       "</style>\n",
       "<table border=\"1\" class=\"dataframe\">\n",
       "  <thead>\n",
       "    <tr style=\"text-align: right;\">\n",
       "      <th></th>\n",
       "      <th>date</th>\n",
       "      <th>time</th>\n",
       "      <th>seconds_since_Epoch</th>\n",
       "      <th>tested</th>\n",
       "      <th>positive</th>\n",
       "      <th>deaths</th>\n",
       "    </tr>\n",
       "  </thead>\n",
       "  <tbody>\n",
       "    <tr>\n",
       "      <th>0</th>\n",
       "      <td>2020-03-08</td>\n",
       "      <td>07:00:00</td>\n",
       "      <td>1583650800</td>\n",
       "      <td>2259</td>\n",
       "      <td>371</td>\n",
       "      <td>19</td>\n",
       "    </tr>\n",
       "    <tr>\n",
       "      <th>1</th>\n",
       "      <td>2020-03-08</td>\n",
       "      <td>20:00:00</td>\n",
       "      <td>1583697600</td>\n",
       "      <td>2421</td>\n",
       "      <td>415</td>\n",
       "      <td>19</td>\n",
       "    </tr>\n",
       "    <tr>\n",
       "      <th>2</th>\n",
       "      <td>2020-03-09</td>\n",
       "      <td>00:00:00</td>\n",
       "      <td>1583712000</td>\n",
       "      <td>3779</td>\n",
       "      <td>494</td>\n",
       "      <td>21</td>\n",
       "    </tr>\n",
       "    <tr>\n",
       "      <th>3</th>\n",
       "      <td>2020-03-09</td>\n",
       "      <td>05:00:00</td>\n",
       "      <td>1583730000</td>\n",
       "      <td>3830</td>\n",
       "      <td>497</td>\n",
       "      <td>21</td>\n",
       "    </tr>\n",
       "    <tr>\n",
       "      <th>4</th>\n",
       "      <td>2020-03-09</td>\n",
       "      <td>15:00:00</td>\n",
       "      <td>1583766000</td>\n",
       "      <td>3897</td>\n",
       "      <td>510</td>\n",
       "      <td>21</td>\n",
       "    </tr>\n",
       "  </tbody>\n",
       "</table>\n",
       "</div>"
      ],
      "text/plain": [
       "         date      time  seconds_since_Epoch  tested  positive  deaths\n",
       "0  2020-03-08  07:00:00           1583650800    2259       371      19\n",
       "1  2020-03-08  20:00:00           1583697600    2421       415      19\n",
       "2  2020-03-09  00:00:00           1583712000    3779       494      21\n",
       "3  2020-03-09  05:00:00           1583730000    3830       497      21\n",
       "4  2020-03-09  15:00:00           1583766000    3897       510      21"
      ]
     },
     "execution_count": 9,
     "metadata": {},
     "output_type": "execute_result"
    }
   ],
   "source": [
    "USA_testing_df.head()"
   ]
  },
  {
   "cell_type": "code",
   "execution_count": 10,
   "metadata": {},
   "outputs": [],
   "source": [
    "unique_dates = USA_testing_df['date'].unique()\n",
    "tests_preformed = []\n",
    "tests_positive = []\n",
    "for date in unique_dates:\n",
    "    rows = USA_testing_df[USA_testing_df['date'] == date]\n",
    "    tests_preformed.append(rows['tested'].values[-1])\n",
    "    tests_positive.append(rows['positive'].values[-1])"
   ]
  },
  {
   "cell_type": "code",
   "execution_count": 11,
   "metadata": {},
   "outputs": [],
   "source": [
    "data_dict = {'dates':unique_dates,'tested':tests_preformed,'positive': tests_positive}"
   ]
  },
  {
   "cell_type": "code",
   "execution_count": 12,
   "metadata": {},
   "outputs": [],
   "source": [
    "df_us_tests = pd.DataFrame.from_dict(data_dict)"
   ]
  },
  {
   "cell_type": "code",
   "execution_count": 13,
   "metadata": {},
   "outputs": [],
   "source": [
    "df_us_tests['ratio'] = df_us_tests['positive'] / df_us_tests['tested']"
   ]
  },
  {
   "cell_type": "code",
   "execution_count": 14,
   "metadata": {},
   "outputs": [
    {
     "data": {
      "text/plain": [
       "0.16589890715942684"
      ]
     },
     "execution_count": 14,
     "metadata": {},
     "output_type": "execute_result"
    }
   ],
   "source": [
    "df_us_tests['ratio'].mean()"
   ]
  },
  {
   "cell_type": "code",
   "execution_count": 15,
   "metadata": {},
   "outputs": [
    {
     "data": {
      "text/html": [
       "<div>\n",
       "<style scoped>\n",
       "    .dataframe tbody tr th:only-of-type {\n",
       "        vertical-align: middle;\n",
       "    }\n",
       "\n",
       "    .dataframe tbody tr th {\n",
       "        vertical-align: top;\n",
       "    }\n",
       "\n",
       "    .dataframe thead th {\n",
       "        text-align: right;\n",
       "    }\n",
       "</style>\n",
       "<table border=\"1\" class=\"dataframe\">\n",
       "  <thead>\n",
       "    <tr style=\"text-align: right;\">\n",
       "      <th></th>\n",
       "      <th>dates</th>\n",
       "      <th>tested</th>\n",
       "      <th>positive</th>\n",
       "      <th>ratio</th>\n",
       "    </tr>\n",
       "  </thead>\n",
       "  <tbody>\n",
       "    <tr>\n",
       "      <th>29</th>\n",
       "      <td>2020-04-06</td>\n",
       "      <td>1891632</td>\n",
       "      <td>362498</td>\n",
       "      <td>0.191632</td>\n",
       "    </tr>\n",
       "    <tr>\n",
       "      <th>30</th>\n",
       "      <td>2020-04-07</td>\n",
       "      <td>2017176</td>\n",
       "      <td>391800</td>\n",
       "      <td>0.194232</td>\n",
       "    </tr>\n",
       "    <tr>\n",
       "      <th>31</th>\n",
       "      <td>2020-04-08</td>\n",
       "      <td>2170866</td>\n",
       "      <td>423838</td>\n",
       "      <td>0.195239</td>\n",
       "    </tr>\n",
       "    <tr>\n",
       "      <th>32</th>\n",
       "      <td>2020-04-09</td>\n",
       "      <td>2312109</td>\n",
       "      <td>456584</td>\n",
       "      <td>0.197475</td>\n",
       "    </tr>\n",
       "    <tr>\n",
       "      <th>33</th>\n",
       "      <td>2020-04-10</td>\n",
       "      <td>2408128</td>\n",
       "      <td>480456</td>\n",
       "      <td>0.199514</td>\n",
       "    </tr>\n",
       "  </tbody>\n",
       "</table>\n",
       "</div>"
      ],
      "text/plain": [
       "         dates   tested  positive     ratio\n",
       "29  2020-04-06  1891632    362498  0.191632\n",
       "30  2020-04-07  2017176    391800  0.194232\n",
       "31  2020-04-08  2170866    423838  0.195239\n",
       "32  2020-04-09  2312109    456584  0.197475\n",
       "33  2020-04-10  2408128    480456  0.199514"
      ]
     },
     "execution_count": 15,
     "metadata": {},
     "output_type": "execute_result"
    }
   ],
   "source": [
    "df_us_tests.tail()"
   ]
  },
  {
   "cell_type": "code",
   "execution_count": 16,
   "metadata": {},
   "outputs": [
    {
     "data": {
      "text/plain": [
       "[<matplotlib.lines.Line2D at 0x114476908>]"
      ]
     },
     "execution_count": 16,
     "metadata": {},
     "output_type": "execute_result"
    },
    {
     "data": {
      "image/png": "[encoded data removed]",
      "text/plain": [
       "<Figure size 432x288 with 1 Axes>"
      ]
     },
     "metadata": {},
     "output_type": "display_data"
    }
   ],
   "source": [
    "plt.plot(df_us_tests['ratio'].values)"
   ]
  },
  {
   "cell_type": "code",
   "execution_count": 17,
   "metadata": {},
   "outputs": [
    {
     "data": {
      "text/plain": [
       "[<matplotlib.lines.Line2D at 0x1a18358b70>]"
      ]
     },
     "execution_count": 17,
     "metadata": {},
     "output_type": "execute_result"
    },
    {
     "data": {
      "image/png": "[encoded data removed]",
      "text/plain": [
       "<Figure size 432x288 with 1 Axes>"
      ]
     },
     "metadata": {},
     "output_type": "display_data"
    }
   ],
   "source": [
    "plt.plot(df_us_tests['tested'].values)\n",
    "plt.plot(np.gradient(df_us_tests['tested'].values))\n",
    "plt.plot(df_us_tests['positive'].values)"
   ]
  },
  {
   "cell_type": "code",
   "execution_count": 18,
   "metadata": {},
   "outputs": [
    {
     "data": {
      "text/plain": [
       "[<matplotlib.lines.Line2D at 0x1a183bea90>]"
      ]
     },
     "execution_count": 18,
     "metadata": {},
     "output_type": "execute_result"
    },
    {
     "data": {
      "image/png": "[encoded data removed]",
      "text/plain": [
       "<Figure size 432x288 with 1 Axes>"
      ]
     },
     "metadata": {},
     "output_type": "display_data"
    }
   ],
   "source": [
    "plt.plot(df_us_tests['positive'].values)"
   ]
  },
  {
   "cell_type": "code",
   "execution_count": 19,
   "metadata": {},
   "outputs": [
    {
     "data": {
      "text/plain": [
       "191751.5"
      ]
     },
     "execution_count": 19,
     "metadata": {},
     "output_type": "execute_result"
    }
   ],
   "source": [
    "np.max(np.gradient(df_us_tests['tested'].values))"
   ]
  },
  {
   "cell_type": "code",
   "execution_count": 20,
   "metadata": {},
   "outputs": [
    {
     "data": {
      "text/plain": [
       "480456"
      ]
     },
     "execution_count": 20,
     "metadata": {},
     "output_type": "execute_result"
    }
   ],
   "source": [
    "np.max(df_us_tests['positive'].values)"
   ]
  },
  {
   "cell_type": "code",
   "execution_count": 21,
   "metadata": {},
   "outputs": [
    {
     "data": {
      "text/plain": [
       "456584"
      ]
     },
     "execution_count": 21,
     "metadata": {},
     "output_type": "execute_result"
    }
   ],
   "source": [
    "df_us_tests['positive'].values[-2]"
   ]
  },
  {
   "cell_type": "code",
   "execution_count": 22,
   "metadata": {},
   "outputs": [
    {
     "name": "stdout",
     "output_type": "stream",
     "text": [
      "X1,Y1 (5, 4801.5)\n",
      "X2,Y2 (13, 37315.5)\n"
     ]
    }
   ],
   "source": [
    "X1 = 5\n",
    "Y1 = np.gradient(df_us_tests['tested'].values)[X1]\n",
    "X2 = 13\n",
    "Y2 = np.gradient(df_us_tests['tested'].values)[X2]\n",
    "points = [(X1,Y1),(X2,Y2)]\n",
    "degree = 3\n",
    "\n",
    "print(f'X1,Y1 {X1,Y1}')\n",
    "print(f'X2,Y2 {X2,Y2}')\n",
    "test_base,A_factor = determine_R0(points)"
   ]
  },
  {
   "cell_type": "code",
   "execution_count": 23,
   "metadata": {},
   "outputs": [
    {
     "data": {
      "text/plain": [
       "1.292153301333399"
      ]
     },
     "execution_count": 23,
     "metadata": {},
     "output_type": "execute_result"
    }
   ],
   "source": [
    "test_base"
   ]
  },
  {
   "cell_type": "code",
   "execution_count": 24,
   "metadata": {},
   "outputs": [
    {
     "name": "stderr",
     "output_type": "stream",
     "text": [
      "/anaconda3/envs/torch/lib/python3.6/site-packages/ipykernel_launcher.py:27: RankWarning: The fit may be poorly conditioned\n"
     ]
    }
   ],
   "source": [
    "line,coefs = return_polyfit(np.array([X1,X2]),np.array([Y1,Y2]),degree)\n",
    "# poly.polyval(down_day, coefs)"
   ]
  },
  {
   "cell_type": "code",
   "execution_count": 25,
   "metadata": {},
   "outputs": [],
   "source": [
    "def decay_to_max(max_daily,last_point,duration):\n",
    "    points = []\n",
    "    new_point = last_point + ((max_daily - last_point) / 2)\n",
    "    print('last_point',last_point,'new_point',new_point)\n",
    "    for _ in range(duration):\n",
    "        points.append(new_point)\n",
    "        new_point += (max_daily - new_point) / 2\n",
    "    return np.array(points)"
   ]
  },
  {
   "cell_type": "code",
   "execution_count": 26,
   "metadata": {},
   "outputs": [
    {
     "name": "stdout",
     "output_type": "stream",
     "text": [
      "last_point 134418.6324730965 new_point 142209.31623654824\n"
     ]
    },
    {
     "data": {
      "text/plain": [
       "[<matplotlib.lines.Line2D at 0x1a1842ffd0>]"
      ]
     },
     "execution_count": 26,
     "metadata": {},
     "output_type": "execute_result"
    },
    {
     "data": {
      "image/png": "[encoded data removed]",
      "text/plain": [
       "<Figure size 432x288 with 1 Axes>"
      ]
     },
     "metadata": {},
     "output_type": "display_data"
    }
   ],
   "source": [
    "max_daily_tests = 150*1e+3\n",
    "Ys = np.power(test_base,np.arange(19))*A_factor\n",
    "end_ys = decay_to_max(max_daily_tests,Ys[-1],20)\n",
    "\n",
    "projected_tests = np.concatenate([Ys,end_ys])\n",
    "plt.plot(projected_tests)\n",
    "# plt.yscale('log')"
   ]
  },
  {
   "cell_type": "markdown",
   "metadata": {},
   "source": [
    "## Looking at infection cases"
   ]
  },
  {
   "cell_type": "code",
   "execution_count": 27,
   "metadata": {},
   "outputs": [],
   "source": [
    "def gen_infection_scurve(params):\n",
    "    population,R0,asymptomatic_period,hospitalization_rate,inflection_point,R0_reduction,base_R0,hospital_days = params.values()\n",
    "    day = 0\n",
    "    total_infections = population\n",
    "    current_infections = population\n",
    "    hospitalized_patients = deque(maxlen=hospital_days)\n",
    "    while 1:\n",
    "        if day < inflection_point*asymptomatic_period:\n",
    "            current_infections = R0 * current_infections\n",
    "            total_infections += current_infections\n",
    "            day += asymptomatic_period\n",
    "            hospitalized_patients.append(current_infections * hospitalization_rate)\n",
    "    #         print(f'hospitalized_patients {sum(hospitalized_patients)}')\n",
    "        else:\n",
    "            current_infections = R0 * current_infections\n",
    "            total_infections += current_infections\n",
    "            day += asymptomatic_period\n",
    "            hospitalized_patients.append(current_infections * hospitalization_rate)\n",
    "            R0 += (base_R0 - R0) / 2\n",
    "            R0 = max(R0,base_R0)\n",
    "        print(f'Day {day}, Current_infections: {current_infections:.0f}, total_infections: {total_infections:.0f}, Hospitalized_patients {sum(hospitalized_patients):.2f}, R0 {R0:.2f}')\n",
    "        yield (day,current_infections,total_infections,sum(hospitalized_patients),R0)\n",
    "    "
   ]
  },
  {
   "cell_type": "markdown",
   "metadata": {},
   "source": [
    "# Making the simulation more detailed\n",
    "\n",
    "- add influx from travelers. Explains the reason why cases stay around 40-100\n",
    "- add testing percentages. Start at zero and increase.\n",
    "- add positive and negative rates for covid. \n",
    "- Assume hospitalized patients are always tested.\n",
    "\n",
    "March 21\n",
    "- 151k tests\n",
    "- 26k cases"
   ]
  },
  {
   "cell_type": "code",
   "execution_count": 28,
   "metadata": {},
   "outputs": [],
   "source": [
    "def return_testing_rate():\n",
    "    pass\n",
    "\n",
    "def gen_infection_adv(params):\n",
    "    population,R0,asymptomatic_period,hospitalization_rate,inflection_point,R0_reduction,base_R0,hospital_days,tests,pos_rate,traveler_cases = params.values()\n",
    "    day = 0\n",
    "    down_day = 0\n",
    "    total_confirmed = 0\n",
    "    daily_confirmed = 0\n",
    "    total_tests = 0\n",
    "    current_tests = 0\n",
    "    total_infections = population\n",
    "    current_infections = population\n",
    "    hospitalized_patients = deque(maxlen=hospital_days)\n",
    "    while 1:\n",
    "        if day < inflection_point*asymptomatic_period:\n",
    "            current_infections = R0 * current_infections\n",
    "            total_infections += current_infections\n",
    "            day += asymptomatic_period\n",
    "            hospitalized_patients.append(current_infections * hospitalization_rate)\n",
    "        else:\n",
    "            current_infections = R0 * current_infections\n",
    "            total_infections += current_infections\n",
    "            day += asymptomatic_period\n",
    "            down_day += asymptomatic_period\n",
    "            hospitalized_patients.append(current_infections * hospitalization_rate)\n",
    "            R0 += (base_R0 - R0) / 2\n",
    "            R0 = max(R0,base_R0)\n",
    "            current_tests = tests[down_day]\n",
    "            total_tests += current_tests\n",
    "            daily_confirmed = current_tests * pos_rate\n",
    "            total_confirmed += daily_confirmed\n",
    "        print(f'Day {day}, Total tests {total_tests:.0f}, Daily_tests {current_tests:.0f}, Daily confirmed {daily_confirmed:.0f}, Total confirmed {total_confirmed:.0f}, Current_infections: {current_infections:.0f}, total_infections: {total_infections:.0f}, Hospitalized_patients {sum(hospitalized_patients):.0f}, R0 {R0:.2f}')\n",
    "        yield (day,current_infections,total_infections,sum(hospitalized_patients),R0,daily_confirmed,total_confirmed,current_tests,total_tests)\n",
    "    "
   ]
  },
  {
   "cell_type": "code",
   "execution_count": 29,
   "metadata": {},
   "outputs": [],
   "source": [
    "population = 5\n",
    "R0 = 2.3\n",
    "asymptomatic_period = 5\n",
    "hospitalization_rate = 0.05\n",
    "inflection_point = 9 # of cycles since to Jan 24 to March 16\n",
    "R0_reduction = 0.9\n",
    "base_R0 = 0.80\n",
    "hospital_days = 14\n",
    "traveler_cases = 50\n",
    "\n",
    "adv_params = {'population':population,\n",
    "         'R0':R0,\n",
    "         'asymptomatic_period':asymptomatic_period,\n",
    "         'hospitalization_rate':hospitalization_rate,\n",
    "         'inflection_point':inflection_point,\n",
    "         'R0_reduction':R0_reduction,\n",
    "         'base_R0':base_R0,\n",
    "          'hospital_days': hospital_days,\n",
    "          'tests':projected_tests,\n",
    "          'pos_rate':0.14,\n",
    "        'traveler_cases':traveler_cases\n",
    "         }"
   ]
  },
  {
   "cell_type": "code",
   "execution_count": 30,
   "metadata": {},
   "outputs": [
    {
     "name": "stdout",
     "output_type": "stream",
     "text": [
      "Day 5, Total tests 0, Daily_tests 0, Daily confirmed 0, Total confirmed 0, Current_infections: 12, total_infections: 16, Hospitalized_patients 1, R0 2.30\n",
      "Day 10, Total tests 0, Daily_tests 0, Daily confirmed 0, Total confirmed 0, Current_infections: 26, total_infections: 43, Hospitalized_patients 2, R0 2.30\n",
      "Day 15, Total tests 0, Daily_tests 0, Daily confirmed 0, Total confirmed 0, Current_infections: 61, total_infections: 104, Hospitalized_patients 5, R0 2.30\n",
      "Day 20, Total tests 0, Daily_tests 0, Daily confirmed 0, Total confirmed 0, Current_infections: 140, total_infections: 244, Hospitalized_patients 12, R0 2.30\n",
      "Day 25, Total tests 0, Daily_tests 0, Daily confirmed 0, Total confirmed 0, Current_infections: 322, total_infections: 566, Hospitalized_patients 28, R0 2.30\n",
      "Day 30, Total tests 0, Daily_tests 0, Daily confirmed 0, Total confirmed 0, Current_infections: 740, total_infections: 1306, Hospitalized_patients 65, R0 2.30\n",
      "Day 35, Total tests 0, Daily_tests 0, Daily confirmed 0, Total confirmed 0, Current_infections: 1702, total_infections: 3008, Hospitalized_patients 150, R0 2.30\n",
      "Day 40, Total tests 0, Daily_tests 0, Daily confirmed 0, Total confirmed 0, Current_infections: 3916, total_infections: 6924, Hospitalized_patients 346, R0 2.30\n",
      "Day 45, Total tests 0, Daily_tests 0, Daily confirmed 0, Total confirmed 0, Current_infections: 9006, total_infections: 15929, Hospitalized_patients 796, R0 2.30\n",
      "Day 50, Total tests 4802, Daily_tests 4802, Daily confirmed 672, Total confirmed 672, Current_infections: 20713, total_infections: 36643, Hospitalized_patients 1832, R0 1.55\n",
      "Day 55, Total tests 22098, Daily_tests 17296, Daily confirmed 2421, Total confirmed 3094, Current_infections: 32106, total_infections: 68748, Hospitalized_patients 3437, R0 1.17\n",
      "Day 60, Total tests 84402, Daily_tests 62304, Daily confirmed 8723, Total confirmed 11816, Current_infections: 37724, total_infections: 106472, Hospitalized_patients 5323, R0 0.99\n",
      "Day 65, Total tests 230506, Daily_tests 146105, Daily confirmed 20455, Total confirmed 32271, Current_infections: 37252, total_infections: 143725, Hospitalized_patients 7186, R0 0.89\n",
      "Day 70, Total tests 380385, Daily_tests 149878, Daily confirmed 20983, Total confirmed 53254, Current_infections: 33294, total_infections: 177019, Hospitalized_patients 8851, R0 0.85\n",
      "Day 75, Total tests 530381, Daily_tests 149996, Daily confirmed 20999, Total confirmed 74253, Current_infections: 28196, total_infections: 205215, Hospitalized_patients 10260, R0 0.82\n",
      "Day 80, Total tests 680381, Daily_tests 150000, Daily confirmed 21000, Total confirmed 95253, Current_infections: 23218, total_infections: 228433, Hospitalized_patients 11420, R0 0.81\n"
     ]
    }
   ],
   "source": [
    "advGenerator = gen_infection_adv(adv_params)\n",
    "advcurve_data = []\n",
    "for _ in range(16):\n",
    "    advcurve_data.append(next(advGenerator))"
   ]
  },
  {
   "cell_type": "code",
   "execution_count": 31,
   "metadata": {},
   "outputs": [
    {
     "name": "stdout",
     "output_type": "stream",
     "text": [
      "Day 5, Current_infections: 12, total_infections: 16, Hospitalized_patients 0.58, R0 2.30\n",
      "Day 10, Current_infections: 26, total_infections: 43, Hospitalized_patients 1.90, R0 2.30\n",
      "Day 15, Current_infections: 61, total_infections: 104, Hospitalized_patients 4.94, R0 2.30\n",
      "Day 20, Current_infections: 140, total_infections: 244, Hospitalized_patients 11.94, R0 2.30\n",
      "Day 25, Current_infections: 322, total_infections: 566, Hospitalized_patients 28.03, R0 2.30\n",
      "Day 30, Current_infections: 740, total_infections: 1306, Hospitalized_patients 65.04, R0 2.30\n",
      "Day 35, Current_infections: 1702, total_infections: 3008, Hospitalized_patients 150.16, R0 2.30\n",
      "Day 40, Current_infections: 3916, total_infections: 6924, Hospitalized_patients 345.93, R0 2.30\n",
      "Day 45, Current_infections: 9006, total_infections: 15929, Hospitalized_patients 796.22, R0 2.30\n",
      "Day 50, Current_infections: 20713, total_infections: 36643, Hospitalized_patients 1831.88, R0 1.55\n",
      "Day 55, Current_infections: 32106, total_infections: 68748, Hospitalized_patients 3437.16, R0 1.17\n",
      "Day 60, Current_infections: 37724, total_infections: 106472, Hospitalized_patients 5323.36, R0 0.99\n",
      "Day 65, Current_infections: 37252, total_infections: 143725, Hospitalized_patients 7185.99, R0 0.89\n",
      "Day 70, Current_infections: 33294, total_infections: 177019, Hospitalized_patients 8850.71, R0 0.85\n",
      "Day 75, Current_infections: 28196, total_infections: 205215, Hospitalized_patients 10259.94, R0 0.82\n",
      "Day 80, Current_infections: 23218, total_infections: 228433, Hospitalized_patients 11419.51, R0 0.81\n",
      "Day 85, Current_infections: 18846, total_infections: 247279, Hospitalized_patients 12358.78, R0 0.81\n",
      "Day 90, Current_infections: 15187, total_infections: 262467, Hospitalized_patients 13111.16, R0 0.80\n",
      "Day 95, Current_infections: 12194, total_infections: 274661, Hospitalized_patients 13704.79, R0 0.80\n",
      "Day 100, Current_infections: 9773, total_infections: 284435, Hospitalized_patients 14156.46, R0 0.80\n",
      "Day 105, Current_infections: 7826, total_infections: 292261, Hospitalized_patients 14462.63, R0 0.80\n",
      "Day 110, Current_infections: 6264, total_infections: 298524, Hospitalized_patients 14580.03, R0 0.80\n",
      "Day 115, Current_infections: 5012, total_infections: 303536, Hospitalized_patients 14380.35, R0 0.80\n",
      "Day 120, Current_infections: 4010, total_infections: 307546, Hospitalized_patients 13545.19, R0 0.80\n",
      "Day 125, Current_infections: 3208, total_infections: 310755, Hospitalized_patients 12100.32, R0 0.80\n"
     ]
    }
   ],
   "source": [
    "params = {'population':population,\n",
    "         'R0':R0,\n",
    "         'asymptomatic_period':asymptomatic_period,\n",
    "         'hospitalization_rate':hospitalization_rate,\n",
    "         'inflection_point':inflection_point,\n",
    "         'R0_reduction':R0_reduction,\n",
    "         'base_R0':base_R0,\n",
    "          'hospital_days': hospital_days\n",
    "         }\n",
    "curveGenerator = gen_infection_scurve(params)\n",
    "scurve_data = []\n",
    "for _ in range(25):\n",
    "    scurve_data.append(next(curveGenerator))"
   ]
  },
  {
   "cell_type": "code",
   "execution_count": 32,
   "metadata": {},
   "outputs": [],
   "source": [
    "def plot_projections(projections):\n",
    "    data = [[] for _ in range(len(projections[0]))]\n",
    "    print(len(data))\n",
    "    for projection in projections:\n",
    "        print('projection',projection)\n",
    "        for i,d in enumerate(projection):\n",
    "            data[i].append(d)\n",
    "    return data"
   ]
  },
  {
   "cell_type": "code",
   "execution_count": 33,
   "metadata": {},
   "outputs": [
    {
     "name": "stdout",
     "output_type": "stream",
     "text": [
      "9\n",
      "projection (5, 11.5, 16.5, 0.5750000000000001, 2.3, 0, 0, 0, 0)\n",
      "projection (10, 26.45, 42.95, 1.8975, 2.3, 0, 0, 0, 0)\n",
      "projection (15, 60.834999999999994, 103.785, 4.9392499999999995, 2.3, 0, 0, 0, 0)\n",
      "projection (20, 139.92049999999998, 243.70549999999997, 11.935274999999999, 2.3, 0, 0, 0, 0)\n",
      "projection (25, 321.8171499999999, 565.5226499999999, 28.026132499999996, 2.3, 0, 0, 0, 0)\n",
      "projection (30, 740.1794449999998, 1305.7020949999996, 65.03510474999999, 2.3, 0, 0, 0, 0)\n",
      "projection (35, 1702.4127234999994, 3008.1148184999993, 150.15574092499998, 2.3, 0, 0, 0, 0)\n",
      "projection (40, 3915.5492640499983, 6923.664082549998, 345.9332041274999, 2.3, 0, 0, 0, 0)\n",
      "projection (45, 9005.763307314995, 15929.427389864994, 796.2213694932498, 2.3, 0, 0, 0, 0)\n",
      "projection (50, 20713.25560682449, 36642.68299668948, 1831.8841498344743, 1.5499999999999998, 672.21, 672.21, 4801.5, 4801.5)\n",
      "projection (55, 32105.546190577952, 68748.22918726743, 3437.161459363372, 1.1749999999999998, 2421.4481632227953, 3093.6581632227953, 17296.05830873425, 22097.55830873425)\n",
      "projection (60, 37724.016773929085, 106472.24596119652, 5323.362298059827, 0.9874999999999999, 8722.5884874891, 11816.246650711895, 62304.20348206499, 84401.76179079924)\n",
      "projection (65, 37252.466564254966, 143724.7125254515, 7185.985626272575, 0.89375, 20454.65213655838, 32270.898787270275, 146104.65811827412, 230506.41990907336)\n",
      "projection (70, 33294.39199180288, 177019.10451725437, 8850.705225862719, 0.846875, 20982.95787926745, 53253.85666653773, 149878.27056619606, 380384.69047526945)\n",
      "projection (75, 28196.18821805806, 205215.29273531243, 10259.93963676562, 0.8234375, 20999.46743372711, 74253.32410026484, 149996.19595519363, 530380.886430463)\n",
      "projection (80, 23217.798735807188, 228433.0914711196, 11419.507073555982, 0.81171875, 20999.983357303972, 95253.30745756882, 149999.8811235998, 680380.7675540629)\n"
     ]
    },
    {
     "data": {
      "image/png": "[encoded data removed]",
      "text/plain": [
       "<Figure size 432x288 with 1 Axes>"
      ]
     },
     "metadata": {},
     "output_type": "display_data"
    }
   ],
   "source": [
    "values = plot_projections(advcurve_data)\n",
    "# (day,current_infections,total_infections,sum(hospitalized_patients),R0,daily_confirmed,total_confirmed,current_tests,total_tests)\n",
    "labels = ['days','current_infections','total_infections','hospitalized_patients','R0s','daily_confirmed','total_confirmed','current_tests','total_tests']\n",
    "colors = ['b','g','r','c','m','y','lightblue','lightgreen','gray','teal']\n",
    "for i,x in enumerate(values[1:-1],1):\n",
    "    epochs = range(1,len(x)+1)\n",
    "    plt.plot(epochs,x,colors[i],label=f\"{labels[i]}\")\n",
    "    plt.title('Covid19')\n",
    "    plt.xlabel('5 Day cycles')\n",
    "    plt.ylabel('Cases')\n",
    "    plt.legend()\n",
    "plt.show()"
   ]
  },
  {
   "cell_type": "code",
   "execution_count": 34,
   "metadata": {},
   "outputs": [
    {
     "data": {
      "image/png": "[encoded data removed]",
      "text/plain": [
       "<Figure size 432x288 with 1 Axes>"
      ]
     },
     "metadata": {},
     "output_type": "display_data"
    }
   ],
   "source": [
    "days,current_infections,total_infections,hospitalized_patients,R0s = [],[],[],[],[]\n",
    "for point in scurve_data:\n",
    "    day,current_infection,total_infection,hospitalized_patient,R0 = point\n",
    "    days.append(day)\n",
    "    current_infections.append(current_infection)\n",
    "    total_infections.append(total_infection)\n",
    "    hospitalized_patients.append(hospitalized_patient)\n",
    "    R0s.append(R0)\n",
    "    \n",
    "values = [total_infections,current_infections,hospitalized_patients,R0s,days]\n",
    "labels = ['total_infections','current_infections','hospitalized_patients','R0s','days']\n",
    "colors = ['b','g','r','c','m','y','lightblue','lightgreen','gray','teal']\n",
    "for i,x in enumerate(values[:-2]):\n",
    "    epochs = range(1,len(x)+1)\n",
    "    plt.plot(epochs,x,colors[i],label=f\"{labels[i]}\")\n",
    "    plt.title('Covid19')\n",
    "    plt.xlabel('5 Day cycles')\n",
    "    plt.ylabel('Cases')\n",
    "    plt.legend()\n",
    "plt.show()"
   ]
  },
  {
   "cell_type": "code",
   "execution_count": 35,
   "metadata": {},
   "outputs": [
    {
     "data": {
      "image/png": "[encoded data removed]",
      "text/plain": [
       "<Figure size 432x288 with 1 Axes>"
      ]
     },
     "metadata": {},
     "output_type": "display_data"
    }
   ],
   "source": [
    "for i,x in enumerate(values[1:-2],1):\n",
    "    epochs = range(1,len(x)+1)\n",
    "    plt.plot(epochs,x,colors[i],label=f\"{labels[i]}\")\n",
    "    plt.title('Covid19')\n",
    "    plt.xlabel('5 Day cycles')\n",
    "    plt.ylabel('Cases')\n",
    "    plt.legend()\n",
    "plt.show()"
   ]
  },
  {
   "cell_type": "code",
   "execution_count": 36,
   "metadata": {},
   "outputs": [
    {
     "data": {
      "image/png": "[encoded data removed]",
      "text/plain": [
       "<Figure size 432x288 with 1 Axes>"
      ]
     },
     "metadata": {},
     "output_type": "display_data"
    }
   ],
   "source": [
    "for i,x in enumerate(values[3:4],3):\n",
    "    epochs = range(1,len(x)+1)\n",
    "    plt.plot(epochs,x,colors[i],label=f\"{labels[i]}\")\n",
    "    plt.title('Covid19')\n",
    "    plt.xlabel('5 Day cycles')\n",
    "    plt.ylabel('Cases')\n",
    "    plt.legend()\n",
    "plt.show()"
   ]
  },
  {
   "cell_type": "code",
   "execution_count": 37,
   "metadata": {},
   "outputs": [],
   "source": [
    "def gen_infections(population,R0,asymptomatic_period,hospitalization_rate):\n",
    "    day = 0\n",
    "    total_infections = population\n",
    "    current_infections = population\n",
    "    hospitalized_patients = deque(maxlen=10)\n",
    "    while 1:\n",
    "        current_infections = R0 * current_infections\n",
    "        total_infections += current_infections\n",
    "        day += asymptomatic_period\n",
    "        hospitalized_patients.append(current_infections * hospitalization_rate)\n",
    "#         print(f'hospitalized_patients {sum(hospitalized_patients)}')\n",
    "        print(f'Day {day}, Current_infections: {current_infections:.0f}, total_infections: {total_infections:.0f}, Hospitalized_patients {sum(hospitalized_patients):.2f}')\n",
    "        yield total_infections\n",
    "    "
   ]
  },
  {
   "cell_type": "code",
   "execution_count": 38,
   "metadata": {},
   "outputs": [],
   "source": [
    "population = 3\n",
    "R0 = 2.3\n",
    "asymptomatic_period = 5\n",
    "hospitalization_rate = 0.05\n",
    "generator = gen_infections(population,R0,asymptomatic_period,hospitalization_rate)"
   ]
  },
  {
   "cell_type": "code",
   "execution_count": 39,
   "metadata": {},
   "outputs": [
    {
     "name": "stdout",
     "output_type": "stream",
     "text": [
      "Day 5, Current_infections: 7, total_infections: 10, Hospitalized_patients 0.34\n",
      "Day 10, Current_infections: 16, total_infections: 26, Hospitalized_patients 1.14\n",
      "Day 15, Current_infections: 37, total_infections: 62, Hospitalized_patients 2.96\n",
      "Day 20, Current_infections: 84, total_infections: 146, Hospitalized_patients 7.16\n",
      "Day 25, Current_infections: 193, total_infections: 339, Hospitalized_patients 16.82\n",
      "Day 30, Current_infections: 444, total_infections: 783, Hospitalized_patients 39.02\n",
      "Day 35, Current_infections: 1021, total_infections: 1805, Hospitalized_patients 90.09\n",
      "Day 40, Current_infections: 2349, total_infections: 4154, Hospitalized_patients 207.56\n",
      "Day 45, Current_infections: 5403, total_infections: 9558, Hospitalized_patients 477.73\n",
      "Day 50, Current_infections: 12428, total_infections: 21986, Hospitalized_patients 1099.13\n",
      "Day 55, Current_infections: 28584, total_infections: 50570, Hospitalized_patients 2528.00\n",
      "Day 60, Current_infections: 65744, total_infections: 116314, Hospitalized_patients 5814.40\n",
      "Day 65, Current_infections: 151211, total_infections: 267525, Hospitalized_patients 13373.12\n",
      "Day 70, Current_infections: 347785, total_infections: 615310, Hospitalized_patients 30758.18\n",
      "Day 75, Current_infections: 799906, total_infections: 1415215, Hospitalized_patients 70743.81\n",
      "Day 80, Current_infections: 1839783, total_infections: 3254999, Hospitalized_patients 162710.76\n"
     ]
    }
   ],
   "source": [
    "for i in range(1,17):\n",
    "    next(generator)\n",
    "#     print(f'Infected population {next(generator)}, Day {i*5}')"
   ]
  },
  {
   "cell_type": "markdown",
   "metadata": {},
   "source": [
    "## Graphs with different initial populations"
   ]
  },
  {
   "cell_type": "code",
   "execution_count": 40,
   "metadata": {
    "scrolled": true
   },
   "outputs": [
    {
     "name": "stdout",
     "output_type": "stream",
     "text": [
      "Day 5, Current_infections: 2, total_infections: 3, Hospitalized_patients 0.11\n",
      "Day 10, Current_infections: 5, total_infections: 9, Hospitalized_patients 0.38\n",
      "Day 15, Current_infections: 12, total_infections: 21, Hospitalized_patients 0.99\n",
      "Day 20, Current_infections: 28, total_infections: 49, Hospitalized_patients 2.39\n",
      "Day 25, Current_infections: 64, total_infections: 113, Hospitalized_patients 5.61\n",
      "Day 30, Current_infections: 148, total_infections: 261, Hospitalized_patients 13.01\n",
      "Day 35, Current_infections: 340, total_infections: 602, Hospitalized_patients 30.03\n",
      "Day 40, Current_infections: 783, total_infections: 1385, Hospitalized_patients 69.19\n",
      "Day 45, Current_infections: 1801, total_infections: 3186, Hospitalized_patients 159.24\n",
      "Day 50, Current_infections: 4143, total_infections: 7329, Hospitalized_patients 366.38\n",
      "Day 55, Current_infections: 9528, total_infections: 16857, Hospitalized_patients 842.67\n",
      "Day 60, Current_infections: 21915, total_infections: 38771, Hospitalized_patients 1938.13\n",
      "Day 5, Current_infections: 5, total_infections: 7, Hospitalized_patients 0.23\n",
      "Day 10, Current_infections: 11, total_infections: 17, Hospitalized_patients 0.76\n",
      "Day 15, Current_infections: 24, total_infections: 42, Hospitalized_patients 1.98\n",
      "Day 20, Current_infections: 56, total_infections: 97, Hospitalized_patients 4.77\n",
      "Day 25, Current_infections: 129, total_infections: 226, Hospitalized_patients 11.21\n",
      "Day 30, Current_infections: 296, total_infections: 522, Hospitalized_patients 26.01\n",
      "Day 35, Current_infections: 681, total_infections: 1203, Hospitalized_patients 60.06\n",
      "Day 40, Current_infections: 1566, total_infections: 2769, Hospitalized_patients 138.37\n",
      "Day 45, Current_infections: 3602, total_infections: 6372, Hospitalized_patients 318.49\n",
      "Day 50, Current_infections: 8285, total_infections: 14657, Hospitalized_patients 732.75\n",
      "Day 55, Current_infections: 19056, total_infections: 33713, Hospitalized_patients 1685.33\n",
      "Day 60, Current_infections: 43829, total_infections: 77543, Hospitalized_patients 3876.27\n",
      "Day 5, Current_infections: 7, total_infections: 10, Hospitalized_patients 0.34\n",
      "Day 10, Current_infections: 16, total_infections: 26, Hospitalized_patients 1.14\n",
      "Day 15, Current_infections: 37, total_infections: 62, Hospitalized_patients 2.96\n",
      "Day 20, Current_infections: 84, total_infections: 146, Hospitalized_patients 7.16\n",
      "Day 25, Current_infections: 193, total_infections: 339, Hospitalized_patients 16.82\n",
      "Day 30, Current_infections: 444, total_infections: 783, Hospitalized_patients 39.02\n",
      "Day 35, Current_infections: 1021, total_infections: 1805, Hospitalized_patients 90.09\n",
      "Day 40, Current_infections: 2349, total_infections: 4154, Hospitalized_patients 207.56\n",
      "Day 45, Current_infections: 5403, total_infections: 9558, Hospitalized_patients 477.73\n",
      "Day 50, Current_infections: 12428, total_infections: 21986, Hospitalized_patients 1099.13\n",
      "Day 55, Current_infections: 28584, total_infections: 50570, Hospitalized_patients 2528.00\n",
      "Day 60, Current_infections: 65744, total_infections: 116314, Hospitalized_patients 5814.40\n",
      "Day 5, Current_infections: 9, total_infections: 13, Hospitalized_patients 0.46\n",
      "Day 10, Current_infections: 21, total_infections: 34, Hospitalized_patients 1.52\n",
      "Day 15, Current_infections: 49, total_infections: 83, Hospitalized_patients 3.95\n",
      "Day 20, Current_infections: 112, total_infections: 195, Hospitalized_patients 9.55\n",
      "Day 25, Current_infections: 257, total_infections: 452, Hospitalized_patients 22.42\n",
      "Day 30, Current_infections: 592, total_infections: 1045, Hospitalized_patients 52.03\n",
      "Day 35, Current_infections: 1362, total_infections: 2406, Hospitalized_patients 120.12\n",
      "Day 40, Current_infections: 3132, total_infections: 5539, Hospitalized_patients 276.75\n",
      "Day 45, Current_infections: 7205, total_infections: 12744, Hospitalized_patients 636.98\n",
      "Day 50, Current_infections: 16571, total_infections: 29314, Hospitalized_patients 1465.51\n",
      "Day 55, Current_infections: 38112, total_infections: 67427, Hospitalized_patients 3370.67\n",
      "Day 60, Current_infections: 87658, total_infections: 155085, Hospitalized_patients 7752.53\n",
      "Day 5, Current_infections: 12, total_infections: 16, Hospitalized_patients 0.58\n",
      "Day 10, Current_infections: 26, total_infections: 43, Hospitalized_patients 1.90\n",
      "Day 15, Current_infections: 61, total_infections: 104, Hospitalized_patients 4.94\n",
      "Day 20, Current_infections: 140, total_infections: 244, Hospitalized_patients 11.94\n",
      "Day 25, Current_infections: 322, total_infections: 566, Hospitalized_patients 28.03\n",
      "Day 30, Current_infections: 740, total_infections: 1306, Hospitalized_patients 65.04\n",
      "Day 35, Current_infections: 1702, total_infections: 3008, Hospitalized_patients 150.16\n",
      "Day 40, Current_infections: 3916, total_infections: 6924, Hospitalized_patients 345.93\n",
      "Day 45, Current_infections: 9006, total_infections: 15929, Hospitalized_patients 796.22\n",
      "Day 50, Current_infections: 20713, total_infections: 36643, Hospitalized_patients 1831.88\n",
      "Day 55, Current_infections: 47640, total_infections: 84283, Hospitalized_patients 4213.33\n",
      "Day 60, Current_infections: 109573, total_infections: 193856, Hospitalized_patients 9690.67\n",
      "Day 5, Current_infections: 14, total_infections: 20, Hospitalized_patients 0.69\n",
      "Day 10, Current_infections: 32, total_infections: 52, Hospitalized_patients 2.28\n",
      "Day 15, Current_infections: 73, total_infections: 125, Hospitalized_patients 5.93\n",
      "Day 20, Current_infections: 168, total_infections: 292, Hospitalized_patients 14.32\n",
      "Day 25, Current_infections: 386, total_infections: 679, Hospitalized_patients 33.63\n",
      "Day 30, Current_infections: 888, total_infections: 1567, Hospitalized_patients 78.04\n",
      "Day 35, Current_infections: 2043, total_infections: 3610, Hospitalized_patients 180.19\n",
      "Day 40, Current_infections: 4699, total_infections: 8308, Hospitalized_patients 415.12\n",
      "Day 45, Current_infections: 10807, total_infections: 19115, Hospitalized_patients 955.47\n",
      "Day 50, Current_infections: 24856, total_infections: 43971, Hospitalized_patients 2198.26\n",
      "Day 55, Current_infections: 57169, total_infections: 101140, Hospitalized_patients 5056.00\n",
      "Day 60, Current_infections: 131488, total_infections: 232628, Hospitalized_patients 11628.80\n",
      "Day 5, Current_infections: 16, total_infections: 23, Hospitalized_patients 0.80\n",
      "Day 10, Current_infections: 37, total_infections: 60, Hospitalized_patients 2.66\n",
      "Day 15, Current_infections: 85, total_infections: 145, Hospitalized_patients 6.91\n",
      "Day 20, Current_infections: 196, total_infections: 341, Hospitalized_patients 16.71\n",
      "Day 25, Current_infections: 451, total_infections: 792, Hospitalized_patients 39.24\n",
      "Day 30, Current_infections: 1036, total_infections: 1828, Hospitalized_patients 91.05\n",
      "Day 35, Current_infections: 2383, total_infections: 4211, Hospitalized_patients 210.22\n",
      "Day 40, Current_infections: 5482, total_infections: 9693, Hospitalized_patients 484.31\n",
      "Day 45, Current_infections: 12608, total_infections: 22301, Hospitalized_patients 1114.71\n",
      "Day 50, Current_infections: 28999, total_infections: 51300, Hospitalized_patients 2564.64\n",
      "Day 55, Current_infections: 66697, total_infections: 117996, Hospitalized_patients 5898.67\n",
      "Day 60, Current_infections: 153402, total_infections: 271399, Hospitalized_patients 13566.93\n",
      "Day 5, Current_infections: 18, total_infections: 26, Hospitalized_patients 0.92\n",
      "Day 10, Current_infections: 42, total_infections: 69, Hospitalized_patients 3.04\n",
      "Day 15, Current_infections: 97, total_infections: 166, Hospitalized_patients 7.90\n",
      "Day 20, Current_infections: 224, total_infections: 390, Hospitalized_patients 19.10\n",
      "Day 25, Current_infections: 515, total_infections: 905, Hospitalized_patients 44.84\n",
      "Day 30, Current_infections: 1184, total_infections: 2089, Hospitalized_patients 104.06\n",
      "Day 35, Current_infections: 2724, total_infections: 4813, Hospitalized_patients 240.25\n",
      "Day 40, Current_infections: 6265, total_infections: 11078, Hospitalized_patients 553.49\n",
      "Day 45, Current_infections: 14409, total_infections: 25487, Hospitalized_patients 1273.95\n",
      "Day 50, Current_infections: 33141, total_infections: 58628, Hospitalized_patients 2931.01\n",
      "Day 55, Current_infections: 76225, total_infections: 134853, Hospitalized_patients 6741.33\n",
      "Day 60, Current_infections: 175317, total_infections: 310170, Hospitalized_patients 15505.07\n",
      "Day 5, Current_infections: 21, total_infections: 30, Hospitalized_patients 1.03\n",
      "Day 10, Current_infections: 48, total_infections: 77, Hospitalized_patients 3.42\n",
      "Day 15, Current_infections: 110, total_infections: 187, Hospitalized_patients 8.89\n",
      "Day 20, Current_infections: 252, total_infections: 439, Hospitalized_patients 21.48\n",
      "Day 25, Current_infections: 579, total_infections: 1018, Hospitalized_patients 50.45\n",
      "Day 30, Current_infections: 1332, total_infections: 2350, Hospitalized_patients 117.06\n",
      "Day 35, Current_infections: 3064, total_infections: 5415, Hospitalized_patients 270.28\n",
      "Day 40, Current_infections: 7048, total_infections: 12463, Hospitalized_patients 622.68\n",
      "Day 45, Current_infections: 16210, total_infections: 28673, Hospitalized_patients 1433.20\n",
      "Day 50, Current_infections: 37284, total_infections: 65957, Hospitalized_patients 3297.39\n",
      "Day 55, Current_infections: 85753, total_infections: 151710, Hospitalized_patients 7584.00\n",
      "Day 60, Current_infections: 197232, total_infections: 348941, Hospitalized_patients 17443.20\n",
      "Day 5, Current_infections: 23, total_infections: 33, Hospitalized_patients 1.15\n",
      "Day 10, Current_infections: 53, total_infections: 86, Hospitalized_patients 3.79\n",
      "Day 15, Current_infections: 122, total_infections: 208, Hospitalized_patients 9.88\n",
      "Day 20, Current_infections: 280, total_infections: 487, Hospitalized_patients 23.87\n",
      "Day 25, Current_infections: 644, total_infections: 1131, Hospitalized_patients 56.05\n",
      "Day 30, Current_infections: 1480, total_infections: 2611, Hospitalized_patients 130.07\n",
      "Day 35, Current_infections: 3405, total_infections: 6016, Hospitalized_patients 300.31\n",
      "Day 40, Current_infections: 7831, total_infections: 13847, Hospitalized_patients 691.87\n",
      "Day 45, Current_infections: 18012, total_infections: 31859, Hospitalized_patients 1592.44\n",
      "Day 50, Current_infections: 41427, total_infections: 73285, Hospitalized_patients 3663.77\n",
      "Day 55, Current_infections: 95281, total_infections: 168566, Hospitalized_patients 8426.67\n",
      "Day 60, Current_infections: 219146, total_infections: 387713, Hospitalized_patients 19381.33\n"
     ]
    },
    {
     "data": {
      "image/png": "[encoded data removed]",
      "text/plain": [
       "<Figure size 432x288 with 1 Axes>"
      ]
     },
     "metadata": {},
     "output_type": "display_data"
    }
   ],
   "source": [
    "alternates = []\n",
    "data_points = {i:[] for i in range(10)}\n",
    "for i in range(1,11):\n",
    "    alternates.append(gen_infections(i,R0,asymptomatic_period,hospitalization_rate))\n",
    "for i,gen in enumerate(alternates):\n",
    "    for _ in range(1,13):\n",
    "        data_points[i].append(next(gen))\n",
    "    \n",
    "\n",
    "colors = ['b','g','r','c','m','y','lightblue','lightgreen','gray','teal']\n",
    "xs = data_points.values()\n",
    "for i,x in enumerate(xs):\n",
    "    epochs = range(1,len(x)+1)\n",
    "    plt.plot(epochs,x,colors[i],label=f\"Initial pop {i+1}\")\n",
    "    plt.title('Covid19')\n",
    "    plt.xlabel('5 Day cycles')\n",
    "    plt.ylabel('Cases')\n",
    "    plt.legend()\n",
    "plt.show()"
   ]
  },
  {
   "cell_type": "markdown",
   "metadata": {},
   "source": [
    "## Different R0 values with pop 1"
   ]
  },
  {
   "cell_type": "code",
   "execution_count": 41,
   "metadata": {},
   "outputs": [],
   "source": [
    "R0s = np.linspace(2,3,11)"
   ]
  },
  {
   "cell_type": "code",
   "execution_count": 42,
   "metadata": {},
   "outputs": [
    {
     "name": "stdout",
     "output_type": "stream",
     "text": [
      "Day 5, Current_infections: 2, total_infections: 3, Hospitalized_patients 0.10\n",
      "Day 10, Current_infections: 4, total_infections: 7, Hospitalized_patients 0.30\n",
      "Day 15, Current_infections: 8, total_infections: 15, Hospitalized_patients 0.70\n",
      "Day 20, Current_infections: 16, total_infections: 31, Hospitalized_patients 1.50\n",
      "Day 25, Current_infections: 32, total_infections: 63, Hospitalized_patients 3.10\n",
      "Day 30, Current_infections: 64, total_infections: 127, Hospitalized_patients 6.30\n",
      "Day 35, Current_infections: 128, total_infections: 255, Hospitalized_patients 12.70\n",
      "Day 40, Current_infections: 256, total_infections: 511, Hospitalized_patients 25.50\n",
      "Day 45, Current_infections: 512, total_infections: 1023, Hospitalized_patients 51.10\n",
      "Day 50, Current_infections: 1024, total_infections: 2047, Hospitalized_patients 102.30\n",
      "Day 55, Current_infections: 2048, total_infections: 4095, Hospitalized_patients 204.60\n",
      "Day 60, Current_infections: 4096, total_infections: 8191, Hospitalized_patients 409.20\n",
      "Day 5, Current_infections: 2, total_infections: 3, Hospitalized_patients 0.11\n",
      "Day 10, Current_infections: 4, total_infections: 8, Hospitalized_patients 0.33\n",
      "Day 15, Current_infections: 9, total_infections: 17, Hospitalized_patients 0.79\n",
      "Day 20, Current_infections: 19, total_infections: 36, Hospitalized_patients 1.76\n",
      "Day 25, Current_infections: 41, total_infections: 77, Hospitalized_patients 3.80\n",
      "Day 30, Current_infections: 86, total_infections: 163, Hospitalized_patients 8.09\n",
      "Day 35, Current_infections: 180, total_infections: 343, Hospitalized_patients 17.10\n",
      "Day 40, Current_infections: 378, total_infections: 721, Hospitalized_patients 36.01\n",
      "Day 45, Current_infections: 794, total_infections: 1515, Hospitalized_patients 75.72\n",
      "Day 50, Current_infections: 1668, total_infections: 3183, Hospitalized_patients 159.12\n",
      "Day 55, Current_infections: 3503, total_infections: 6686, Hospitalized_patients 334.16\n",
      "Day 60, Current_infections: 7356, total_infections: 14042, Hospitalized_patients 701.73\n",
      "Day 5, Current_infections: 2, total_infections: 3, Hospitalized_patients 0.11\n",
      "Day 10, Current_infections: 5, total_infections: 8, Hospitalized_patients 0.35\n",
      "Day 15, Current_infections: 11, total_infections: 19, Hospitalized_patients 0.88\n",
      "Day 20, Current_infections: 23, total_infections: 42, Hospitalized_patients 2.06\n",
      "Day 25, Current_infections: 52, total_infections: 94, Hospitalized_patients 4.63\n",
      "Day 30, Current_infections: 113, total_infections: 207, Hospitalized_patients 10.30\n",
      "Day 35, Current_infections: 249, total_infections: 456, Hospitalized_patients 22.77\n",
      "Day 40, Current_infections: 549, total_infections: 1005, Hospitalized_patients 50.21\n",
      "Day 45, Current_infections: 1207, total_infections: 2212, Hospitalized_patients 110.57\n",
      "Day 50, Current_infections: 2656, total_infections: 4868, Hospitalized_patients 243.37\n",
      "Day 55, Current_infections: 5843, total_infections: 10712, Hospitalized_patients 535.42\n",
      "Day 60, Current_infections: 12855, total_infections: 23567, Hospitalized_patients 1177.93\n",
      "Day 5, Current_infections: 2, total_infections: 3, Hospitalized_patients 0.11\n",
      "Day 10, Current_infections: 5, total_infections: 9, Hospitalized_patients 0.38\n",
      "Day 15, Current_infections: 12, total_infections: 21, Hospitalized_patients 0.99\n",
      "Day 20, Current_infections: 28, total_infections: 49, Hospitalized_patients 2.39\n",
      "Day 25, Current_infections: 64, total_infections: 113, Hospitalized_patients 5.61\n",
      "Day 30, Current_infections: 148, total_infections: 261, Hospitalized_patients 13.01\n",
      "Day 35, Current_infections: 340, total_infections: 602, Hospitalized_patients 30.03\n",
      "Day 40, Current_infections: 783, total_infections: 1385, Hospitalized_patients 69.19\n",
      "Day 45, Current_infections: 1801, total_infections: 3186, Hospitalized_patients 159.24\n",
      "Day 50, Current_infections: 4143, total_infections: 7329, Hospitalized_patients 366.38\n",
      "Day 55, Current_infections: 9528, total_infections: 16857, Hospitalized_patients 842.67\n",
      "Day 60, Current_infections: 21915, total_infections: 38771, Hospitalized_patients 1938.13\n",
      "Day 5, Current_infections: 2, total_infections: 3, Hospitalized_patients 0.12\n",
      "Day 10, Current_infections: 6, total_infections: 9, Hospitalized_patients 0.41\n",
      "Day 15, Current_infections: 14, total_infections: 23, Hospitalized_patients 1.10\n",
      "Day 20, Current_infections: 33, total_infections: 56, Hospitalized_patients 2.76\n",
      "Day 25, Current_infections: 80, total_infections: 136, Hospitalized_patients 6.74\n",
      "Day 30, Current_infections: 191, total_infections: 327, Hospitalized_patients 16.29\n",
      "Day 35, Current_infections: 459, total_infections: 786, Hospitalized_patients 39.23\n",
      "Day 40, Current_infections: 1101, total_infections: 1886, Hospitalized_patients 94.26\n",
      "Day 45, Current_infections: 2642, total_infections: 4528, Hospitalized_patients 226.35\n",
      "Day 50, Current_infections: 6340, total_infections: 10868, Hospitalized_patients 543.37\n",
      "Day 55, Current_infections: 15217, total_infections: 26085, Hospitalized_patients 1304.09\n",
      "Day 60, Current_infections: 36520, total_infections: 62606, Hospitalized_patients 3129.82\n",
      "Day 5, Current_infections: 2, total_infections: 4, Hospitalized_patients 0.12\n",
      "Day 10, Current_infections: 6, total_infections: 10, Hospitalized_patients 0.44\n",
      "Day 15, Current_infections: 16, total_infections: 25, Hospitalized_patients 1.22\n",
      "Day 20, Current_infections: 39, total_infections: 64, Hospitalized_patients 3.17\n",
      "Day 25, Current_infections: 98, total_infections: 162, Hospitalized_patients 8.05\n",
      "Day 30, Current_infections: 244, total_infections: 406, Hospitalized_patients 20.26\n",
      "Day 35, Current_infections: 610, total_infections: 1017, Hospitalized_patients 50.78\n",
      "Day 40, Current_infections: 1526, total_infections: 2542, Hospitalized_patients 127.07\n",
      "Day 45, Current_infections: 3815, total_infections: 6357, Hospitalized_patients 317.81\n",
      "Day 50, Current_infections: 9537, total_infections: 15894, Hospitalized_patients 794.65\n",
      "Day 55, Current_infections: 23842, total_infections: 39736, Hospitalized_patients 1986.61\n",
      "Day 60, Current_infections: 59605, total_infections: 99340, Hospitalized_patients 4966.53\n",
      "Day 5, Current_infections: 3, total_infections: 4, Hospitalized_patients 0.13\n",
      "Day 10, Current_infections: 7, total_infections: 10, Hospitalized_patients 0.47\n",
      "Day 15, Current_infections: 18, total_infections: 28, Hospitalized_patients 1.35\n",
      "Day 20, Current_infections: 46, total_infections: 74, Hospitalized_patients 3.63\n",
      "Day 25, Current_infections: 119, total_infections: 192, Hospitalized_patients 9.57\n",
      "Day 30, Current_infections: 309, total_infections: 501, Hospitalized_patients 25.02\n",
      "Day 35, Current_infections: 803, total_infections: 1305, Hospitalized_patients 65.18\n",
      "Day 40, Current_infections: 2088, total_infections: 3393, Hospitalized_patients 169.59\n",
      "Day 45, Current_infections: 5430, total_infections: 8822, Hospitalized_patients 441.07\n",
      "Day 50, Current_infections: 14117, total_infections: 22939, Hospitalized_patients 1146.90\n",
      "Day 55, Current_infections: 36703, total_infections: 59642, Hospitalized_patients 2981.94\n",
      "Day 60, Current_infections: 95429, total_infections: 155071, Hospitalized_patients 7753.05\n",
      "Day 5, Current_infections: 3, total_infections: 4, Hospitalized_patients 0.14\n",
      "Day 10, Current_infections: 7, total_infections: 11, Hospitalized_patients 0.50\n",
      "Day 15, Current_infections: 20, total_infections: 31, Hospitalized_patients 1.48\n",
      "Day 20, Current_infections: 53, total_infections: 84, Hospitalized_patients 4.14\n",
      "Day 25, Current_infections: 143, total_infections: 227, Hospitalized_patients 11.32\n",
      "Day 30, Current_infections: 387, total_infections: 615, Hospitalized_patients 30.69\n",
      "Day 35, Current_infections: 1046, total_infections: 1661, Hospitalized_patients 82.99\n",
      "Day 40, Current_infections: 2824, total_infections: 4485, Hospitalized_patients 224.20\n",
      "Day 45, Current_infections: 7626, total_infections: 12111, Hospitalized_patients 605.48\n",
      "Day 50, Current_infections: 20589, total_infections: 32700, Hospitalized_patients 1634.94\n",
      "Day 55, Current_infections: 55591, total_infections: 88290, Hospitalized_patients 4414.33\n",
      "Day 60, Current_infections: 150095, total_infections: 238385, Hospitalized_patients 11918.70\n",
      "Day 5, Current_infections: 3, total_infections: 4, Hospitalized_patients 0.14\n",
      "Day 10, Current_infections: 8, total_infections: 12, Hospitalized_patients 0.53\n",
      "Day 15, Current_infections: 22, total_infections: 34, Hospitalized_patients 1.63\n",
      "Day 20, Current_infections: 61, total_infections: 95, Hospitalized_patients 4.70\n",
      "Day 25, Current_infections: 172, total_infections: 267, Hospitalized_patients 13.31\n",
      "Day 30, Current_infections: 482, total_infections: 749, Hospitalized_patients 37.40\n",
      "Day 35, Current_infections: 1349, total_infections: 2098, Hospitalized_patients 104.87\n",
      "Day 40, Current_infections: 3778, total_infections: 5876, Hospitalized_patients 293.77\n",
      "Day 45, Current_infections: 10578, total_infections: 16455, Hospitalized_patients 822.69\n",
      "Day 50, Current_infections: 29620, total_infections: 46074, Hospitalized_patients 2303.67\n",
      "Day 55, Current_infections: 82935, total_infections: 129010, Hospitalized_patients 6450.29\n",
      "Day 60, Current_infections: 232218, total_infections: 361228, Hospitalized_patients 18060.81\n",
      "Day 5, Current_infections: 3, total_infections: 4, Hospitalized_patients 0.14\n",
      "Day 10, Current_infections: 8, total_infections: 12, Hospitalized_patients 0.57\n",
      "Day 15, Current_infections: 24, total_infections: 37, Hospitalized_patients 1.78\n",
      "Day 20, Current_infections: 71, total_infections: 107, Hospitalized_patients 5.32\n",
      "Day 25, Current_infections: 205, total_infections: 313, Hospitalized_patients 15.58\n",
      "Day 30, Current_infections: 595, total_infections: 907, Hospitalized_patients 45.32\n",
      "Day 35, Current_infections: 1725, total_infections: 2632, Hospitalized_patients 131.57\n",
      "Day 40, Current_infections: 5002, total_infections: 7635, Hospitalized_patients 381.69\n",
      "Day 45, Current_infections: 14507, total_infections: 22142, Hospitalized_patients 1107.05\n",
      "Day 50, Current_infections: 42071, total_infections: 64213, Hospitalized_patients 3210.58\n",
      "Day 55, Current_infections: 122005, total_infections: 186218, Hospitalized_patients 9310.69\n",
      "Day 60, Current_infections: 353815, total_infections: 540033, Hospitalized_patients 27001.01\n",
      "Day 5, Current_infections: 3, total_infections: 4, Hospitalized_patients 0.15\n",
      "Day 10, Current_infections: 9, total_infections: 13, Hospitalized_patients 0.60\n",
      "Day 15, Current_infections: 27, total_infections: 40, Hospitalized_patients 1.95\n",
      "Day 20, Current_infections: 81, total_infections: 121, Hospitalized_patients 6.00\n",
      "Day 25, Current_infections: 243, total_infections: 364, Hospitalized_patients 18.15\n",
      "Day 30, Current_infections: 729, total_infections: 1093, Hospitalized_patients 54.60\n",
      "Day 35, Current_infections: 2187, total_infections: 3280, Hospitalized_patients 163.95\n",
      "Day 40, Current_infections: 6561, total_infections: 9841, Hospitalized_patients 492.00\n",
      "Day 45, Current_infections: 19683, total_infections: 29524, Hospitalized_patients 1476.15\n",
      "Day 50, Current_infections: 59049, total_infections: 88573, Hospitalized_patients 4428.60\n",
      "Day 55, Current_infections: 177147, total_infections: 265720, Hospitalized_patients 13285.80\n",
      "Day 60, Current_infections: 531441, total_infections: 797161, Hospitalized_patients 39857.40\n"
     ]
    },
    {
     "data": {
      "image/png": "[encoded data removed]",
      "text/plain": [
       "<Figure size 432x288 with 1 Axes>"
      ]
     },
     "metadata": {},
     "output_type": "display_data"
    }
   ],
   "source": [
    "alternates = []\n",
    "data_points = {i:[] for i in range(11)}\n",
    "for R0 in R0s:\n",
    "    alternates.append(gen_infections(1,R0,asymptomatic_period,hospitalization_rate))\n",
    "for i,gen in enumerate(alternates):\n",
    "    for _ in range(1,13):\n",
    "        data_points[i].append(next(gen))\n",
    "    \n",
    "\n",
    "colors = ['b','g','r','c','m','y','lightblue','lightgreen','gray','teal','brown']\n",
    "xs = data_points.values()\n",
    "for i,x in enumerate(xs):\n",
    "    epochs = range(1,len(x)+1)\n",
    "    plt.plot(epochs,x,colors[i],label=f\"R0 {R0s[i]}\")\n",
    "    plt.title('Covid19')\n",
    "    plt.xlabel('5 Day cycles')\n",
    "    plt.ylabel('Cases')\n",
    "    plt.legend()\n",
    "plt.show()"
   ]
  },
  {
   "cell_type": "markdown",
   "metadata": {},
   "source": [
    "# WHO projected R0"
   ]
  },
  {
   "cell_type": "code",
   "execution_count": 43,
   "metadata": {},
   "outputs": [
    {
     "name": "stdout",
     "output_type": "stream",
     "text": [
      "Day 5, Current_infections: 2, total_infections: 3, Hospitalized_patients 0.10\n",
      "Day 10, Current_infections: 4, total_infections: 7, Hospitalized_patients 0.30\n",
      "Day 15, Current_infections: 8, total_infections: 15, Hospitalized_patients 0.70\n",
      "Day 20, Current_infections: 16, total_infections: 31, Hospitalized_patients 1.50\n",
      "Day 25, Current_infections: 32, total_infections: 63, Hospitalized_patients 3.10\n",
      "Day 30, Current_infections: 64, total_infections: 127, Hospitalized_patients 6.30\n",
      "Day 35, Current_infections: 128, total_infections: 255, Hospitalized_patients 12.70\n",
      "Day 40, Current_infections: 256, total_infections: 511, Hospitalized_patients 25.50\n",
      "Day 45, Current_infections: 512, total_infections: 1023, Hospitalized_patients 51.10\n",
      "Day 50, Current_infections: 1024, total_infections: 2047, Hospitalized_patients 102.30\n",
      "Day 55, Current_infections: 2048, total_infections: 4095, Hospitalized_patients 204.60\n",
      "Day 60, Current_infections: 4096, total_infections: 8191, Hospitalized_patients 409.20\n",
      "Day 5, Current_infections: 2, total_infections: 4, Hospitalized_patients 0.12\n",
      "Day 10, Current_infections: 6, total_infections: 10, Hospitalized_patients 0.44\n",
      "Day 15, Current_infections: 16, total_infections: 25, Hospitalized_patients 1.22\n",
      "Day 20, Current_infections: 39, total_infections: 64, Hospitalized_patients 3.17\n",
      "Day 25, Current_infections: 98, total_infections: 162, Hospitalized_patients 8.05\n",
      "Day 30, Current_infections: 244, total_infections: 406, Hospitalized_patients 20.26\n",
      "Day 35, Current_infections: 610, total_infections: 1017, Hospitalized_patients 50.78\n",
      "Day 40, Current_infections: 1526, total_infections: 2542, Hospitalized_patients 127.07\n",
      "Day 45, Current_infections: 3815, total_infections: 6357, Hospitalized_patients 317.81\n",
      "Day 50, Current_infections: 9537, total_infections: 15894, Hospitalized_patients 794.65\n",
      "Day 55, Current_infections: 23842, total_infections: 39736, Hospitalized_patients 1986.61\n",
      "Day 60, Current_infections: 59605, total_infections: 99340, Hospitalized_patients 4966.53\n",
      "Max 8191, 99340.40795898438\n"
     ]
    },
    {
     "data": {
      "image/png": "[encoded data removed]",
      "text/plain": [
       "<Figure size 432x288 with 1 Axes>"
      ]
     },
     "metadata": {},
     "output_type": "display_data"
    }
   ],
   "source": [
    "WHO_R0s = [2,2.5]\n",
    "\n",
    "alternates = []\n",
    "data_points = {i:[] for i in range(2)}\n",
    "for R0 in WHO_R0s:\n",
    "    alternates.append(gen_infections(1,R0,asymptomatic_period,hospitalization_rate))\n",
    "for i,gen in enumerate(alternates):\n",
    "    for _ in range(1,13):\n",
    "        data_points[i].append(next(gen))\n",
    "\n",
    "print(f'Max {np.max(data_points[0])}, {np.max(data_points[1])}')\n",
    "\n",
    "colors = ['b','g','r','c','m','y','lightblue','lightgreen','gray','teal','brown']\n",
    "epochs = range(1,len(data_points[0])+1)\n",
    "plt.plot(epochs,data_points[0],colors[0],label=f\"R0 {WHO_R0s[0]}\")\n",
    "plt.plot(epochs,data_points[1],colors[1],label=f\"R0 {WHO_R0s[1]}\")\n",
    "plt.fill_between(epochs, data_points[0], data_points[1],color='orange')\n",
    "plt.title('Covid19')\n",
    "plt.xlabel('5 Day cycles')\n",
    "plt.ylabel('Cases')\n",
    "# plt.yscale(\"log\")\n",
    "plt.legend()\n",
    "plt.show()"
   ]
  },
  {
   "cell_type": "code",
   "execution_count": 44,
   "metadata": {},
   "outputs": [
    {
     "name": "stdout",
     "output_type": "stream",
     "text": [
      "result (0.890815592993061, 699.5)\n"
     ]
    }
   ],
   "source": [
    "points = [(0,699.5),(16,110)]\n",
    "result = determine_R0(points)\n",
    "print(f'result {result}')"
   ]
  },
  {
   "cell_type": "markdown",
   "metadata": {},
   "source": [
    "# List all the contained countries"
   ]
  },
  {
   "cell_type": "code",
   "execution_count": 45,
   "metadata": {},
   "outputs": [
    {
     "data": {
      "text/plain": [
       "array(['Afghanistan', 'Albania', 'Algeria', 'Andorra', 'Angola',\n",
       "       'Antigua and Barbuda', 'Argentina', 'Armenia', 'Australia',\n",
       "       'Austria', 'Azerbaijan', 'Bahamas', 'Bahrain', 'Bangladesh',\n",
       "       'Barbados', 'Belarus', 'Belgium', 'Benin', 'Bhutan', 'Bolivia',\n",
       "       'Bosnia and Herzegovina', 'Brazil', 'Brunei', 'Bulgaria',\n",
       "       'Burkina Faso', 'Cabo Verde', 'Cambodia', 'Cameroon', 'Canada',\n",
       "       'Central African Republic', 'Chad', 'Chile', 'China', 'Colombia',\n",
       "       'Congo (Brazzaville)', 'Congo (Kinshasa)', 'Costa Rica',\n",
       "       \"Cote d'Ivoire\", 'Croatia', 'Diamond Princess', 'Cuba', 'Cyprus',\n",
       "       'Czechia', 'Denmark', 'Djibouti', 'Dominican Republic', 'Ecuador',\n",
       "       'Egypt', 'El Salvador', 'Equatorial Guinea', 'Eritrea', 'Estonia',\n",
       "       'Eswatini', 'Ethiopia', 'Fiji', 'Finland', 'France', 'Gabon',\n",
       "       'Gambia', 'Georgia', 'Germany', 'Ghana', 'Greece', 'Guatemala',\n",
       "       'Guinea', 'Guyana', 'Haiti', 'Holy See', 'Honduras', 'Hungary',\n",
       "       'Iceland', 'India', 'Indonesia', 'Iran', 'Iraq', 'Ireland',\n",
       "       'Israel', 'Italy', 'Jamaica', 'Japan', 'Jordan', 'Kazakhstan',\n",
       "       'Kenya', 'Korea, South', 'Kuwait', 'Kyrgyzstan', 'Latvia',\n",
       "       'Lebanon', 'Liberia', 'Liechtenstein', 'Lithuania', 'Luxembourg',\n",
       "       'Madagascar', 'Malaysia', 'Maldives', 'Malta', 'Mauritania',\n",
       "       'Mauritius', 'Mexico', 'Moldova', 'Monaco', 'Mongolia',\n",
       "       'Montenegro', 'Morocco', 'Namibia', 'Nepal', 'Netherlands',\n",
       "       'New Zealand', 'Nicaragua', 'Niger', 'Nigeria', 'North Macedonia',\n",
       "       'Norway', 'Oman', 'Pakistan', 'Panama', 'Papua New Guinea',\n",
       "       'Paraguay', 'Peru', 'Philippines', 'Poland', 'Portugal', 'Qatar',\n",
       "       'Romania', 'Russia', 'Rwanda', 'Saint Lucia',\n",
       "       'Saint Vincent and the Grenadines', 'San Marino', 'Saudi Arabia',\n",
       "       'Senegal', 'Serbia', 'Seychelles', 'Singapore', 'Slovakia',\n",
       "       'Slovenia', 'Somalia', 'South Africa', 'Spain', 'Sri Lanka',\n",
       "       'Sudan', 'Suriname', 'Sweden', 'Switzerland', 'Taiwan*',\n",
       "       'Tanzania', 'Thailand', 'Togo', 'Trinidad and Tobago', 'Tunisia',\n",
       "       'Turkey', 'Uganda', 'Ukraine', 'United Arab Emirates',\n",
       "       'United Kingdom', 'Uruguay', 'US', 'Uzbekistan', 'Venezuela',\n",
       "       'Vietnam', 'Zambia', 'Zimbabwe', 'Dominica', 'Grenada',\n",
       "       'Mozambique', 'Syria', 'Timor-Leste', 'Belize', 'Laos', 'Libya',\n",
       "       'West Bank and Gaza', 'Guinea-Bissau', 'Mali',\n",
       "       'Saint Kitts and Nevis', 'Kosovo', 'Burma', 'MS Zaandam',\n",
       "       'Botswana', 'Burundi', 'Sierra Leone', 'Malawi', 'South Sudan',\n",
       "       'Western Sahara', 'Sao Tome and Principe'], dtype=object)"
      ]
     },
     "execution_count": 45,
     "metadata": {},
     "output_type": "execute_result"
    }
   ],
   "source": [
    "general_df['Country/Region'].unique()"
   ]
  },
  {
   "cell_type": "code",
   "execution_count": 46,
   "metadata": {},
   "outputs": [],
   "source": [
    "France = general_df[general_df['Country/Region'] == 'France']\n",
    "Spain = general_df[general_df['Country/Region'] == 'Spain']\n",
    "Italy = general_df[general_df['Country/Region'] == 'Italy']\n",
    "US = general_df[general_df['Country/Region'] == 'US']\n",
    "China = general_df[general_df['Country/Region'] == 'China']"
   ]
  },
  {
   "cell_type": "markdown",
   "metadata": {},
   "source": [
    "# USA"
   ]
  },
  {
   "cell_type": "code",
   "execution_count": 47,
   "metadata": {},
   "outputs": [
    {
     "data": {
      "text/html": [
       "<div>\n",
       "<style scoped>\n",
       "    .dataframe tbody tr th:only-of-type {\n",
       "        vertical-align: middle;\n",
       "    }\n",
       "\n",
       "    .dataframe tbody tr th {\n",
       "        vertical-align: top;\n",
       "    }\n",
       "\n",
       "    .dataframe thead th {\n",
       "        text-align: right;\n",
       "    }\n",
       "</style>\n",
       "<table border=\"1\" class=\"dataframe\">\n",
       "  <thead>\n",
       "    <tr style=\"text-align: right;\">\n",
       "      <th></th>\n",
       "      <th>Province/State</th>\n",
       "      <th>Country/Region</th>\n",
       "      <th>Lat</th>\n",
       "      <th>Long</th>\n",
       "      <th>1/22/20</th>\n",
       "      <th>1/23/20</th>\n",
       "      <th>1/24/20</th>\n",
       "      <th>1/25/20</th>\n",
       "      <th>1/26/20</th>\n",
       "      <th>1/27/20</th>\n",
       "      <th>...</th>\n",
       "      <th>3/31/20</th>\n",
       "      <th>4/1/20</th>\n",
       "      <th>4/2/20</th>\n",
       "      <th>4/3/20</th>\n",
       "      <th>4/4/20</th>\n",
       "      <th>4/5/20</th>\n",
       "      <th>4/6/20</th>\n",
       "      <th>4/7/20</th>\n",
       "      <th>4/8/20</th>\n",
       "      <th>4/9/20</th>\n",
       "    </tr>\n",
       "  </thead>\n",
       "  <tbody>\n",
       "    <tr>\n",
       "      <th>225</th>\n",
       "      <td>NaN</td>\n",
       "      <td>US</td>\n",
       "      <td>37.0902</td>\n",
       "      <td>-95.7129</td>\n",
       "      <td>1</td>\n",
       "      <td>1</td>\n",
       "      <td>2</td>\n",
       "      <td>2</td>\n",
       "      <td>5</td>\n",
       "      <td>5</td>\n",
       "      <td>...</td>\n",
       "      <td>188172</td>\n",
       "      <td>213372</td>\n",
       "      <td>243762</td>\n",
       "      <td>275586</td>\n",
       "      <td>308853</td>\n",
       "      <td>337072</td>\n",
       "      <td>366667</td>\n",
       "      <td>396223</td>\n",
       "      <td>429052</td>\n",
       "      <td>461437</td>\n",
       "    </tr>\n",
       "  </tbody>\n",
       "</table>\n",
       "<p>1 rows × 83 columns</p>\n",
       "</div>"
      ],
      "text/plain": [
       "    Province/State Country/Region      Lat     Long  1/22/20  1/23/20  \\\n",
       "225            NaN             US  37.0902 -95.7129        1        1   \n",
       "\n",
       "     1/24/20  1/25/20  1/26/20  1/27/20  ...  3/31/20  4/1/20  4/2/20  4/3/20  \\\n",
       "225        2        2        5        5  ...   188172  213372  243762  275586   \n",
       "\n",
       "     4/4/20  4/5/20  4/6/20  4/7/20  4/8/20  4/9/20  \n",
       "225  308853  337072  366667  396223  429052  461437  \n",
       "\n",
       "[1 rows x 83 columns]"
      ]
     },
     "execution_count": 47,
     "metadata": {},
     "output_type": "execute_result"
    }
   ],
   "source": [
    "US"
   ]
  },
  {
   "cell_type": "code",
   "execution_count": 48,
   "metadata": {},
   "outputs": [],
   "source": [
    "US_cases = US.iloc[:,4:]\n",
    "US_totals = US_cases.sum(axis=0).values"
   ]
  },
  {
   "cell_type": "code",
   "execution_count": 49,
   "metadata": {},
   "outputs": [
    {
     "data": {
      "image/png": "[encoded data removed]",
      "text/plain": [
       "<Figure size 432x288 with 1 Axes>"
      ]
     },
     "metadata": {},
     "output_type": "display_data"
    }
   ],
   "source": [
    "plot_totals(US_totals)"
   ]
  },
  {
   "cell_type": "code",
   "execution_count": 50,
   "metadata": {},
   "outputs": [
    {
     "data": {
      "image/png": "[encoded data removed]",
      "text/plain": [
       "<Figure size 432x288 with 1 Axes>"
      ]
     },
     "metadata": {},
     "output_type": "display_data"
    }
   ],
   "source": [
    "plot_totals(np.gradient(US_totals))"
   ]
  },
  {
   "cell_type": "code",
   "execution_count": 51,
   "metadata": {},
   "outputs": [
    {
     "name": "stdout",
     "output_type": "stream",
     "text": [
      "Peak index 77\n",
      "Confirmed cases 429052\n"
     ]
    }
   ],
   "source": [
    "peak_US_index = np.argmax(np.gradient(US_totals))\n",
    "print(f'Peak index {peak_US_index}')\n",
    "print(f'Confirmed cases {US_totals[peak_US_index]}')"
   ]
  },
  {
   "cell_type": "code",
   "execution_count": 52,
   "metadata": {},
   "outputs": [
    {
     "name": "stdout",
     "output_type": "stream",
     "text": [
      "Date of first case 1/22/20\n",
      "Date of peak 4/4/20\n",
      "Duration in days 73 days, 0:00:00\n",
      "Duration since first case 81 days, 10:14:30.993596\n"
     ]
    }
   ],
   "source": [
    "US_first_case_index = np.min(np.nonzero(US_totals))\n",
    "print(f'Date of first case {US.columns[4+US_first_case_index]}')\n",
    "print(f'Date of peak {US.columns[peak_US_index]}')\n",
    "US_start_date = parse_date(US.columns[4+US_first_case_index])\n",
    "US_peak_date = parse_date(US.columns[peak_US_index])\n",
    "US_actual_start = datetime.datetime(2020,1,20)\n",
    "\n",
    "print(f'Duration in days {US_peak_date - US_start_date}')\n",
    "print(f'Duration since first case {datetime.datetime.now() - US_actual_start}')"
   ]
  },
  {
   "cell_type": "markdown",
   "metadata": {},
   "source": [
    "# US States"
   ]
  },
  {
   "cell_type": "code",
   "execution_count": 53,
   "metadata": {},
   "outputs": [
    {
     "data": {
      "text/html": [
       "<div>\n",
       "<style scoped>\n",
       "    .dataframe tbody tr th:only-of-type {\n",
       "        vertical-align: middle;\n",
       "    }\n",
       "\n",
       "    .dataframe tbody tr th {\n",
       "        vertical-align: top;\n",
       "    }\n",
       "\n",
       "    .dataframe thead th {\n",
       "        text-align: right;\n",
       "    }\n",
       "</style>\n",
       "<table border=\"1\" class=\"dataframe\">\n",
       "  <thead>\n",
       "    <tr style=\"text-align: right;\">\n",
       "      <th></th>\n",
       "      <th>date</th>\n",
       "      <th>state</th>\n",
       "      <th>positive</th>\n",
       "      <th>negative</th>\n",
       "      <th>pending</th>\n",
       "      <th>hospitalizedCurrently</th>\n",
       "      <th>hospitalizedCumulative</th>\n",
       "      <th>inIcuCurrently</th>\n",
       "      <th>inIcuCumulative</th>\n",
       "      <th>onVentilatorCurrently</th>\n",
       "      <th>...</th>\n",
       "      <th>hospitalized</th>\n",
       "      <th>total</th>\n",
       "      <th>totalTestResults</th>\n",
       "      <th>posNeg</th>\n",
       "      <th>fips</th>\n",
       "      <th>deathIncrease</th>\n",
       "      <th>hospitalizedIncrease</th>\n",
       "      <th>negativeIncrease</th>\n",
       "      <th>positiveIncrease</th>\n",
       "      <th>totalTestResultsIncrease</th>\n",
       "    </tr>\n",
       "  </thead>\n",
       "  <tbody>\n",
       "    <tr>\n",
       "      <th>0</th>\n",
       "      <td>20200409</td>\n",
       "      <td>AK</td>\n",
       "      <td>235.0</td>\n",
       "      <td>6988.0</td>\n",
       "      <td>NaN</td>\n",
       "      <td>NaN</td>\n",
       "      <td>27.0</td>\n",
       "      <td>NaN</td>\n",
       "      <td>NaN</td>\n",
       "      <td>NaN</td>\n",
       "      <td>...</td>\n",
       "      <td>27.0</td>\n",
       "      <td>7223</td>\n",
       "      <td>7223</td>\n",
       "      <td>7223</td>\n",
       "      <td>2</td>\n",
       "      <td>0.0</td>\n",
       "      <td>0.0</td>\n",
       "      <td>146.0</td>\n",
       "      <td>9.0</td>\n",
       "      <td>155.0</td>\n",
       "    </tr>\n",
       "    <tr>\n",
       "      <th>1</th>\n",
       "      <td>20200409</td>\n",
       "      <td>AL</td>\n",
       "      <td>2769.0</td>\n",
       "      <td>18058.0</td>\n",
       "      <td>NaN</td>\n",
       "      <td>NaN</td>\n",
       "      <td>333.0</td>\n",
       "      <td>NaN</td>\n",
       "      <td>NaN</td>\n",
       "      <td>NaN</td>\n",
       "      <td>...</td>\n",
       "      <td>333.0</td>\n",
       "      <td>20827</td>\n",
       "      <td>20827</td>\n",
       "      <td>20827</td>\n",
       "      <td>1</td>\n",
       "      <td>8.0</td>\n",
       "      <td>19.0</td>\n",
       "      <td>1305.0</td>\n",
       "      <td>400.0</td>\n",
       "      <td>1705.0</td>\n",
       "    </tr>\n",
       "    <tr>\n",
       "      <th>2</th>\n",
       "      <td>20200409</td>\n",
       "      <td>AR</td>\n",
       "      <td>1119.0</td>\n",
       "      <td>13832.0</td>\n",
       "      <td>NaN</td>\n",
       "      <td>73.0</td>\n",
       "      <td>130.0</td>\n",
       "      <td>NaN</td>\n",
       "      <td>43.0</td>\n",
       "      <td>31.0</td>\n",
       "      <td>...</td>\n",
       "      <td>130.0</td>\n",
       "      <td>14951</td>\n",
       "      <td>14951</td>\n",
       "      <td>14951</td>\n",
       "      <td>5</td>\n",
       "      <td>3.0</td>\n",
       "      <td>0.0</td>\n",
       "      <td>302.0</td>\n",
       "      <td>119.0</td>\n",
       "      <td>421.0</td>\n",
       "    </tr>\n",
       "    <tr>\n",
       "      <th>3</th>\n",
       "      <td>20200409</td>\n",
       "      <td>AS</td>\n",
       "      <td>0.0</td>\n",
       "      <td>20.0</td>\n",
       "      <td>11.0</td>\n",
       "      <td>NaN</td>\n",
       "      <td>NaN</td>\n",
       "      <td>NaN</td>\n",
       "      <td>NaN</td>\n",
       "      <td>NaN</td>\n",
       "      <td>...</td>\n",
       "      <td>NaN</td>\n",
       "      <td>31</td>\n",
       "      <td>20</td>\n",
       "      <td>20</td>\n",
       "      <td>60</td>\n",
       "      <td>0.0</td>\n",
       "      <td>0.0</td>\n",
       "      <td>0.0</td>\n",
       "      <td>0.0</td>\n",
       "      <td>0.0</td>\n",
       "    </tr>\n",
       "    <tr>\n",
       "      <th>4</th>\n",
       "      <td>20200409</td>\n",
       "      <td>AZ</td>\n",
       "      <td>3018.0</td>\n",
       "      <td>34160.0</td>\n",
       "      <td>NaN</td>\n",
       "      <td>NaN</td>\n",
       "      <td>NaN</td>\n",
       "      <td>NaN</td>\n",
       "      <td>NaN</td>\n",
       "      <td>NaN</td>\n",
       "      <td>...</td>\n",
       "      <td>NaN</td>\n",
       "      <td>37178</td>\n",
       "      <td>37178</td>\n",
       "      <td>37178</td>\n",
       "      <td>4</td>\n",
       "      <td>9.0</td>\n",
       "      <td>0.0</td>\n",
       "      <td>2322.0</td>\n",
       "      <td>292.0</td>\n",
       "      <td>2614.0</td>\n",
       "    </tr>\n",
       "    <tr>\n",
       "      <th>...</th>\n",
       "      <td>...</td>\n",
       "      <td>...</td>\n",
       "      <td>...</td>\n",
       "      <td>...</td>\n",
       "      <td>...</td>\n",
       "      <td>...</td>\n",
       "      <td>...</td>\n",
       "      <td>...</td>\n",
       "      <td>...</td>\n",
       "      <td>...</td>\n",
       "      <td>...</td>\n",
       "      <td>...</td>\n",
       "      <td>...</td>\n",
       "      <td>...</td>\n",
       "      <td>...</td>\n",
       "      <td>...</td>\n",
       "      <td>...</td>\n",
       "      <td>...</td>\n",
       "      <td>...</td>\n",
       "      <td>...</td>\n",
       "      <td>...</td>\n",
       "    </tr>\n",
       "    <tr>\n",
       "      <th>1939</th>\n",
       "      <td>20200302</td>\n",
       "      <td>WA</td>\n",
       "      <td>34.0</td>\n",
       "      <td>NaN</td>\n",
       "      <td>NaN</td>\n",
       "      <td>NaN</td>\n",
       "      <td>NaN</td>\n",
       "      <td>NaN</td>\n",
       "      <td>NaN</td>\n",
       "      <td>NaN</td>\n",
       "      <td>...</td>\n",
       "      <td>NaN</td>\n",
       "      <td>34</td>\n",
       "      <td>34</td>\n",
       "      <td>34</td>\n",
       "      <td>53</td>\n",
       "      <td>3.0</td>\n",
       "      <td>0.0</td>\n",
       "      <td>0.0</td>\n",
       "      <td>4.0</td>\n",
       "      <td>4.0</td>\n",
       "    </tr>\n",
       "    <tr>\n",
       "      <th>1940</th>\n",
       "      <td>20200301</td>\n",
       "      <td>RI</td>\n",
       "      <td>1.0</td>\n",
       "      <td>NaN</td>\n",
       "      <td>NaN</td>\n",
       "      <td>NaN</td>\n",
       "      <td>NaN</td>\n",
       "      <td>NaN</td>\n",
       "      <td>NaN</td>\n",
       "      <td>NaN</td>\n",
       "      <td>...</td>\n",
       "      <td>NaN</td>\n",
       "      <td>1</td>\n",
       "      <td>1</td>\n",
       "      <td>1</td>\n",
       "      <td>44</td>\n",
       "      <td>NaN</td>\n",
       "      <td>NaN</td>\n",
       "      <td>NaN</td>\n",
       "      <td>NaN</td>\n",
       "      <td>NaN</td>\n",
       "    </tr>\n",
       "    <tr>\n",
       "      <th>1941</th>\n",
       "      <td>20200301</td>\n",
       "      <td>WA</td>\n",
       "      <td>30.0</td>\n",
       "      <td>NaN</td>\n",
       "      <td>NaN</td>\n",
       "      <td>NaN</td>\n",
       "      <td>NaN</td>\n",
       "      <td>NaN</td>\n",
       "      <td>NaN</td>\n",
       "      <td>NaN</td>\n",
       "      <td>...</td>\n",
       "      <td>NaN</td>\n",
       "      <td>30</td>\n",
       "      <td>30</td>\n",
       "      <td>30</td>\n",
       "      <td>53</td>\n",
       "      <td>3.0</td>\n",
       "      <td>0.0</td>\n",
       "      <td>0.0</td>\n",
       "      <td>12.0</td>\n",
       "      <td>12.0</td>\n",
       "    </tr>\n",
       "    <tr>\n",
       "      <th>1942</th>\n",
       "      <td>20200229</td>\n",
       "      <td>WA</td>\n",
       "      <td>18.0</td>\n",
       "      <td>NaN</td>\n",
       "      <td>NaN</td>\n",
       "      <td>NaN</td>\n",
       "      <td>NaN</td>\n",
       "      <td>NaN</td>\n",
       "      <td>NaN</td>\n",
       "      <td>NaN</td>\n",
       "      <td>...</td>\n",
       "      <td>NaN</td>\n",
       "      <td>18</td>\n",
       "      <td>18</td>\n",
       "      <td>18</td>\n",
       "      <td>53</td>\n",
       "      <td>1.0</td>\n",
       "      <td>0.0</td>\n",
       "      <td>0.0</td>\n",
       "      <td>9.0</td>\n",
       "      <td>9.0</td>\n",
       "    </tr>\n",
       "    <tr>\n",
       "      <th>1943</th>\n",
       "      <td>20200228</td>\n",
       "      <td>WA</td>\n",
       "      <td>9.0</td>\n",
       "      <td>NaN</td>\n",
       "      <td>NaN</td>\n",
       "      <td>NaN</td>\n",
       "      <td>NaN</td>\n",
       "      <td>NaN</td>\n",
       "      <td>NaN</td>\n",
       "      <td>NaN</td>\n",
       "      <td>...</td>\n",
       "      <td>NaN</td>\n",
       "      <td>9</td>\n",
       "      <td>9</td>\n",
       "      <td>9</td>\n",
       "      <td>53</td>\n",
       "      <td>NaN</td>\n",
       "      <td>NaN</td>\n",
       "      <td>NaN</td>\n",
       "      <td>NaN</td>\n",
       "      <td>NaN</td>\n",
       "    </tr>\n",
       "  </tbody>\n",
       "</table>\n",
       "<p>1944 rows × 25 columns</p>\n",
       "</div>"
      ],
      "text/plain": [
       "          date state  positive  negative  pending  hospitalizedCurrently  \\\n",
       "0     20200409    AK     235.0    6988.0      NaN                    NaN   \n",
       "1     20200409    AL    2769.0   18058.0      NaN                    NaN   \n",
       "2     20200409    AR    1119.0   13832.0      NaN                   73.0   \n",
       "3     20200409    AS       0.0      20.0     11.0                    NaN   \n",
       "4     20200409    AZ    3018.0   34160.0      NaN                    NaN   \n",
       "...        ...   ...       ...       ...      ...                    ...   \n",
       "1939  20200302    WA      34.0       NaN      NaN                    NaN   \n",
       "1940  20200301    RI       1.0       NaN      NaN                    NaN   \n",
       "1941  20200301    WA      30.0       NaN      NaN                    NaN   \n",
       "1942  20200229    WA      18.0       NaN      NaN                    NaN   \n",
       "1943  20200228    WA       9.0       NaN      NaN                    NaN   \n",
       "\n",
       "      hospitalizedCumulative  inIcuCurrently  inIcuCumulative  \\\n",
       "0                       27.0             NaN              NaN   \n",
       "1                      333.0             NaN              NaN   \n",
       "2                      130.0             NaN             43.0   \n",
       "3                        NaN             NaN              NaN   \n",
       "4                        NaN             NaN              NaN   \n",
       "...                      ...             ...              ...   \n",
       "1939                     NaN             NaN              NaN   \n",
       "1940                     NaN             NaN              NaN   \n",
       "1941                     NaN             NaN              NaN   \n",
       "1942                     NaN             NaN              NaN   \n",
       "1943                     NaN             NaN              NaN   \n",
       "\n",
       "      onVentilatorCurrently  ...  hospitalized  total totalTestResults posNeg  \\\n",
       "0                       NaN  ...          27.0   7223             7223   7223   \n",
       "1                       NaN  ...         333.0  20827            20827  20827   \n",
       "2                      31.0  ...         130.0  14951            14951  14951   \n",
       "3                       NaN  ...           NaN     31               20     20   \n",
       "4                       NaN  ...           NaN  37178            37178  37178   \n",
       "...                     ...  ...           ...    ...              ...    ...   \n",
       "1939                    NaN  ...           NaN     34               34     34   \n",
       "1940                    NaN  ...           NaN      1                1      1   \n",
       "1941                    NaN  ...           NaN     30               30     30   \n",
       "1942                    NaN  ...           NaN     18               18     18   \n",
       "1943                    NaN  ...           NaN      9                9      9   \n",
       "\n",
       "      fips  deathIncrease  hospitalizedIncrease  negativeIncrease  \\\n",
       "0        2            0.0                   0.0             146.0   \n",
       "1        1            8.0                  19.0            1305.0   \n",
       "2        5            3.0                   0.0             302.0   \n",
       "3       60            0.0                   0.0               0.0   \n",
       "4        4            9.0                   0.0            2322.0   \n",
       "...    ...            ...                   ...               ...   \n",
       "1939    53            3.0                   0.0               0.0   \n",
       "1940    44            NaN                   NaN               NaN   \n",
       "1941    53            3.0                   0.0               0.0   \n",
       "1942    53            1.0                   0.0               0.0   \n",
       "1943    53            NaN                   NaN               NaN   \n",
       "\n",
       "      positiveIncrease  totalTestResultsIncrease  \n",
       "0                  9.0                     155.0  \n",
       "1                400.0                    1705.0  \n",
       "2                119.0                     421.0  \n",
       "3                  0.0                       0.0  \n",
       "4                292.0                    2614.0  \n",
       "...                ...                       ...  \n",
       "1939               4.0                       4.0  \n",
       "1940               NaN                       NaN  \n",
       "1941              12.0                      12.0  \n",
       "1942               9.0                       9.0  \n",
       "1943               NaN                       NaN  \n",
       "\n",
       "[1944 rows x 25 columns]"
      ]
     },
     "execution_count": 53,
     "metadata": {},
     "output_type": "execute_result"
    }
   ],
   "source": [
    "USA_state_df"
   ]
  },
  {
   "cell_type": "code",
   "execution_count": 54,
   "metadata": {},
   "outputs": [],
   "source": [
    "US_states = USA_state_df['state'].unique()\n",
    "US_dates = USA_state_df['date'].unique()"
   ]
  },
  {
   "cell_type": "code",
   "execution_count": 55,
   "metadata": {},
   "outputs": [
    {
     "name": "stdout",
     "output_type": "stream",
     "text": [
      "20200409\n"
     ]
    }
   ],
   "source": [
    "print(US_dates[0])"
   ]
  },
  {
   "cell_type": "code",
   "execution_count": 56,
   "metadata": {},
   "outputs": [],
   "source": [
    "def display_state_data(state):\n",
    "    state_data = USA_state_df[USA_state_df['state'] == state]\n",
    "    print(state_data)"
   ]
  },
  {
   "cell_type": "code",
   "execution_count": 60,
   "metadata": {},
   "outputs": [
    {
     "name": "stdout",
     "output_type": "stream",
     "text": [
      "          date state  positive  negative  pending  hospitalizedCurrently  \\\n",
      "34    20200409    NJ   51027.0   56165.0      NaN                 7363.0   \n",
      "90    20200408    NJ   47437.0   52979.0      NaN                 7026.0   \n",
      "146   20200407    NJ   44416.0   50558.0      NaN                 7017.0   \n",
      "202   20200406    NJ   41090.0   47942.0      NaN                 6390.0   \n",
      "258   20200405    NJ   37505.0   44661.0      NaN                 4000.0   \n",
      "314   20200404    NJ   34124.0   41232.0      NaN                 4000.0   \n",
      "370   20200403    NJ   29895.0   37608.0      NaN                 3016.0   \n",
      "426   20200402    NJ   25590.0   33520.0      NaN                 2000.0   \n",
      "482   20200401    NJ   22255.0   30387.0      NaN                 2000.0   \n",
      "538   20200331    NJ   18696.0   27077.0      NaN                 2000.0   \n",
      "594   20200330    NJ   16636.0   25224.0      NaN                 2000.0   \n",
      "650   20200329    NJ   13386.0   22216.0      NaN                 2000.0   \n",
      "706   20200328    NJ   11124.0   19386.0      NaN                 2000.0   \n",
      "762   20200327    NJ    8825.0   16547.0      NaN                 2000.0   \n",
      "818   20200326    NJ    6876.0   13661.0      NaN                 1080.0   \n",
      "874   20200325    NJ    4402.0   10452.0      NaN                    NaN   \n",
      "930   20200324    NJ    3675.0    8325.0     45.0                    NaN   \n",
      "986   20200323    NJ    2844.0     359.0     94.0                    NaN   \n",
      "1042  20200322    NJ    1914.0     327.0     49.0                    NaN   \n",
      "1098  20200321    NJ    1327.0     294.0     40.0                    NaN   \n",
      "1154  20200320    NJ     890.0     264.0     86.0                    NaN   \n",
      "1210  20200319    NJ     742.0     210.0     74.0                    NaN   \n",
      "1266  20200318    NJ     427.0     190.0     21.0                    NaN   \n",
      "1322  20200317    NJ     267.0     163.0     55.0                    NaN   \n",
      "1378  20200316    NJ     178.0     120.0     20.0                    NaN   \n",
      "1431  20200315    NJ      98.0     120.0     34.0                    NaN   \n",
      "1482  20200314    NJ      50.0      97.0     80.0                    NaN   \n",
      "1533  20200313    NJ      50.0      97.0     80.0                    NaN   \n",
      "1584  20200312    NJ      30.0      74.0     20.0                    NaN   \n",
      "1635  20200311    NJ      24.0      57.0     20.0                    NaN   \n",
      "1686  20200310    NJ      15.0      44.0     20.0                    NaN   \n",
      "1737  20200309    NJ      11.0      35.0     14.0                    NaN   \n",
      "1788  20200308    NJ       6.0      31.0      0.0                    NaN   \n",
      "1839  20200307    NJ       4.0       NaN      1.0                    NaN   \n",
      "1880  20200306    NJ       1.0       NaN      NaN                    NaN   \n",
      "1909  20200305    NJ       1.0       NaN      NaN                    NaN   \n",
      "\n",
      "      hospitalizedCumulative  inIcuCurrently  inIcuCumulative  \\\n",
      "34                       NaN          1523.0              NaN   \n",
      "90                       NaN          1617.0              NaN   \n",
      "146                      NaN          1651.0              NaN   \n",
      "202                      NaN             NaN              NaN   \n",
      "258                      NaN             NaN              NaN   \n",
      "314                      NaN             NaN              NaN   \n",
      "370                      NaN             NaN              NaN   \n",
      "426                      NaN             NaN              NaN   \n",
      "482                      NaN             NaN              NaN   \n",
      "538                      NaN             NaN              NaN   \n",
      "594                      NaN             NaN              NaN   \n",
      "650                      NaN             NaN              NaN   \n",
      "706                      NaN             NaN              NaN   \n",
      "762                      NaN             NaN              NaN   \n",
      "818                      NaN             NaN              NaN   \n",
      "874                      NaN             NaN              NaN   \n",
      "930                      NaN             NaN              NaN   \n",
      "986                      NaN             NaN              NaN   \n",
      "1042                     NaN             NaN              NaN   \n",
      "1098                     NaN             NaN              NaN   \n",
      "1154                     NaN             NaN              NaN   \n",
      "1210                     NaN             NaN              NaN   \n",
      "1266                     NaN             NaN              NaN   \n",
      "1322                     NaN             NaN              NaN   \n",
      "1378                     NaN             NaN              NaN   \n",
      "1431                     NaN             NaN              NaN   \n",
      "1482                     NaN             NaN              NaN   \n",
      "1533                     NaN             NaN              NaN   \n",
      "1584                     NaN             NaN              NaN   \n",
      "1635                     NaN             NaN              NaN   \n",
      "1686                     NaN             NaN              NaN   \n",
      "1737                     NaN             NaN              NaN   \n",
      "1788                     NaN             NaN              NaN   \n",
      "1839                     NaN             NaN              NaN   \n",
      "1880                     NaN             NaN              NaN   \n",
      "1909                     NaN             NaN              NaN   \n",
      "\n",
      "      onVentilatorCurrently  ...  hospitalized   total totalTestResults  \\\n",
      "34                   1551.0  ...           NaN  107192           107192   \n",
      "90                   1576.0  ...           NaN  100416           100416   \n",
      "146                  1540.0  ...           NaN   94974            94974   \n",
      "202                  1263.0  ...           NaN   89032            89032   \n",
      "258                     NaN  ...           NaN   82166            82166   \n",
      "314                     NaN  ...           NaN   75356            75356   \n",
      "370                     NaN  ...           NaN   67503            67503   \n",
      "426                     NaN  ...           NaN   59110            59110   \n",
      "482                     NaN  ...           NaN   52642            52642   \n",
      "538                     NaN  ...           NaN   45773            45773   \n",
      "594                     NaN  ...           NaN   41860            41860   \n",
      "650                     NaN  ...           NaN   35602            35602   \n",
      "706                     NaN  ...           NaN   30510            30510   \n",
      "762                     NaN  ...           NaN   25372            25372   \n",
      "818                     NaN  ...           NaN   20537            20537   \n",
      "874                     NaN  ...           NaN   14854            14854   \n",
      "930                     NaN  ...           NaN   12045            12000   \n",
      "986                     NaN  ...           NaN    3297             3203   \n",
      "1042                    NaN  ...           NaN    2290             2241   \n",
      "1098                    NaN  ...           NaN    1661             1621   \n",
      "1154                    NaN  ...           NaN    1240             1154   \n",
      "1210                    NaN  ...           NaN    1026              952   \n",
      "1266                    NaN  ...           NaN     638              617   \n",
      "1322                    NaN  ...           NaN     485              430   \n",
      "1378                    NaN  ...           NaN     318              298   \n",
      "1431                    NaN  ...           NaN     252              218   \n",
      "1482                    NaN  ...           NaN     227              147   \n",
      "1533                    NaN  ...           NaN     227              147   \n",
      "1584                    NaN  ...           NaN     124              104   \n",
      "1635                    NaN  ...           NaN     101               81   \n",
      "1686                    NaN  ...           NaN      79               59   \n",
      "1737                    NaN  ...           NaN      60               46   \n",
      "1788                    NaN  ...           NaN      37               37   \n",
      "1839                    NaN  ...           NaN       5                4   \n",
      "1880                    NaN  ...           NaN       1                1   \n",
      "1909                    NaN  ...           NaN       1                1   \n",
      "\n",
      "      posNeg  fips  deathIncrease  hospitalizedIncrease  negativeIncrease  \\\n",
      "34    107192    34          196.0                   0.0            3186.0   \n",
      "90    100416    34          272.0                   0.0            2421.0   \n",
      "146    94974    34          229.0                   0.0            2616.0   \n",
      "202    89032    34           86.0                   0.0            3281.0   \n",
      "258    82166    34           71.0                   0.0            3429.0   \n",
      "314    75356    34          200.0                   0.0            3624.0   \n",
      "370    67503    34          109.0                   0.0            4088.0   \n",
      "426    59110    34          182.0                   0.0            3133.0   \n",
      "482    52642    34           88.0                   0.0            3310.0   \n",
      "538    45773    34           69.0                   0.0            1853.0   \n",
      "594    41860    34           37.0                   0.0            3008.0   \n",
      "650    35602    34           21.0                   0.0            2830.0   \n",
      "706    30510    34           32.0                   0.0            2839.0   \n",
      "762    25372    34           27.0                   0.0            2886.0   \n",
      "818    20537    34           19.0                   0.0            3209.0   \n",
      "874    14854    34           18.0                   0.0            2127.0   \n",
      "930    12000    34           17.0                   0.0            7966.0   \n",
      "986     3203    34            7.0                   0.0              32.0   \n",
      "1042    2241    34            4.0                   0.0              33.0   \n",
      "1098    1621    34            5.0                   0.0              30.0   \n",
      "1154    1154    34            2.0                   0.0              54.0   \n",
      "1210     952    34            4.0                   0.0              20.0   \n",
      "1266     617    34            2.0                   0.0              27.0   \n",
      "1322     430    34            1.0                   0.0              43.0   \n",
      "1378     298    34            0.0                   0.0               0.0   \n",
      "1431     218    34            1.0                   0.0              23.0   \n",
      "1482     147    34            0.0                   0.0               0.0   \n",
      "1533     147    34            0.0                   0.0              23.0   \n",
      "1584     104    34            0.0                   0.0              17.0   \n",
      "1635      81    34            1.0                   0.0              13.0   \n",
      "1686      59    34            0.0                   0.0               9.0   \n",
      "1737      46    34            0.0                   0.0               4.0   \n",
      "1788      37    34            0.0                   0.0              31.0   \n",
      "1839       4    34            0.0                   0.0               0.0   \n",
      "1880       1    34            0.0                   0.0               0.0   \n",
      "1909       1    34            NaN                   NaN               NaN   \n",
      "\n",
      "      positiveIncrease  totalTestResultsIncrease  \n",
      "34              3590.0                    6776.0  \n",
      "90              3021.0                    5442.0  \n",
      "146             3326.0                    5942.0  \n",
      "202             3585.0                    6866.0  \n",
      "258             3381.0                    6810.0  \n",
      "314             4229.0                    7853.0  \n",
      "370             4305.0                    8393.0  \n",
      "426             3335.0                    6468.0  \n",
      "482             3559.0                    6869.0  \n",
      "538             2060.0                    3913.0  \n",
      "594             3250.0                    6258.0  \n",
      "650             2262.0                    5092.0  \n",
      "706             2299.0                    5138.0  \n",
      "762             1949.0                    4835.0  \n",
      "818             2474.0                    5683.0  \n",
      "874              727.0                    2854.0  \n",
      "930              831.0                    8797.0  \n",
      "986              930.0                     962.0  \n",
      "1042             587.0                     620.0  \n",
      "1098             437.0                     467.0  \n",
      "1154             148.0                     202.0  \n",
      "1210             315.0                     335.0  \n",
      "1266             160.0                     187.0  \n",
      "1322              89.0                     132.0  \n",
      "1378              80.0                      80.0  \n",
      "1431              48.0                      71.0  \n",
      "1482               0.0                       0.0  \n",
      "1533              20.0                      43.0  \n",
      "1584               6.0                      23.0  \n",
      "1635               9.0                      22.0  \n",
      "1686               4.0                      13.0  \n",
      "1737               5.0                       9.0  \n",
      "1788               2.0                      33.0  \n",
      "1839               3.0                       3.0  \n",
      "1880               0.0                       0.0  \n",
      "1909               NaN                       NaN  \n",
      "\n",
      "[36 rows x 25 columns]\n"
     ]
    }
   ],
   "source": [
    "display_state_data('NJ')"
   ]
  },
  {
   "cell_type": "code",
   "execution_count": 58,
   "metadata": {},
   "outputs": [
    {
     "ename": "ValueError",
     "evalue": "time data '20200409' does not match format '%m/%d/%y'",
     "output_type": "error",
     "traceback": [
      "\u001b[0;31m---------------------------------------------------------------------------\u001b[0m",
      "\u001b[0;31mValueError\u001b[0m                                Traceback (most recent call last)",
      "\u001b[0;32m<ipython-input-58-0747cdc6afc4>\u001b[0m in \u001b[0;36m<module>\u001b[0;34m\u001b[0m\n\u001b[0;32m----> 1\u001b[0;31m \u001b[0;34m[\u001b[0m\u001b[0mprint\u001b[0m\u001b[0;34m(\u001b[0m\u001b[0mparse_date\u001b[0m\u001b[0;34m(\u001b[0m\u001b[0mdate\u001b[0m\u001b[0;34m.\u001b[0m\u001b[0mastype\u001b[0m\u001b[0;34m(\u001b[0m\u001b[0mstr\u001b[0m\u001b[0;34m)\u001b[0m\u001b[0;34m)\u001b[0m\u001b[0;34m)\u001b[0m \u001b[0;32mfor\u001b[0m \u001b[0mdate\u001b[0m \u001b[0;32min\u001b[0m \u001b[0mUS_dates\u001b[0m\u001b[0;34m]\u001b[0m\u001b[0;34m\u001b[0m\u001b[0;34m\u001b[0m\u001b[0m\n\u001b[0m",
      "\u001b[0;32m<ipython-input-58-0747cdc6afc4>\u001b[0m in \u001b[0;36m<listcomp>\u001b[0;34m(.0)\u001b[0m\n\u001b[0;32m----> 1\u001b[0;31m \u001b[0;34m[\u001b[0m\u001b[0mprint\u001b[0m\u001b[0;34m(\u001b[0m\u001b[0mparse_date\u001b[0m\u001b[0;34m(\u001b[0m\u001b[0mdate\u001b[0m\u001b[0;34m.\u001b[0m\u001b[0mastype\u001b[0m\u001b[0;34m(\u001b[0m\u001b[0mstr\u001b[0m\u001b[0;34m)\u001b[0m\u001b[0;34m)\u001b[0m\u001b[0;34m)\u001b[0m \u001b[0;32mfor\u001b[0m \u001b[0mdate\u001b[0m \u001b[0;32min\u001b[0m \u001b[0mUS_dates\u001b[0m\u001b[0;34m]\u001b[0m\u001b[0;34m\u001b[0m\u001b[0;34m\u001b[0m\u001b[0m\n\u001b[0m",
      "\u001b[0;32m<ipython-input-8-ceea7e96b7f6>\u001b[0m in \u001b[0;36mparse_date\u001b[0;34m(date_str)\u001b[0m\n\u001b[1;32m     30\u001b[0m \u001b[0;34m\u001b[0m\u001b[0m\n\u001b[1;32m     31\u001b[0m \u001b[0;32mdef\u001b[0m \u001b[0mparse_date\u001b[0m\u001b[0;34m(\u001b[0m\u001b[0mdate_str\u001b[0m\u001b[0;34m)\u001b[0m\u001b[0;34m:\u001b[0m\u001b[0;34m\u001b[0m\u001b[0;34m\u001b[0m\u001b[0m\n\u001b[0;32m---> 32\u001b[0;31m     \u001b[0;32mreturn\u001b[0m \u001b[0mdatetime\u001b[0m\u001b[0;34m.\u001b[0m\u001b[0mdatetime\u001b[0m\u001b[0;34m.\u001b[0m\u001b[0mstrptime\u001b[0m\u001b[0;34m(\u001b[0m\u001b[0mdate_str\u001b[0m\u001b[0;34m,\u001b[0m\u001b[0;34m'%m/%d/%y'\u001b[0m\u001b[0;34m)\u001b[0m\u001b[0;34m\u001b[0m\u001b[0;34m\u001b[0m\u001b[0m\n\u001b[0m\u001b[1;32m     33\u001b[0m \u001b[0;34m\u001b[0m\u001b[0m\n\u001b[1;32m     34\u001b[0m \u001b[0;32mdef\u001b[0m \u001b[0mcollapse_dates\u001b[0m\u001b[0;34m(\u001b[0m\u001b[0;34m)\u001b[0m\u001b[0;34m:\u001b[0m\u001b[0;34m\u001b[0m\u001b[0;34m\u001b[0m\u001b[0m\n",
      "\u001b[0;32m/anaconda3/envs/torch/lib/python3.6/_strptime.py\u001b[0m in \u001b[0;36m_strptime_datetime\u001b[0;34m(cls, data_string, format)\u001b[0m\n\u001b[1;32m    563\u001b[0m     \"\"\"Return a class cls instance based on the input string and the\n\u001b[1;32m    564\u001b[0m     format string.\"\"\"\n\u001b[0;32m--> 565\u001b[0;31m     \u001b[0mtt\u001b[0m\u001b[0;34m,\u001b[0m \u001b[0mfraction\u001b[0m \u001b[0;34m=\u001b[0m \u001b[0m_strptime\u001b[0m\u001b[0;34m(\u001b[0m\u001b[0mdata_string\u001b[0m\u001b[0;34m,\u001b[0m \u001b[0mformat\u001b[0m\u001b[0;34m)\u001b[0m\u001b[0;34m\u001b[0m\u001b[0;34m\u001b[0m\u001b[0m\n\u001b[0m\u001b[1;32m    566\u001b[0m     \u001b[0mtzname\u001b[0m\u001b[0;34m,\u001b[0m \u001b[0mgmtoff\u001b[0m \u001b[0;34m=\u001b[0m \u001b[0mtt\u001b[0m\u001b[0;34m[\u001b[0m\u001b[0;34m-\u001b[0m\u001b[0;36m2\u001b[0m\u001b[0;34m:\u001b[0m\u001b[0;34m]\u001b[0m\u001b[0;34m\u001b[0m\u001b[0;34m\u001b[0m\u001b[0m\n\u001b[1;32m    567\u001b[0m     \u001b[0margs\u001b[0m \u001b[0;34m=\u001b[0m \u001b[0mtt\u001b[0m\u001b[0;34m[\u001b[0m\u001b[0;34m:\u001b[0m\u001b[0;36m6\u001b[0m\u001b[0;34m]\u001b[0m \u001b[0;34m+\u001b[0m \u001b[0;34m(\u001b[0m\u001b[0mfraction\u001b[0m\u001b[0;34m,\u001b[0m\u001b[0;34m)\u001b[0m\u001b[0;34m\u001b[0m\u001b[0;34m\u001b[0m\u001b[0m\n",
      "\u001b[0;32m/anaconda3/envs/torch/lib/python3.6/_strptime.py\u001b[0m in \u001b[0;36m_strptime\u001b[0;34m(data_string, format)\u001b[0m\n\u001b[1;32m    360\u001b[0m     \u001b[0;32mif\u001b[0m \u001b[0;32mnot\u001b[0m \u001b[0mfound\u001b[0m\u001b[0;34m:\u001b[0m\u001b[0;34m\u001b[0m\u001b[0;34m\u001b[0m\u001b[0m\n\u001b[1;32m    361\u001b[0m         raise ValueError(\"time data %r does not match format %r\" %\n\u001b[0;32m--> 362\u001b[0;31m                          (data_string, format))\n\u001b[0m\u001b[1;32m    363\u001b[0m     \u001b[0;32mif\u001b[0m \u001b[0mlen\u001b[0m\u001b[0;34m(\u001b[0m\u001b[0mdata_string\u001b[0m\u001b[0;34m)\u001b[0m \u001b[0;34m!=\u001b[0m \u001b[0mfound\u001b[0m\u001b[0;34m.\u001b[0m\u001b[0mend\u001b[0m\u001b[0;34m(\u001b[0m\u001b[0;34m)\u001b[0m\u001b[0;34m:\u001b[0m\u001b[0;34m\u001b[0m\u001b[0;34m\u001b[0m\u001b[0m\n\u001b[1;32m    364\u001b[0m         raise ValueError(\"unconverted data remains: %s\" %\n",
      "\u001b[0;31mValueError\u001b[0m: time data '20200409' does not match format '%m/%d/%y'"
     ]
    }
   ],
   "source": [
    "[print(parse_date(date.astype(str))) for date in US_dates]"
   ]
  },
  {
   "cell_type": "markdown",
   "metadata": {},
   "source": [
    "# Italy"
   ]
  },
  {
   "cell_type": "code",
   "execution_count": null,
   "metadata": {},
   "outputs": [],
   "source": [
    "Italy"
   ]
  },
  {
   "cell_type": "code",
   "execution_count": null,
   "metadata": {},
   "outputs": [],
   "source": [
    "italy_cases = Italy.iloc[:,4:]\n",
    "italy_totals = italy_cases.values[0]"
   ]
  },
  {
   "cell_type": "code",
   "execution_count": null,
   "metadata": {},
   "outputs": [],
   "source": [
    "plot_totals(italy_totals)"
   ]
  },
  {
   "cell_type": "code",
   "execution_count": null,
   "metadata": {},
   "outputs": [],
   "source": [
    "plot_totals(np.gradient(italy_totals))"
   ]
  },
  {
   "cell_type": "code",
   "execution_count": null,
   "metadata": {},
   "outputs": [],
   "source": [
    "peak_italy_index = np.argmax(np.gradient(italy_totals))\n",
    "print(f'Peak index {peak_italy_index}')\n",
    "print(f'Confirmed cases {italy_totals[peak_italy_index]}')"
   ]
  },
  {
   "cell_type": "code",
   "execution_count": null,
   "metadata": {},
   "outputs": [],
   "source": [
    "italy_first_case_index = np.min(np.nonzero(italy_totals))\n",
    "italy_start_date = parse_date(Italy.columns[4+first_case_index])\n",
    "italy_peak_date = parse_date(Italy.columns[4+peak_italy_index])\n",
    "print(f'Date of first case {italy_start_date}')\n",
    "print(f'Date of peak {italy_peak_date}')\n",
    "\n",
    "print(f'Duration until peak {italy_peak_date - italy_start_date}')\n",
    "print(f'Duration since first case {datetime.datetime.now() - italy_start_date}')"
   ]
  },
  {
   "cell_type": "markdown",
   "metadata": {},
   "source": [
    "# France"
   ]
  },
  {
   "cell_type": "code",
   "execution_count": null,
   "metadata": {},
   "outputs": [],
   "source": [
    "France"
   ]
  },
  {
   "cell_type": "code",
   "execution_count": null,
   "metadata": {},
   "outputs": [],
   "source": [
    "french_cases = France.iloc[:,4:]"
   ]
  },
  {
   "cell_type": "code",
   "execution_count": null,
   "metadata": {},
   "outputs": [],
   "source": [
    "french_total = french_cases.sum(axis=0).values"
   ]
  },
  {
   "cell_type": "code",
   "execution_count": null,
   "metadata": {},
   "outputs": [],
   "source": [
    "plot_totals(french_total)"
   ]
  },
  {
   "cell_type": "code",
   "execution_count": null,
   "metadata": {},
   "outputs": [],
   "source": [
    "plot_totals(np.gradient(french_total))"
   ]
  },
  {
   "cell_type": "code",
   "execution_count": null,
   "metadata": {},
   "outputs": [],
   "source": [
    "peak_france_index = np.argmax(np.gradient(french_total))\n",
    "print(f'Peak index {peak_france_index}')\n",
    "print(f'Confirmed cases {french_total[peak_france_index]}')"
   ]
  },
  {
   "cell_type": "code",
   "execution_count": null,
   "metadata": {},
   "outputs": [],
   "source": [
    "first_case_index = np.min(np.nonzero(french_total))\n",
    "france_start_date = parse_date(France.columns[4+first_case_index])\n",
    "france_peak_date = parse_date(France.columns[4+peak_france_index])\n",
    "print(f'Start index {first_case_index}')\n",
    "print(f'Peak index {peak_france_index}')\n",
    "print(f'Date of first case {france_start_date}')\n",
    "print(f'Date of peak {france_peak_date}')\n",
    "\n",
    "print(f'Duration in days {france_peak_date - france_start_date}')\n",
    "print(f'Duration since first case {datetime.datetime.now() - italy_start_date}')"
   ]
  },
  {
   "cell_type": "markdown",
   "metadata": {},
   "source": [
    "# Spain"
   ]
  },
  {
   "cell_type": "code",
   "execution_count": null,
   "metadata": {},
   "outputs": [],
   "source": [
    "Spain"
   ]
  },
  {
   "cell_type": "code",
   "execution_count": null,
   "metadata": {},
   "outputs": [],
   "source": [
    "spain_cases = Spain.iloc[:,4:]"
   ]
  },
  {
   "cell_type": "code",
   "execution_count": null,
   "metadata": {},
   "outputs": [],
   "source": [
    "spain_totals = spain_cases.values[0]"
   ]
  },
  {
   "cell_type": "code",
   "execution_count": null,
   "metadata": {},
   "outputs": [],
   "source": [
    "plot_totals(spain_totals)"
   ]
  },
  {
   "cell_type": "code",
   "execution_count": null,
   "metadata": {},
   "outputs": [],
   "source": [
    "plot_totals(np.gradient(spain_totals))"
   ]
  },
  {
   "cell_type": "markdown",
   "metadata": {},
   "source": [
    "#### Peak spain"
   ]
  },
  {
   "cell_type": "code",
   "execution_count": null,
   "metadata": {},
   "outputs": [],
   "source": [
    "peak_spain_index = np.argmax(np.gradient(spain_totals))\n",
    "print(f'Peak index {peak_spain_index}')\n",
    "print(f'Confirmed cases {spain_totals[peak_spain_index]}')"
   ]
  },
  {
   "cell_type": "code",
   "execution_count": null,
   "metadata": {},
   "outputs": [],
   "source": [
    "first_case_index = np.min(np.nonzero(spain_totals))\n",
    "spain_start_date = parse_date(Spain.columns[4+first_case_index])\n",
    "spain_peak_date = parse_date(Spain.columns[4+peak_spain_index])\n",
    "print(f'Date of first case {Spain.columns[4+first_case_index]}')\n",
    "print(f'Date of peak {Spain.columns[4+peak_spain_index]}')\\\n",
    "\n",
    "print(f'Duration in days {spain_peak_date - spain_start_date}')\n",
    "print(f'Duration since first case {datetime.datetime.now() - spain_start_date}')"
   ]
  },
  {
   "cell_type": "markdown",
   "metadata": {},
   "source": [
    "# China\n",
    "\n",
    "Data is messy because of the big spike when they changed how they track the cases. better to average that data over the previous several datapoints to smooth out the curve"
   ]
  },
  {
   "cell_type": "code",
   "execution_count": null,
   "metadata": {},
   "outputs": [],
   "source": [
    "China"
   ]
  },
  {
   "cell_type": "code",
   "execution_count": null,
   "metadata": {},
   "outputs": [],
   "source": [
    "china_cases = China.iloc[:,4:]"
   ]
  },
  {
   "cell_type": "code",
   "execution_count": null,
   "metadata": {},
   "outputs": [],
   "source": [
    "china_cases.shape"
   ]
  },
  {
   "cell_type": "code",
   "execution_count": null,
   "metadata": {},
   "outputs": [],
   "source": [
    "china_totals = china_cases.sum(axis=0).values"
   ]
  },
  {
   "cell_type": "markdown",
   "metadata": {},
   "source": [
    "# Fixing the china data"
   ]
  },
  {
   "cell_type": "code",
   "execution_count": null,
   "metadata": {},
   "outputs": [],
   "source": [
    "data_spike_index = np.argmax(np.gradient(china_totals))"
   ]
  },
  {
   "cell_type": "code",
   "execution_count": null,
   "metadata": {},
   "outputs": [],
   "source": [
    "data_spread_start = np.where(np.gradient(china_totals) == 3912.5)[0][0]"
   ]
  },
  {
   "cell_type": "code",
   "execution_count": null,
   "metadata": {},
   "outputs": [],
   "source": [
    "print(f'data_spike_index {data_spike_index}, data_spread_start {data_spread_start}')"
   ]
  },
  {
   "cell_type": "code",
   "execution_count": null,
   "metadata": {},
   "outputs": [],
   "source": [
    "print('Sum of the bad data gradients',sum(np.gradient(china_totals)[12:24]))\n",
    "print('Average of the bad data gradients',sum(np.gradient(china_totals)[12:24]) / 13)\n",
    "print('Sum of the bad data',sum(china_totals[12:24]))"
   ]
  },
  {
   "cell_type": "markdown",
   "metadata": {},
   "source": [
    "## Goal is to spread the amounts in a cascade"
   ]
  },
  {
   "cell_type": "code",
   "execution_count": null,
   "metadata": {},
   "outputs": [],
   "source": [
    "print(china_totals[12],china_totals[24])"
   ]
  },
  {
   "cell_type": "code",
   "execution_count": null,
   "metadata": {},
   "outputs": [],
   "source": [
    "test = np.array([3786,4174,3728,3465,2922,2747,2615,2521,2404,2319,2210,2061])"
   ]
  },
  {
   "cell_type": "code",
   "execution_count": null,
   "metadata": {},
   "outputs": [],
   "source": [
    "inputs = np.concatenate([np.array(china_totals[11]).reshape(1,),test])\n",
    "print(sum(list(accumulate(inputs))))"
   ]
  },
  {
   "cell_type": "code",
   "execution_count": null,
   "metadata": {},
   "outputs": [],
   "source": [
    "print(np.sum(test),test.shape)"
   ]
  },
  {
   "cell_type": "code",
   "execution_count": null,
   "metadata": {},
   "outputs": [],
   "source": [
    "china_part1 = china_totals[:11]\n",
    "china_part2 = np.gradient(china_totals)[24:]"
   ]
  },
  {
   "cell_type": "code",
   "execution_count": null,
   "metadata": {},
   "outputs": [],
   "source": [
    "inputs = np.concatenate([np.array(china_totals[11]).reshape(1,),test,china_part2])\n",
    "print(inputs.astype(int))"
   ]
  },
  {
   "cell_type": "code",
   "execution_count": null,
   "metadata": {},
   "outputs": [],
   "source": [
    "china_inbetween = list(accumulate(inputs))"
   ]
  },
  {
   "cell_type": "code",
   "execution_count": null,
   "metadata": {},
   "outputs": [],
   "source": [
    "print(china_inbetween)"
   ]
  },
  {
   "cell_type": "code",
   "execution_count": null,
   "metadata": {},
   "outputs": [],
   "source": [
    "print(sum(china_inbetween),sum(china_totals[12:24]))"
   ]
  },
  {
   "cell_type": "code",
   "execution_count": null,
   "metadata": {},
   "outputs": [],
   "source": [
    "new_china_totals = np.concatenate([china_part1,china_inbetween])"
   ]
  },
  {
   "cell_type": "code",
   "execution_count": null,
   "metadata": {},
   "outputs": [],
   "source": [
    "print(new_china_totals.shape,china_totals.shape)\n",
    "print(new_china_totals[12],new_china_totals[23])\n",
    "print(china_totals[12],china_totals[23])"
   ]
  },
  {
   "cell_type": "code",
   "execution_count": null,
   "metadata": {},
   "outputs": [],
   "source": [
    "print(np.gradient(new_china_totals).astype(int))"
   ]
  },
  {
   "cell_type": "code",
   "execution_count": null,
   "metadata": {},
   "outputs": [],
   "source": [
    "new_china_totals"
   ]
  },
  {
   "cell_type": "code",
   "execution_count": null,
   "metadata": {},
   "outputs": [],
   "source": [
    "np.gradient(china_totals)"
   ]
  },
  {
   "cell_type": "code",
   "execution_count": null,
   "metadata": {},
   "outputs": [],
   "source": [
    "plot_totals(new_china_totals)"
   ]
  },
  {
   "cell_type": "code",
   "execution_count": null,
   "metadata": {},
   "outputs": [],
   "source": [
    "plot_totals(np.gradient(new_china_totals))"
   ]
  },
  {
   "cell_type": "markdown",
   "metadata": {},
   "source": [
    "# Find the R0 that fits the data the best"
   ]
  },
  {
   "cell_type": "code",
   "execution_count": null,
   "metadata": {},
   "outputs": [],
   "source": [
    "chinaX1 = np.argmax(np.gradient(new_china_totals))\n",
    "chinaY1 = np.gradient(new_china_totals)[chinaX1]\n",
    "chinaX2 = 50\n",
    "chinaY2 = np.gradient(new_china_totals)[chinaX2]\n",
    "points = [(chinaX1,chinaY1),(chinaX2,chinaY2)]\n",
    "\n",
    "print(f'X1,Y1 {chinaX1,chinaY1}')\n",
    "print(f'X2,Y2 {chinaX2,chinaY2}')\n",
    "china_R0 = determine_R0(points)\n"
   ]
  },
  {
   "cell_type": "code",
   "execution_count": null,
   "metadata": {},
   "outputs": [],
   "source": [
    "china_R0"
   ]
  },
  {
   "cell_type": "code",
   "execution_count": null,
   "metadata": {},
   "outputs": [],
   "source": []
  },
  {
   "cell_type": "code",
   "execution_count": null,
   "metadata": {},
   "outputs": [],
   "source": [
    "yPoints = np.array([graph_expo(x,points) for x in np.arange(50)])"
   ]
  },
  {
   "cell_type": "code",
   "execution_count": null,
   "metadata": {},
   "outputs": [],
   "source": [
    "yPoints[:11] = 0"
   ]
  },
  {
   "cell_type": "markdown",
   "metadata": {},
   "source": [
    "## Hubei specifically\n",
    "\n",
    "population 58.5M"
   ]
  },
  {
   "cell_type": "code",
   "execution_count": null,
   "metadata": {},
   "outputs": [],
   "source": [
    "Hubei = China.loc[China['Province/State'].str.contains('Hubei')]"
   ]
  },
  {
   "cell_type": "code",
   "execution_count": null,
   "metadata": {},
   "outputs": [],
   "source": [
    "Hubei"
   ]
  },
  {
   "cell_type": "code",
   "execution_count": null,
   "metadata": {},
   "outputs": [],
   "source": [
    "Hubei_totals = Hubei.values[0][4:]"
   ]
  },
  {
   "cell_type": "code",
   "execution_count": null,
   "metadata": {},
   "outputs": [],
   "source": [
    "plot_totals(Hubei_totals)"
   ]
  },
  {
   "cell_type": "code",
   "execution_count": null,
   "metadata": {},
   "outputs": [],
   "source": [
    "plot_totals(np.gradient(Hubei_totals))"
   ]
  },
  {
   "cell_type": "markdown",
   "metadata": {},
   "source": [
    "# Hubei peak"
   ]
  },
  {
   "cell_type": "code",
   "execution_count": null,
   "metadata": {},
   "outputs": [],
   "source": [
    "Hubei"
   ]
  },
  {
   "cell_type": "code",
   "execution_count": null,
   "metadata": {},
   "outputs": [],
   "source": [
    "Hubei_pop = 58.5*1e+7\n",
    "peak_index = np.argmax(np.gradient(Hubei_totals))\n",
    "Hubei_ratio = Hubei_totals/Hubei_pop\n",
    "hubei_peak_date = datetime.datetime(2020,2,13)#parse_date(Hubei.columns[peak_index+4])\n",
    "hubei_start_date = datetime.datetime(2019,11,17)\n",
    "print(f'Peak index {peak_index}')\n",
    "print(f'confirmed: {Hubei_totals[peak_index]}')\n",
    "print(f'Total Hubei pop 58.5M')\n",
    "print(f'confirmed: {Hubei_ratio[peak_index]}')\n",
    "print(f'Peak Date {hubei_peak_date}')\n",
    "print(f'Initial start Nov 17')\n",
    "print(f'Number of days {(hubei_peak_date-hubei_start_date).days}')\n",
    "print(f'Duration since first case {(datetime.datetime.now() - hubei_start_date).days}')\n",
    "\n"
   ]
  },
  {
   "cell_type": "markdown",
   "metadata": {},
   "source": [
    "# Korea\n",
    "\n",
    "## Pop 51.47M\n",
    "\n",
    "## Seoul 9.77M"
   ]
  },
  {
   "cell_type": "code",
   "execution_count": null,
   "metadata": {},
   "outputs": [],
   "source": [
    "def plot_comprehensive(data,labels,colors):\n",
    "    epochs = range(1,len(data[0])+1)\n",
    "    for i,label in enumerate(labels):\n",
    "        plt.plot(epochs,data[i],colors[i],label=label)\n",
    "    plt.title('Covid19')\n",
    "    plt.xlabel('Days')\n",
    "    plt.ylabel('Cases')\n",
    "    plt.legend()\n",
    "    plt.show()"
   ]
  },
  {
   "cell_type": "code",
   "execution_count": null,
   "metadata": {},
   "outputs": [],
   "source": [
    "Seoul_pop = 9.77*1e+7"
   ]
  },
  {
   "cell_type": "code",
   "execution_count": null,
   "metadata": {},
   "outputs": [],
   "source": [
    "korea_df.tail()"
   ]
  },
  {
   "cell_type": "code",
   "execution_count": null,
   "metadata": {},
   "outputs": [],
   "source": [
    "tests = korea_df['test'].values\n",
    "negative = korea_df['negative'].values\n",
    "confirmed = korea_df['confirmed'].values\n",
    "released = korea_df['released'].values\n",
    "deceased = korea_df['deceased'].values\n",
    "headers = korea_df.columns[2:]\n",
    "korea_data = [tests,negative,confirmed,released,deceased]\n",
    "colors = ['b','g','r','c','m','b']"
   ]
  },
  {
   "cell_type": "code",
   "execution_count": null,
   "metadata": {},
   "outputs": [],
   "source": [
    "plot_comprehensive(korea_data,headers,colors)"
   ]
  },
  {
   "cell_type": "code",
   "execution_count": null,
   "metadata": {},
   "outputs": [],
   "source": [
    "plot_comprehensive([tests,negative],['tests','negative'],['b','g'])"
   ]
  },
  {
   "cell_type": "code",
   "execution_count": null,
   "metadata": {},
   "outputs": [],
   "source": [
    "plot_comprehensive([confirmed,released,deceased],['confirmed','released','deceased'],['b','g','m'])"
   ]
  },
  {
   "cell_type": "markdown",
   "metadata": {},
   "source": [
    "# Derivatives"
   ]
  },
  {
   "cell_type": "code",
   "execution_count": null,
   "metadata": {},
   "outputs": [],
   "source": [
    "tests_derivative = np.gradient(tests)\n",
    "negative_derivative = np.gradient(negative)\n",
    "confirmed_derivative = np.gradient(confirmed)\n",
    "released_derivative = np.gradient(released)\n",
    "deceased_derivative = np.gradient(deceased)\n",
    "korea_derivatives = [tests_derivative,negative_derivative,confirmed_derivative,released_derivative,deceased_derivative]\n"
   ]
  },
  {
   "cell_type": "code",
   "execution_count": null,
   "metadata": {},
   "outputs": [],
   "source": [
    "plot_comprehensive(korea_derivatives,headers,colors)"
   ]
  },
  {
   "cell_type": "code",
   "execution_count": null,
   "metadata": {},
   "outputs": [],
   "source": [
    "plot_comprehensive([confirmed_derivative,released_derivative,deceased_derivative],['confirmed','released','deceased'],['b','g','m'])\n"
   ]
  },
  {
   "cell_type": "markdown",
   "metadata": {},
   "source": [
    "# Ratios with population"
   ]
  },
  {
   "cell_type": "code",
   "execution_count": null,
   "metadata": {},
   "outputs": [],
   "source": [
    "ratios = [d/Seoul_pop for d in korea_data]\n",
    "ratio_derivatives = [np.gradient(d) for d in ratios]"
   ]
  },
  {
   "cell_type": "markdown",
   "metadata": {},
   "source": [
    "# When did korea reach its peak"
   ]
  },
  {
   "cell_type": "code",
   "execution_count": null,
   "metadata": {},
   "outputs": [],
   "source": [
    "peak_index = np.argmax(confirmed_derivative)\n",
    "print(f'Peak index {peak_index}')\n",
    "print(f'tests: {tests[peak_index]}')\n",
    "print(f'negative: {negative[peak_index]}')\n",
    "print(f'confirmed: {confirmed[peak_index]}')\n",
    "print(f'released: {released[peak_index]}')\n",
    "print(f'deceased: {deceased[peak_index]}')\n",
    "print(f'Total Seoul pop 9.77M')\n",
    "print(f'tests: {ratios[0][peak_index]}')\n",
    "print(f'negative: {ratios[1][peak_index]}')\n",
    "print(f'confirmed: {ratios[2][peak_index]}')\n",
    "print(f'released: {ratios[3][peak_index]}')\n",
    "print(f'deceased: {ratios[4][peak_index]}')"
   ]
  },
  {
   "cell_type": "code",
   "execution_count": null,
   "metadata": {},
   "outputs": [],
   "source": [
    "print(f'Korea first case {korea_df[\"date\"][0]}')\n",
    "print(f'Korea Peak date {korea_df[\"date\"][peak_index]}')\n",
    "korea_peak_date = datetime.date(2020,2,29)\n",
    "korea_start_date = datetime.date(2020,1,20)\n",
    "print(f'Days elapsed from start of transmission to peak {korea_peak_date - korea_start_date}')"
   ]
  },
  {
   "cell_type": "code",
   "execution_count": null,
   "metadata": {},
   "outputs": [],
   "source": [
    "print(confirmed_derivative[40])\n",
    "print(confirmed_derivative[56])\n",
    "print(confirmed_derivative[40:])"
   ]
  },
  {
   "cell_type": "code",
   "execution_count": null,
   "metadata": {},
   "outputs": [],
   "source": [
    "len(confirmed)\n",
    "day_5s = confirmed[::5]\n",
    "[print(f'day {i*5},infected {pop}') for i,pop in enumerate(day_5s)]\n",
    "day_5s_dir = confirmed_derivative[::5]\n",
    "[print(f'day {i*5},infected {pop}') for i,pop in enumerate(day_5s_dir)]"
   ]
  },
  {
   "cell_type": "code",
   "execution_count": null,
   "metadata": {},
   "outputs": [],
   "source": [
    "generator = gen_infections(2,R0,asymptomatic_period,hospitalization_rate)\n",
    "print(f'Infected population 1, Day 0')\n",
    "for i in range(1,13):\n",
    "    print(f'Infected population {next(generator)}, Day {i*5}')"
   ]
  },
  {
   "cell_type": "markdown",
   "metadata": {},
   "source": [
    "# Predictions\n",
    "\n",
    "using time series to predict the next number of cases\n",
    "\n",
    "## Inputs\n",
    "\n",
    "More informative\n",
    "\n",
    "- current number of confirmed cases\n",
    "- number of tests so far\n",
    "\n",
    "Less informative\n",
    "\n",
    "- current number of confirmed cases\n",
    "\n",
    "## Extract and shape the data"
   ]
  },
  {
   "cell_type": "code",
   "execution_count": null,
   "metadata": {},
   "outputs": [],
   "source": [
    "unique_dates = italy_df['Date'].unique()\n",
    "# print('unique_dates',unique_dates)\n",
    "tests_preformed = []\n",
    "tests_positive = []\n",
    "for date in unique_dates:\n",
    "    rows = italy_df[italy_df['Date'] == date]\n",
    "    tests_preformed.append(rows['TestsPerformed'].sum())\n",
    "    tests_positive.append(rows['TotalPositiveCases'].sum())"
   ]
  },
  {
   "cell_type": "code",
   "execution_count": null,
   "metadata": {},
   "outputs": [],
   "source": [
    "korea_ml = np.stack([tests,confirmed])\n",
    "italy_ml = np.stack([tests_preformed,tests_positive])\n",
    "# china_ml =\n",
    "usa_ml =  np.stack([USA_1df['posNeg'].values,USA_1df['positive'].values])"
   ]
  },
  {
   "cell_type": "code",
   "execution_count": null,
   "metadata": {},
   "outputs": [],
   "source": [
    "print(korea_ml.shape,italy_ml.shape,usa_ml.shape)"
   ]
  },
  {
   "cell_type": "markdown",
   "metadata": {},
   "source": [
    "# Networks"
   ]
  },
  {
   "cell_type": "code",
   "execution_count": null,
   "metadata": {},
   "outputs": [],
   "source": [
    "import torch\n",
    "import torch.nn as nn\n",
    "import torch.nn.functional as F\n",
    "from torch.autograd import Variable as V\n",
    "from torch import optim\n",
    "from torch.distributions import Categorical"
   ]
  },
  {
   "cell_type": "code",
   "execution_count": null,
   "metadata": {},
   "outputs": [],
   "source": [
    "class Baseline(nn.Module):\n",
    "    def __init__(self,seed,nS,nA,hidden_dims=(64,64),activation=F.leaky_relu):\n",
    "        super(Baseline,self).__init__()\n",
    "        self.activation = activation\n",
    "        self.nS = nS\n",
    "        self.nA = nA\n",
    "        self.seed = torch.manual_seed(seed)\n",
    "        self.fc1 = nn.Linear(nS,hidden_dims[0])\n",
    "        self.fc2 = nn.Linear(hidden_dims[0],hidden_dims[1])\n",
    "        self.fc3 = nn.Linear(hidden_dims[1],nA)\n",
    "        \n",
    "    def forward(self,state):\n",
    "        x = state\n",
    "        if not isinstance(state,torch.Tensor):\n",
    "            x = torch.tensor(x,dtype=torch.float32)\n",
    "            x = x.unsqueeze(0)\n",
    "        x = self.activation(self.fc1(x))\n",
    "        x = self.activation(self.fc2(x))\n",
    "        return self.fc3(x)\n",
    "    \n",
    "class Convnet(nn.Module):\n",
    "    def __init__(self,seed,nS,nA,hidden_dims=(64,64),activation=F.leaky_relu):\n",
    "        super(Baseline,self).__init__()\n",
    "        self.activation = activation\n",
    "        self.nS = nS\n",
    "        self.nA = nA\n",
    "        self.seed = torch.manual_seed(seed)\n",
    "        self.fc1 = nn.Conv2d(nS,hidden_dims[0])\n",
    "        self.fc2 = nn.Linear(hidden_dims[0],hidden_dims[1])\n",
    "        self.fc3 = nn.Linear(hidden_dims[1],nA)\n",
    "        \n",
    "    def forward(self,state,mask):\n",
    "        x = state\n",
    "        if not isinstance(state,torch.Tensor):\n",
    "            x = torch.tensor(x,dtype=torch.float32)\n",
    "            x = x.unsqueeze(0)\n",
    "        x = self.activation(self.fc1(x))\n",
    "        x = self.activation(self.fc2(x))\n",
    "        return self.fc3(x)\n",
    "\n",
    "class LSTM():\n",
    "    def __init__(self,seed,nS,nA,hidden_dims=(64,64),activation=F.leaky_relu):\n",
    "        super(Baseline,self).__init__()\n",
    "        self.activation = activation\n",
    "        self.nS = nS\n",
    "        self.nA = nA\n",
    "        self.seed = torch.manual_seed(seed)\n",
    "        self.lstm = nn.LSTM(nS,hidden_dims[0])\n",
    "        \n",
    "    def forward(self,state,mask):\n",
    "        x = state\n",
    "        if not isinstance(state,torch.Tensor):\n",
    "            x = torch.tensor(x,dtype=torch.float32)\n",
    "            x = x.unsqueeze(0)\n",
    "        x,h = self.lstm(x)\n",
    "        return x\n",
    "\n"
   ]
  },
  {
   "cell_type": "markdown",
   "metadata": {},
   "source": [
    "# Train"
   ]
  },
  {
   "cell_type": "code",
   "execution_count": null,
   "metadata": {},
   "outputs": [],
   "source": [
    "def run_sim(episodes,generator):\n",
    "    infections = []\n",
    "    for _ in range(episodes):\n",
    "        day,current_infection,total_infection,hospitalized_patient,R0 = next(generator)\n",
    "        infections.append(current_infection)\n",
    "    return np.array(infections)\n",
    "    \n",
    "def get_loss(params,targets):  \n",
    "    curveGenerator = gen_infection_scurve(params)\n",
    "    episodes = len(targets)+params['inflection_point']\n",
    "    infections = run_sim(episodes,curveGenerator)\n",
    "    loss = np.sum(np.array(infections[params['inflection_point']:]) - targets)\n",
    "    return loss\n",
    "\n",
    "def tune_R0(params,training_params,targets,network):\n",
    "    R0s = np.linspace(0.5,1,11)\n",
    "    results = {R0:0 for R0 in R0s}\n",
    "    for R0 in R0s:\n",
    "        params['base_R0'] = R0\n",
    "        loss = get_loss(params,targets)\n",
    "        results[R0] = loss\n",
    "#         print(f'loss {loss}, prev loss {prev_loss}, base_R0 {base_R0}')\n",
    "#         print(f'new base {params[\"base_R0\"]} * {0.0000001 * loss}')\n",
    "#         params['base_R0'] = params['base_R0'] * (0.0000001 * loss)\n",
    "    return results"
   ]
  },
  {
   "cell_type": "code",
   "execution_count": null,
   "metadata": {},
   "outputs": [],
   "source": [
    "\n",
    "china_baseline = np.gradient(new_china_totals)\n",
    "china_baseline_peak = np.argmax(np.gradient(new_china_totals))\n",
    "korea_baseline = confirmed_derivative\n",
    "korea_baseline_peak = np.argmax(korea_baseline)\n",
    "print(f'China peak {china_baseline_peak}, shape of decline {china_baseline[china_baseline_peak:].shape}')\n",
    "print(f'Korea peak {korea_baseline_peak}, shape of decline {korea_baseline[korea_baseline_peak:].shape}')"
   ]
  },
  {
   "cell_type": "code",
   "execution_count": null,
   "metadata": {},
   "outputs": [],
   "source": [
    "korea_baseline[korea_baseline_peak:]\n",
    "china_baseline[china_baseline_peak:]"
   ]
  },
  {
   "cell_type": "code",
   "execution_count": null,
   "metadata": {},
   "outputs": [],
   "source": [
    "china_targets = china_baseline[china_baseline_peak:]\n",
    "korea_targets = korea_baseline[korea_baseline_peak:]\n",
    "\n",
    "population = 4\n",
    "R0 = 2.3\n",
    "asymptomatic_period = 5\n",
    "hospitalization_rate = 0.05\n",
    "inflection_point = 8 # of cycles since to Jan 24 to March 16\n",
    "R0_reduction = 0.5\n",
    "base_R0 = 0.9\n",
    "hospital_days = 14\n",
    "\n",
    "params = {'population':population,\n",
    "         'R0':R0,\n",
    "         'asymptomatic_period':asymptomatic_period,\n",
    "         'hospitalization_rate':hospitalization_rate,\n",
    "         'inflection_point':inflection_point,\n",
    "         'R0_reduction':R0_reduction,\n",
    "         'base_R0':base_R0,\n",
    "          'hospital_days': hospital_days\n",
    "         }\n",
    "\n",
    "training_params = {'episodes':10}\n",
    "\n",
    "tune_R0(params,training_params,china_targets,network)"
   ]
  },
  {
   "cell_type": "markdown",
   "metadata": {},
   "source": [
    "# Compare outputs"
   ]
  },
  {
   "cell_type": "code",
   "execution_count": null,
   "metadata": {},
   "outputs": [],
   "source": [
    "params['base_R0'] = 0.9\n",
    "episodes = len(korea_targets)+params['inflection_point']\n",
    "curveGenerator = gen_infection_scurve(params)\n",
    "results = run_sim(episodes,curveGenerator)[params['inflection_point']+2:]"
   ]
  },
  {
   "cell_type": "code",
   "execution_count": null,
   "metadata": {},
   "outputs": [],
   "source": [
    "print(results,'\\n',china_targets)"
   ]
  },
  {
   "cell_type": "code",
   "execution_count": null,
   "metadata": {},
   "outputs": [],
   "source": [
    "plt.plot(results)\n",
    "plt.plot(china_targets)"
   ]
  },
  {
   "cell_type": "code",
   "execution_count": null,
   "metadata": {},
   "outputs": [],
   "source": [
    "# def train(params):\n",
    "#     for "
   ]
  },
  {
   "cell_type": "code",
   "execution_count": null,
   "metadata": {},
   "outputs": [],
   "source": [
    "nS = 2\n",
    "nA = 1\n",
    "seed = 1078\n",
    "net = Baseline(seed,nS,nA)"
   ]
  },
  {
   "cell_type": "code",
   "execution_count": null,
   "metadata": {},
   "outputs": [],
   "source": []
  },
  {
   "cell_type": "code",
   "execution_count": null,
   "metadata": {},
   "outputs": [],
   "source": [
    "X = np.arange(len(china_targets))\n",
    "y = china_targets\n",
    "degree = 1\n",
    "line,coefs = return_polyfit(X,y,degree)"
   ]
  },
  {
   "cell_type": "code",
   "execution_count": null,
   "metadata": {},
   "outputs": [],
   "source": [
    "print(coefs)"
   ]
  },
  {
   "cell_type": "code",
   "execution_count": null,
   "metadata": {},
   "outputs": [],
   "source": [
    "print(poly.polyval(1, coefs))"
   ]
  },
  {
   "cell_type": "code",
   "execution_count": null,
   "metadata": {},
   "outputs": [],
   "source": [
    "plt.plot(line)\n",
    "plt.plot(china_targets)"
   ]
  },
  {
   "cell_type": "code",
   "execution_count": null,
   "metadata": {},
   "outputs": [],
   "source": []
  },
  {
   "cell_type": "code",
   "execution_count": null,
   "metadata": {},
   "outputs": [],
   "source": []
  }
 ],
 "metadata": {
  "kernelspec": {
   "display_name": "Python 3",
   "language": "python",
   "name": "python3"
  },
  "language_info": {
   "codemirror_mode": {
    "name": "ipython",
    "version": 3
   },
   "file_extension": ".py",
   "mimetype": "text/x-python",
   "name": "python",
   "nbconvert_exporter": "python",
   "pygments_lexer": "ipython3",
   "version": "3.6.7"
  }
 },
 "nbformat": 4,
 "nbformat_minor": 2
}
